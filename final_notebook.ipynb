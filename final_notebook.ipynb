{
 "cells": [
  {
   "cell_type": "markdown",
   "metadata": {
    "id": "5e2648fa-3890-41f3-b12e-efbbdcb30f83"
   },
   "source": [
    "# 0- Introduction"
   ]
  },
  {
   "cell_type": "markdown",
   "metadata": {
    "id": "02b1df79-9c96-45bb-90d8-27536c53dca1"
   },
   "source": [
    "This is the final project of Master in Data Science at Kschool, the name of this project is \"Content-based Recommender\" and the author is José Mario Fernández González.\n",
    "\n",
    "The project is a film recommender which is based on a different way of recommendation than most of the recommenders give to the user. Recommenders usually are based in colaborative filtering, as the name suggests, is a filtering based in scores which every user gives to the film, however content-based filtering is designed to extract information about content of the film (genre, actors, overview...), process the content and make it able to compare to each film in the dataset.\n",
    "\n",
    "The method to get this recommendation is based in cosine similarity, so we treat each film like a vector and we can find the most similar based on getting each cosine with each film, and get the highest similarities. So we need a matrix that contains information about content, so we decided that a TF-IDF matrix could achieve the goal. In short, we need tu build a matrix with information in each row about a film and compare them with cosine.\n",
    "\n",
    "This means that we only need content information and not biased information like scores or opinions, nevertheless we need a record of the films watched by the user to recommend something.\n",
    "\n",
    "This notebook and the data used in this notebook is avaliable at\n",
    "\n",
    "In terms of software required to this program it is required to have a a high performance machine. Most of the code can be computed in a personal computer, but some lines need to have a top performance machine or instead of that, it was computed in a machine provided by IBM compatible with python 3.7 and performance of 6 vCPU and 64 Gb of RAM. So it can be considered as the minimum requirements to run all the code \n",
    "\n",
    "\n",
    "Note: Lines marked as \"#### High performance #####\" probably require a high performance machine."
   ]
  },
  {
   "cell_type": "markdown",
   "metadata": {
    "id": "e175fabc-a0f3-4b8f-b318-926c3f08af3e"
   },
   "source": [
    "# Import"
   ]
  },
  {
   "cell_type": "code",
   "execution_count": 1,
   "metadata": {
    "id": "awmNPfQFsthK"
   },
   "outputs": [
    {
     "name": "stderr",
     "output_type": "stream",
     "text": [
      "[nltk_data] Downloading package punkt to /home/wsuser/nltk_data...\n",
      "[nltk_data]   Unzipping tokenizers/punkt.zip.\n",
      "[nltk_data] Downloading package stopwords to /home/wsuser/nltk_data...\n",
      "[nltk_data]   Unzipping corpora/stopwords.zip.\n",
      "[nltk_data] Downloading package wordnet to /home/wsuser/nltk_data...\n",
      "[nltk_data]   Unzipping corpora/wordnet.zip.\n"
     ]
    }
   ],
   "source": [
    "import pandas as pd\n",
    "import numpy as np\n",
    "import sklearn as sk\n",
    "import re\n",
    "import nltk\n",
    "import matplotlib.pyplot as plt\n",
    "import datetime\n",
    "import warnings\n",
    "warnings.filterwarnings('ignore')\n",
    "\n",
    "nltk.download('punkt')\n",
    "nltk.download('stopwords')\n",
    "nltk.download('wordnet')\n",
    "\n",
    "from nltk.tokenize import word_tokenize\n",
    "from nltk.corpus import stopwords\n",
    "from nltk.stem import SnowballStemmer\n",
    "from nltk import FreqDist\n",
    "\n",
    "from sklearn.feature_extraction.text import TfidfVectorizer, CountVectorizer\n",
    "from sklearn.decomposition import PCA\n",
    "from sklearn.pipeline import make_pipeline\n",
    "from sklearn.metrics.pairwise import cosine_similarity"
   ]
  },
  {
   "cell_type": "markdown",
   "metadata": {
    "id": "9e363c3a-a33b-4f54-af14-7335c9fd85ab"
   },
   "source": [
    "# 1- Data"
   ]
  },
  {
   "cell_type": "markdown",
   "metadata": {
    "id": "54ee3237-fca7-4c2e-a159-a3e4ea951ef6"
   },
   "source": [
    "## 1.1- Read the data"
   ]
  },
  {
   "cell_type": "markdown",
   "metadata": {
    "id": "84036144-c7d5-4f22-8513-cfd0d64870b9"
   },
   "source": [
    "First of all the data is from \"movies_final.csv\" which is included in the project and its from\n",
    "\n",
    "https://www.kaggle.com/ibtesama/getting-started-with-a-movie-recommendation-system/data\n",
    "\n",
    "The data was previously preprocessed from the dataset \"movies_medata.csv\" wich has a dictionary type variables, so it was previously adapted to a tipical dataset wich makes easier to preprocess."
   ]
  },
  {
   "cell_type": "code",
   "execution_count": 2,
   "metadata": {
    "colab": {
     "base_uri": "https://localhost:8080/",
     "height": 72,
     "resources": {
      "http://localhost:8080/nbextensions/google.colab/files.js": {
       "data": "Ly8gQ29weXJpZ2h0IDIwMTcgR29vZ2xlIExMQwovLwovLyBMaWNlbnNlZCB1bmRlciB0aGUgQXBhY2hlIExpY2Vuc2UsIFZlcnNpb24gMi4wICh0aGUgIkxpY2Vuc2UiKTsKLy8geW91IG1heSBub3QgdXNlIHRoaXMgZmlsZSBleGNlcHQgaW4gY29tcGxpYW5jZSB3aXRoIHRoZSBMaWNlbnNlLgovLyBZb3UgbWF5IG9idGFpbiBhIGNvcHkgb2YgdGhlIExpY2Vuc2UgYXQKLy8KLy8gICAgICBodHRwOi8vd3d3LmFwYWNoZS5vcmcvbGljZW5zZXMvTElDRU5TRS0yLjAKLy8KLy8gVW5sZXNzIHJlcXVpcmVkIGJ5IGFwcGxpY2FibGUgbGF3IG9yIGFncmVlZCB0byBpbiB3cml0aW5nLCBzb2Z0d2FyZQovLyBkaXN0cmlidXRlZCB1bmRlciB0aGUgTGljZW5zZSBpcyBkaXN0cmlidXRlZCBvbiBhbiAiQVMgSVMiIEJBU0lTLAovLyBXSVRIT1VUIFdBUlJBTlRJRVMgT1IgQ09ORElUSU9OUyBPRiBBTlkgS0lORCwgZWl0aGVyIGV4cHJlc3Mgb3IgaW1wbGllZC4KLy8gU2VlIHRoZSBMaWNlbnNlIGZvciB0aGUgc3BlY2lmaWMgbGFuZ3VhZ2UgZ292ZXJuaW5nIHBlcm1pc3Npb25zIGFuZAovLyBsaW1pdGF0aW9ucyB1bmRlciB0aGUgTGljZW5zZS4KCi8qKgogKiBAZmlsZW92ZXJ2aWV3IEhlbHBlcnMgZm9yIGdvb2dsZS5jb2xhYiBQeXRob24gbW9kdWxlLgogKi8KKGZ1bmN0aW9uKHNjb3BlKSB7CmZ1bmN0aW9uIHNwYW4odGV4dCwgc3R5bGVBdHRyaWJ1dGVzID0ge30pIHsKICBjb25zdCBlbGVtZW50ID0gZG9jdW1lbnQuY3JlYXRlRWxlbWVudCgnc3BhbicpOwogIGVsZW1lbnQudGV4dENvbnRlbnQgPSB0ZXh0OwogIGZvciAoY29uc3Qga2V5IG9mIE9iamVjdC5rZXlzKHN0eWxlQXR0cmlidXRlcykpIHsKICAgIGVsZW1lbnQuc3R5bGVba2V5XSA9IHN0eWxlQXR0cmlidXRlc1trZXldOwogIH0KICByZXR1cm4gZWxlbWVudDsKfQoKLy8gTWF4IG51bWJlciBvZiBieXRlcyB3aGljaCB3aWxsIGJlIHVwbG9hZGVkIGF0IGEgdGltZS4KY29uc3QgTUFYX1BBWUxPQURfU0laRSA9IDEwMCAqIDEwMjQ7CgpmdW5jdGlvbiBfdXBsb2FkRmlsZXMoaW5wdXRJZCwgb3V0cHV0SWQpIHsKICBjb25zdCBzdGVwcyA9IHVwbG9hZEZpbGVzU3RlcChpbnB1dElkLCBvdXRwdXRJZCk7CiAgY29uc3Qgb3V0cHV0RWxlbWVudCA9IGRvY3VtZW50LmdldEVsZW1lbnRCeUlkKG91dHB1dElkKTsKICAvLyBDYWNoZSBzdGVwcyBvbiB0aGUgb3V0cHV0RWxlbWVudCB0byBtYWtlIGl0IGF2YWlsYWJsZSBmb3IgdGhlIG5leHQgY2FsbAogIC8vIHRvIHVwbG9hZEZpbGVzQ29udGludWUgZnJvbSBQeXRob24uCiAgb3V0cHV0RWxlbWVudC5zdGVwcyA9IHN0ZXBzOwoKICByZXR1cm4gX3VwbG9hZEZpbGVzQ29udGludWUob3V0cHV0SWQpOwp9CgovLyBUaGlzIGlzIHJvdWdobHkgYW4gYXN5bmMgZ2VuZXJhdG9yIChub3Qgc3VwcG9ydGVkIGluIHRoZSBicm93c2VyIHlldCksCi8vIHdoZXJlIHRoZXJlIGFyZSBtdWx0aXBsZSBhc3luY2hyb25vdXMgc3RlcHMgYW5kIHRoZSBQeXRob24gc2lkZSBpcyBnb2luZwovLyB0byBwb2xsIGZvciBjb21wbGV0aW9uIG9mIGVhY2ggc3RlcC4KLy8gVGhpcyB1c2VzIGEgUHJvbWlzZSB0byBibG9jayB0aGUgcHl0aG9uIHNpZGUgb24gY29tcGxldGlvbiBvZiBlYWNoIHN0ZXAsCi8vIHRoZW4gcGFzc2VzIHRoZSByZXN1bHQgb2YgdGhlIHByZXZpb3VzIHN0ZXAgYXMgdGhlIGlucHV0IHRvIHRoZSBuZXh0IHN0ZXAuCmZ1bmN0aW9uIF91cGxvYWRGaWxlc0NvbnRpbnVlKG91dHB1dElkKSB7CiAgY29uc3Qgb3V0cHV0RWxlbWVudCA9IGRvY3VtZW50LmdldEVsZW1lbnRCeUlkKG91dHB1dElkKTsKICBjb25zdCBzdGVwcyA9IG91dHB1dEVsZW1lbnQuc3RlcHM7CgogIGNvbnN0IG5leHQgPSBzdGVwcy5uZXh0KG91dHB1dEVsZW1lbnQubGFzdFByb21pc2VWYWx1ZSk7CiAgcmV0dXJuIFByb21pc2UucmVzb2x2ZShuZXh0LnZhbHVlLnByb21pc2UpLnRoZW4oKHZhbHVlKSA9PiB7CiAgICAvLyBDYWNoZSB0aGUgbGFzdCBwcm9taXNlIHZhbHVlIHRvIG1ha2UgaXQgYXZhaWxhYmxlIHRvIHRoZSBuZXh0CiAgICAvLyBzdGVwIG9mIHRoZSBnZW5lcmF0b3IuCiAgICBvdXRwdXRFbGVtZW50Lmxhc3RQcm9taXNlVmFsdWUgPSB2YWx1ZTsKICAgIHJldHVybiBuZXh0LnZhbHVlLnJlc3BvbnNlOwogIH0pOwp9CgovKioKICogR2VuZXJhdG9yIGZ1bmN0aW9uIHdoaWNoIGlzIGNhbGxlZCBiZXR3ZWVuIGVhY2ggYXN5bmMgc3RlcCBvZiB0aGUgdXBsb2FkCiAqIHByb2Nlc3MuCiAqIEBwYXJhbSB7c3RyaW5nfSBpbnB1dElkIEVsZW1lbnQgSUQgb2YgdGhlIGlucHV0IGZpbGUgcGlja2VyIGVsZW1lbnQuCiAqIEBwYXJhbSB7c3RyaW5nfSBvdXRwdXRJZCBFbGVtZW50IElEIG9mIHRoZSBvdXRwdXQgZGlzcGxheS4KICogQHJldHVybiB7IUl0ZXJhYmxlPCFPYmplY3Q+fSBJdGVyYWJsZSBvZiBuZXh0IHN0ZXBzLgogKi8KZnVuY3Rpb24qIHVwbG9hZEZpbGVzU3RlcChpbnB1dElkLCBvdXRwdXRJZCkgewogIGNvbnN0IGlucHV0RWxlbWVudCA9IGRvY3VtZW50LmdldEVsZW1lbnRCeUlkKGlucHV0SWQpOwogIGlucHV0RWxlbWVudC5kaXNhYmxlZCA9IGZhbHNlOwoKICBjb25zdCBvdXRwdXRFbGVtZW50ID0gZG9jdW1lbnQuZ2V0RWxlbWVudEJ5SWQob3V0cHV0SWQpOwogIG91dHB1dEVsZW1lbnQuaW5uZXJIVE1MID0gJyc7CgogIGNvbnN0IHBpY2tlZFByb21pc2UgPSBuZXcgUHJvbWlzZSgocmVzb2x2ZSkgPT4gewogICAgaW5wdXRFbGVtZW50LmFkZEV2ZW50TGlzdGVuZXIoJ2NoYW5nZScsIChlKSA9PiB7CiAgICAgIHJlc29sdmUoZS50YXJnZXQuZmlsZXMpOwogICAgfSk7CiAgfSk7CgogIGNvbnN0IGNhbmNlbCA9IGRvY3VtZW50LmNyZWF0ZUVsZW1lbnQoJ2J1dHRvbicpOwogIGlucHV0RWxlbWVudC5wYXJlbnRFbGVtZW50LmFwcGVuZENoaWxkKGNhbmNlbCk7CiAgY2FuY2VsLnRleHRDb250ZW50ID0gJ0NhbmNlbCB1cGxvYWQnOwogIGNvbnN0IGNhbmNlbFByb21pc2UgPSBuZXcgUHJvbWlzZSgocmVzb2x2ZSkgPT4gewogICAgY2FuY2VsLm9uY2xpY2sgPSAoKSA9PiB7CiAgICAgIHJlc29sdmUobnVsbCk7CiAgICB9OwogIH0pOwoKICAvLyBXYWl0IGZvciB0aGUgdXNlciB0byBwaWNrIHRoZSBmaWxlcy4KICBjb25zdCBmaWxlcyA9IHlpZWxkIHsKICAgIHByb21pc2U6IFByb21pc2UucmFjZShbcGlja2VkUHJvbWlzZSwgY2FuY2VsUHJvbWlzZV0pLAogICAgcmVzcG9uc2U6IHsKICAgICAgYWN0aW9uOiAnc3RhcnRpbmcnLAogICAgfQogIH07CgogIGNhbmNlbC5yZW1vdmUoKTsKCiAgLy8gRGlzYWJsZSB0aGUgaW5wdXQgZWxlbWVudCBzaW5jZSBmdXJ0aGVyIHBpY2tzIGFyZSBub3QgYWxsb3dlZC4KICBpbnB1dEVsZW1lbnQuZGlzYWJsZWQgPSB0cnVlOwoKICBpZiAoIWZpbGVzKSB7CiAgICByZXR1cm4gewogICAgICByZXNwb25zZTogewogICAgICAgIGFjdGlvbjogJ2NvbXBsZXRlJywKICAgICAgfQogICAgfTsKICB9CgogIGZvciAoY29uc3QgZmlsZSBvZiBmaWxlcykgewogICAgY29uc3QgbGkgPSBkb2N1bWVudC5jcmVhdGVFbGVtZW50KCdsaScpOwogICAgbGkuYXBwZW5kKHNwYW4oZmlsZS5uYW1lLCB7Zm9udFdlaWdodDogJ2JvbGQnfSkpOwogICAgbGkuYXBwZW5kKHNwYW4oCiAgICAgICAgYCgke2ZpbGUudHlwZSB8fCAnbi9hJ30pIC0gJHtmaWxlLnNpemV9IGJ5dGVzLCBgICsKICAgICAgICBgbGFzdCBtb2RpZmllZDogJHsKICAgICAgICAgICAgZmlsZS5sYXN0TW9kaWZpZWREYXRlID8gZmlsZS5sYXN0TW9kaWZpZWREYXRlLnRvTG9jYWxlRGF0ZVN0cmluZygpIDoKICAgICAgICAgICAgICAgICAgICAgICAgICAgICAgICAgICAgJ24vYSd9IC0gYCkpOwogICAgY29uc3QgcGVyY2VudCA9IHNwYW4oJzAlIGRvbmUnKTsKICAgIGxpLmFwcGVuZENoaWxkKHBlcmNlbnQpOwoKICAgIG91dHB1dEVsZW1lbnQuYXBwZW5kQ2hpbGQobGkpOwoKICAgIGNvbnN0IGZpbGVEYXRhUHJvbWlzZSA9IG5ldyBQcm9taXNlKChyZXNvbHZlKSA9PiB7CiAgICAgIGNvbnN0IHJlYWRlciA9IG5ldyBGaWxlUmVhZGVyKCk7CiAgICAgIHJlYWRlci5vbmxvYWQgPSAoZSkgPT4gewogICAgICAgIHJlc29sdmUoZS50YXJnZXQucmVzdWx0KTsKICAgICAgfTsKICAgICAgcmVhZGVyLnJlYWRBc0FycmF5QnVmZmVyKGZpbGUpOwogICAgfSk7CiAgICAvLyBXYWl0IGZvciB0aGUgZGF0YSB0byBiZSByZWFkeS4KICAgIGxldCBmaWxlRGF0YSA9IHlpZWxkIHsKICAgICAgcHJvbWlzZTogZmlsZURhdGFQcm9taXNlLAogICAgICByZXNwb25zZTogewogICAgICAgIGFjdGlvbjogJ2NvbnRpbnVlJywKICAgICAgfQogICAgfTsKCiAgICAvLyBVc2UgYSBjaHVua2VkIHNlbmRpbmcgdG8gYXZvaWQgbWVzc2FnZSBzaXplIGxpbWl0cy4gU2VlIGIvNjIxMTU2NjAuCiAgICBsZXQgcG9zaXRpb24gPSAwOwogICAgZG8gewogICAgICBjb25zdCBsZW5ndGggPSBNYXRoLm1pbihmaWxlRGF0YS5ieXRlTGVuZ3RoIC0gcG9zaXRpb24sIE1BWF9QQVlMT0FEX1NJWkUpOwogICAgICBjb25zdCBjaHVuayA9IG5ldyBVaW50OEFycmF5KGZpbGVEYXRhLCBwb3NpdGlvbiwgbGVuZ3RoKTsKICAgICAgcG9zaXRpb24gKz0gbGVuZ3RoOwoKICAgICAgY29uc3QgYmFzZTY0ID0gYnRvYShTdHJpbmcuZnJvbUNoYXJDb2RlLmFwcGx5KG51bGwsIGNodW5rKSk7CiAgICAgIHlpZWxkIHsKICAgICAgICByZXNwb25zZTogewogICAgICAgICAgYWN0aW9uOiAnYXBwZW5kJywKICAgICAgICAgIGZpbGU6IGZpbGUubmFtZSwKICAgICAgICAgIGRhdGE6IGJhc2U2NCwKICAgICAgICB9LAogICAgICB9OwoKICAgICAgbGV0IHBlcmNlbnREb25lID0gZmlsZURhdGEuYnl0ZUxlbmd0aCA9PT0gMCA/CiAgICAgICAgICAxMDAgOgogICAgICAgICAgTWF0aC5yb3VuZCgocG9zaXRpb24gLyBmaWxlRGF0YS5ieXRlTGVuZ3RoKSAqIDEwMCk7CiAgICAgIHBlcmNlbnQudGV4dENvbnRlbnQgPSBgJHtwZXJjZW50RG9uZX0lIGRvbmVgOwoKICAgIH0gd2hpbGUgKHBvc2l0aW9uIDwgZmlsZURhdGEuYnl0ZUxlbmd0aCk7CiAgfQoKICAvLyBBbGwgZG9uZS4KICB5aWVsZCB7CiAgICByZXNwb25zZTogewogICAgICBhY3Rpb246ICdjb21wbGV0ZScsCiAgICB9CiAgfTsKfQoKc2NvcGUuZ29vZ2xlID0gc2NvcGUuZ29vZ2xlIHx8IHt9OwpzY29wZS5nb29nbGUuY29sYWIgPSBzY29wZS5nb29nbGUuY29sYWIgfHwge307CnNjb3BlLmdvb2dsZS5jb2xhYi5fZmlsZXMgPSB7CiAgX3VwbG9hZEZpbGVzLAogIF91cGxvYWRGaWxlc0NvbnRpbnVlLAp9Owp9KShzZWxmKTsK",
       "headers": [
        [
         "content-type",
         "application/javascript"
        ]
       ],
       "ok": true,
       "status": 200,
       "status_text": ""
      }
     }
    },
    "id": "rMEX3LvhyqyS",
    "outputId": "90576d47-0c34-4efa-d42e-3bea969ccc71"
   },
   "outputs": [
    {
     "data": {
      "text/plain": [
       "(46628, 20)"
      ]
     },
     "execution_count": 2,
     "metadata": {},
     "output_type": "execute_result"
    }
   ],
   "source": [
    "df = pd.read_csv('movies_final.csv')\n",
    "df.shape"
   ]
  },
  {
   "cell_type": "code",
   "execution_count": 3,
   "metadata": {
    "id": "a3c89377-43de-4fd7-85a4-db4435a41191"
   },
   "outputs": [
    {
     "data": {
      "text/html": [
       "<div>\n",
       "<style scoped>\n",
       "    .dataframe tbody tr th:only-of-type {\n",
       "        vertical-align: middle;\n",
       "    }\n",
       "\n",
       "    .dataframe tbody tr th {\n",
       "        vertical-align: top;\n",
       "    }\n",
       "\n",
       "    .dataframe thead th {\n",
       "        text-align: right;\n",
       "    }\n",
       "</style>\n",
       "<table border=\"1\" class=\"dataframe\">\n",
       "  <thead>\n",
       "    <tr style=\"text-align: right;\">\n",
       "      <th></th>\n",
       "      <th>Unnamed: 0</th>\n",
       "      <th>adult</th>\n",
       "      <th>genres</th>\n",
       "      <th>id</th>\n",
       "      <th>original_language</th>\n",
       "      <th>original_title</th>\n",
       "      <th>overview</th>\n",
       "      <th>popularity</th>\n",
       "      <th>production_companies</th>\n",
       "      <th>production_countries</th>\n",
       "      <th>release_date</th>\n",
       "      <th>runtime</th>\n",
       "      <th>title</th>\n",
       "      <th>vote_average</th>\n",
       "      <th>vote_count</th>\n",
       "      <th>keywords</th>\n",
       "      <th>actor_1_name</th>\n",
       "      <th>actor_2_name</th>\n",
       "      <th>actor_3_name</th>\n",
       "      <th>director_name</th>\n",
       "    </tr>\n",
       "  </thead>\n",
       "  <tbody>\n",
       "    <tr>\n",
       "      <th>33479</th>\n",
       "      <td>33479</td>\n",
       "      <td>False</td>\n",
       "      <td>comedy family music tv movie</td>\n",
       "      <td>115626</td>\n",
       "      <td>en</td>\n",
       "      <td>stuck in the suburbs</td>\n",
       "      <td>brittany aarons  is one of the many girls who ...</td>\n",
       "      <td>6.508145</td>\n",
       "      <td></td>\n",
       "      <td></td>\n",
       "      <td>2004-07-16</td>\n",
       "      <td>76.0</td>\n",
       "      <td>stuck in the suburbs</td>\n",
       "      <td>5.2</td>\n",
       "      <td>40.0</td>\n",
       "      <td>pop star teen movie teenager cell phone</td>\n",
       "      <td>Danielle Panabaker</td>\n",
       "      <td>Brenda Song</td>\n",
       "      <td>Ryan Belleville</td>\n",
       "      <td>Savage Steve Holland</td>\n",
       "    </tr>\n",
       "    <tr>\n",
       "      <th>30740</th>\n",
       "      <td>30740</td>\n",
       "      <td>False</td>\n",
       "      <td>crime drama</td>\n",
       "      <td>84450</td>\n",
       "      <td>en</td>\n",
       "      <td>buster and billie</td>\n",
       "      <td>dimwitted but sweet high school girl of easy v...</td>\n",
       "      <td>0.139507</td>\n",
       "      <td>black creek billie</td>\n",
       "      <td>united states of america</td>\n",
       "      <td>1974-08-21</td>\n",
       "      <td>100.0</td>\n",
       "      <td>buster e billie</td>\n",
       "      <td>5.0</td>\n",
       "      <td>2.0</td>\n",
       "      <td>rape</td>\n",
       "      <td>Jan-Michael Vincent</td>\n",
       "      <td>Joan Goodfellow</td>\n",
       "      <td>Pamela Sue Martin</td>\n",
       "      <td>Sidney Sheldon Daniel Petrie</td>\n",
       "    </tr>\n",
       "    <tr>\n",
       "      <th>35725</th>\n",
       "      <td>35725</td>\n",
       "      <td>False</td>\n",
       "      <td>documentary</td>\n",
       "      <td>320587</td>\n",
       "      <td>en</td>\n",
       "      <td>a brave heart: the lizzie velasquez story</td>\n",
       "      <td>a documentary following the inspiring journey ...</td>\n",
       "      <td>0.161354</td>\n",
       "      <td></td>\n",
       "      <td>mexico ,  united states of america ,  spain</td>\n",
       "      <td>2015-03-14</td>\n",
       "      <td>90.0</td>\n",
       "      <td>a brave heart: the lizzie velasquez story</td>\n",
       "      <td>8.3</td>\n",
       "      <td>4.0</td>\n",
       "      <td>biography woman director</td>\n",
       "      <td>Lizzie Velasquez</td>\n",
       "      <td>NaN</td>\n",
       "      <td>NaN</td>\n",
       "      <td>Sara Bordo</td>\n",
       "    </tr>\n",
       "    <tr>\n",
       "      <th>26098</th>\n",
       "      <td>26098</td>\n",
       "      <td>False</td>\n",
       "      <td>comedy drama</td>\n",
       "      <td>11752</td>\n",
       "      <td>de</td>\n",
       "      <td>freche mädchen</td>\n",
       "      <td>three teen aged girlfriends navigate multiple ...</td>\n",
       "      <td>1.231199</td>\n",
       "      <td>constantin film    collina filmproduktion</td>\n",
       "      <td>germany</td>\n",
       "      <td>2008-07-17</td>\n",
       "      <td>97.0</td>\n",
       "      <td>cheeky girls</td>\n",
       "      <td>5.5</td>\n",
       "      <td>8.0</td>\n",
       "      <td>learning and teaching teacher teenage crush wo...</td>\n",
       "      <td>Emilia Schüle</td>\n",
       "      <td>Selina Shirin Müller</td>\n",
       "      <td>Henriette Nagel</td>\n",
       "      <td>Ute Wieland</td>\n",
       "    </tr>\n",
       "    <tr>\n",
       "      <th>33568</th>\n",
       "      <td>33568</td>\n",
       "      <td>False</td>\n",
       "      <td>NaN</td>\n",
       "      <td>62091</td>\n",
       "      <td>en</td>\n",
       "      <td>city across the river</td>\n",
       "      <td>brooklyn youth frank cusack  good son and brot...</td>\n",
       "      <td>0.042484</td>\n",
       "      <td></td>\n",
       "      <td></td>\n",
       "      <td>1949-04-07</td>\n",
       "      <td>91.0</td>\n",
       "      <td>city across the river</td>\n",
       "      <td>5.0</td>\n",
       "      <td>1.0</td>\n",
       "      <td>NaN</td>\n",
       "      <td>Stephen McNally</td>\n",
       "      <td>Thelma Ritter</td>\n",
       "      <td>Luis van Rooten</td>\n",
       "      <td>Maxwell Shane</td>\n",
       "    </tr>\n",
       "    <tr>\n",
       "      <th>10849</th>\n",
       "      <td>10849</td>\n",
       "      <td>False</td>\n",
       "      <td>drama romance</td>\n",
       "      <td>12116</td>\n",
       "      <td>fr</td>\n",
       "      <td>l'amour l'après-midi</td>\n",
       "      <td>the last of rohmer s six moral tales  frederic...</td>\n",
       "      <td>1.474925</td>\n",
       "      <td>les films du losange</td>\n",
       "      <td>france</td>\n",
       "      <td>1972-08-21</td>\n",
       "      <td>97.0</td>\n",
       "      <td>love in the afternoon</td>\n",
       "      <td>7.6</td>\n",
       "      <td>24.0</td>\n",
       "      <td>man between two women nouvelle vague</td>\n",
       "      <td>Bernard Verley</td>\n",
       "      <td>Françoise Verley</td>\n",
       "      <td>Zouzou</td>\n",
       "      <td>Éric Rohmer</td>\n",
       "    </tr>\n",
       "    <tr>\n",
       "      <th>6190</th>\n",
       "      <td>6190</td>\n",
       "      <td>False</td>\n",
       "      <td>action adventure drama family</td>\n",
       "      <td>18992</td>\n",
       "      <td>en</td>\n",
       "      <td>my friend flicka</td>\n",
       "      <td>ken mclaughlin (roddy mcdowall) is a precociou...</td>\n",
       "      <td>0.709930</td>\n",
       "      <td>twentieth century fox film corporation</td>\n",
       "      <td>united states of america</td>\n",
       "      <td>1943-05-26</td>\n",
       "      <td>89.0</td>\n",
       "      <td>my friend flicka</td>\n",
       "      <td>3.8</td>\n",
       "      <td>2.0</td>\n",
       "      <td>horse ranch colt horse ranch</td>\n",
       "      <td>Roddy McDowall</td>\n",
       "      <td>Preston Foster</td>\n",
       "      <td>Rita Johnson</td>\n",
       "      <td>Harold D. Schuster</td>\n",
       "    </tr>\n",
       "    <tr>\n",
       "      <th>5677</th>\n",
       "      <td>5677</td>\n",
       "      <td>False</td>\n",
       "      <td>drama romance</td>\n",
       "      <td>35685</td>\n",
       "      <td>en</td>\n",
       "      <td>lady chatterley's lover</td>\n",
       "      <td>a film adaptation of d h  lawrence s novel  af...</td>\n",
       "      <td>8.637148</td>\n",
       "      <td>london cannon films    cine artist film gmbh...</td>\n",
       "      <td>france ,  germany ,  united kingdom</td>\n",
       "      <td>1981-06-29</td>\n",
       "      <td>104.0</td>\n",
       "      <td>lady chatterley's lover</td>\n",
       "      <td>5.4</td>\n",
       "      <td>16.0</td>\n",
       "      <td>male nudity female nudity nurse sex adultery b...</td>\n",
       "      <td>Sylvia Kristel</td>\n",
       "      <td>Shane Briant</td>\n",
       "      <td>Nicholas Clay</td>\n",
       "      <td>Just Jaeckin</td>\n",
       "    </tr>\n",
       "    <tr>\n",
       "      <th>21792</th>\n",
       "      <td>21792</td>\n",
       "      <td>False</td>\n",
       "      <td>comedy</td>\n",
       "      <td>180810</td>\n",
       "      <td>en</td>\n",
       "      <td>and now a word from our sponsor</td>\n",
       "      <td>adan kundle  ceo of a major advertising agency...</td>\n",
       "      <td>1.393660</td>\n",
       "      <td></td>\n",
       "      <td>canada</td>\n",
       "      <td>2013-05-10</td>\n",
       "      <td>87.0</td>\n",
       "      <td>and now a word from our sponsor</td>\n",
       "      <td>4.6</td>\n",
       "      <td>14.0</td>\n",
       "      <td>NaN</td>\n",
       "      <td>Bruce Greenwood</td>\n",
       "      <td>Parker Posey</td>\n",
       "      <td>Callum Blue</td>\n",
       "      <td>Zack Bernbaum</td>\n",
       "    </tr>\n",
       "    <tr>\n",
       "      <th>45057</th>\n",
       "      <td>45057</td>\n",
       "      <td>False</td>\n",
       "      <td>drama music romance</td>\n",
       "      <td>86231</td>\n",
       "      <td>en</td>\n",
       "      <td>the in crowd</td>\n",
       "      <td>a young man of the rock and roll generation is...</td>\n",
       "      <td>0.755195</td>\n",
       "      <td>force 10 productions</td>\n",
       "      <td>united states of america</td>\n",
       "      <td>1988-02-01</td>\n",
       "      <td>95.0</td>\n",
       "      <td>the in crowd</td>\n",
       "      <td>5.3</td>\n",
       "      <td>5.0</td>\n",
       "      <td>NaN</td>\n",
       "      <td>Donovan Leitch</td>\n",
       "      <td>Joe Pantoliano</td>\n",
       "      <td>Jennifer Runyon</td>\n",
       "      <td>Mark Rosenthal</td>\n",
       "    </tr>\n",
       "  </tbody>\n",
       "</table>\n",
       "</div>"
      ],
      "text/plain": [
       "       Unnamed: 0  adult                         genres      id  \\\n",
       "33479       33479  False   comedy family music tv movie  115626   \n",
       "30740       30740  False                    crime drama   84450   \n",
       "35725       35725  False                    documentary  320587   \n",
       "26098       26098  False                   comedy drama   11752   \n",
       "33568       33568  False                            NaN   62091   \n",
       "10849       10849  False                  drama romance   12116   \n",
       "6190         6190  False  action adventure drama family   18992   \n",
       "5677         5677  False                  drama romance   35685   \n",
       "21792       21792  False                         comedy  180810   \n",
       "45057       45057  False            drama music romance   86231   \n",
       "\n",
       "      original_language                             original_title  \\\n",
       "33479                en                       stuck in the suburbs   \n",
       "30740                en                          buster and billie   \n",
       "35725                en  a brave heart: the lizzie velasquez story   \n",
       "26098                de                             freche mädchen   \n",
       "33568                en                      city across the river   \n",
       "10849                fr                       l'amour l'après-midi   \n",
       "6190                 en                           my friend flicka   \n",
       "5677                 en                    lady chatterley's lover   \n",
       "21792                en            and now a word from our sponsor   \n",
       "45057                en                               the in crowd   \n",
       "\n",
       "                                                overview  popularity  \\\n",
       "33479  brittany aarons  is one of the many girls who ...    6.508145   \n",
       "30740  dimwitted but sweet high school girl of easy v...    0.139507   \n",
       "35725  a documentary following the inspiring journey ...    0.161354   \n",
       "26098  three teen aged girlfriends navigate multiple ...    1.231199   \n",
       "33568  brooklyn youth frank cusack  good son and brot...    0.042484   \n",
       "10849  the last of rohmer s six moral tales  frederic...    1.474925   \n",
       "6190   ken mclaughlin (roddy mcdowall) is a precociou...    0.709930   \n",
       "5677   a film adaptation of d h  lawrence s novel  af...    8.637148   \n",
       "21792  adan kundle  ceo of a major advertising agency...    1.393660   \n",
       "45057  a young man of the rock and roll generation is...    0.755195   \n",
       "\n",
       "                                    production_companies  \\\n",
       "33479                                                      \n",
       "30740                               black creek billie     \n",
       "35725                                                      \n",
       "26098        constantin film    collina filmproduktion     \n",
       "33568                                                      \n",
       "10849                             les films du losange     \n",
       "6190            twentieth century fox film corporation     \n",
       "5677     london cannon films    cine artist film gmbh...   \n",
       "21792                                                      \n",
       "45057                             force 10 productions     \n",
       "\n",
       "                                  production_countries release_date  runtime  \\\n",
       "33479                                                    2004-07-16     76.0   \n",
       "30740                       united states of america     1974-08-21    100.0   \n",
       "35725    mexico ,  united states of america ,  spain     2015-03-14     90.0   \n",
       "26098                                        germany     2008-07-17     97.0   \n",
       "33568                                                    1949-04-07     91.0   \n",
       "10849                                         france     1972-08-21     97.0   \n",
       "6190                        united states of america     1943-05-26     89.0   \n",
       "5677             france ,  germany ,  united kingdom     1981-06-29    104.0   \n",
       "21792                                         canada     2013-05-10     87.0   \n",
       "45057                       united states of america     1988-02-01     95.0   \n",
       "\n",
       "                                           title  vote_average  vote_count  \\\n",
       "33479                       stuck in the suburbs           5.2        40.0   \n",
       "30740                            buster e billie           5.0         2.0   \n",
       "35725  a brave heart: the lizzie velasquez story           8.3         4.0   \n",
       "26098                               cheeky girls           5.5         8.0   \n",
       "33568                      city across the river           5.0         1.0   \n",
       "10849                      love in the afternoon           7.6        24.0   \n",
       "6190                            my friend flicka           3.8         2.0   \n",
       "5677                     lady chatterley's lover           5.4        16.0   \n",
       "21792            and now a word from our sponsor           4.6        14.0   \n",
       "45057                               the in crowd           5.3         5.0   \n",
       "\n",
       "                                                keywords         actor_1_name  \\\n",
       "33479            pop star teen movie teenager cell phone   Danielle Panabaker   \n",
       "30740                                               rape  Jan-Michael Vincent   \n",
       "35725                           biography woman director     Lizzie Velasquez   \n",
       "26098  learning and teaching teacher teenage crush wo...        Emilia Schüle   \n",
       "33568                                                NaN      Stephen McNally   \n",
       "10849               man between two women nouvelle vague       Bernard Verley   \n",
       "6190                        horse ranch colt horse ranch       Roddy McDowall   \n",
       "5677   male nudity female nudity nurse sex adultery b...       Sylvia Kristel   \n",
       "21792                                                NaN      Bruce Greenwood   \n",
       "45057                                                NaN       Donovan Leitch   \n",
       "\n",
       "               actor_2_name       actor_3_name                 director_name  \n",
       "33479           Brenda Song    Ryan Belleville          Savage Steve Holland  \n",
       "30740       Joan Goodfellow  Pamela Sue Martin  Sidney Sheldon Daniel Petrie  \n",
       "35725                   NaN                NaN                    Sara Bordo  \n",
       "26098  Selina Shirin Müller    Henriette Nagel                   Ute Wieland  \n",
       "33568         Thelma Ritter    Luis van Rooten                 Maxwell Shane  \n",
       "10849      Françoise Verley             Zouzou                   Éric Rohmer  \n",
       "6190         Preston Foster       Rita Johnson            Harold D. Schuster  \n",
       "5677           Shane Briant      Nicholas Clay                  Just Jaeckin  \n",
       "21792          Parker Posey        Callum Blue                 Zack Bernbaum  \n",
       "45057        Joe Pantoliano    Jennifer Runyon                Mark Rosenthal  "
      ]
     },
     "execution_count": 3,
     "metadata": {},
     "output_type": "execute_result"
    }
   ],
   "source": [
    "df.sample(10)"
   ]
  },
  {
   "cell_type": "markdown",
   "metadata": {
    "id": "e3b890d4-590e-45c8-8255-81dc82a894d2"
   },
   "source": [
    "## 1.2 Preprocess the data"
   ]
  },
  {
   "cell_type": "markdown",
   "metadata": {
    "id": "5b770821-8266-4fa4-9d5f-60b76ef27534"
   },
   "source": [
    "Next step will be preprocess the data to make it avaliable to make data avalaible to make the recommender and visualization. First of all we will drop unnecessary columns so we will make a recap of names and we will make the decision:"
   ]
  },
  {
   "cell_type": "code",
   "execution_count": 4,
   "metadata": {
    "id": "fe883cfb-264c-4faa-b141-964073144538"
   },
   "outputs": [
    {
     "data": {
      "text/plain": [
       "array(['Unnamed: 0', 'adult', 'genres', 'id', 'original_language',\n",
       "       'original_title', 'overview', 'popularity', 'production_companies',\n",
       "       'production_countries', 'release_date', 'runtime', 'title',\n",
       "       'vote_average', 'vote_count', 'keywords', 'actor_1_name',\n",
       "       'actor_2_name', 'actor_3_name', 'director_name'], dtype=object)"
      ]
     },
     "execution_count": 4,
     "metadata": {},
     "output_type": "execute_result"
    }
   ],
   "source": [
    "df.columns.values"
   ]
  },
  {
   "cell_type": "markdown",
   "metadata": {
    "id": "0807b975-8c8a-4faf-bb58-eb1b6bb20a91"
   },
   "source": [
    "So as we see the only columns we need is: \"adult\", \"genres\", \"original_title\"(or title), \"overview\", \"release_date\", \"keywords\", \"actor_1_name\", \"actor_2_name\", \"actor_3_name\", \"director_name\", all this column has information about content, so we will take them and wipe out the others"
   ]
  },
  {
   "cell_type": "code",
   "execution_count": 5,
   "metadata": {
    "id": "8448ec1a-a1b8-4b1f-8165-b2c125779a15"
   },
   "outputs": [],
   "source": [
    "df2 = df.drop(['Unnamed: 0','id','original_language', 'popularity', 'production_companies', 'production_countries', 'runtime',\n",
    "              'title', 'vote_average','vote_count'], axis = 1)"
   ]
  },
  {
   "cell_type": "markdown",
   "metadata": {
    "id": "cb433ee6-a83b-4167-86fd-f36eee49ec7a"
   },
   "source": [
    "Next step is to drop duplicate films, if we have duplicates we can recommend same film the user has in the feed because the recommender will give a high similarity about them."
   ]
  },
  {
   "cell_type": "code",
   "execution_count": 6,
   "metadata": {
    "id": "3b7ce5b5e2cc45f5af71e2ff25409e25"
   },
   "outputs": [],
   "source": [
    "df2 = df2.drop_duplicates(subset=['original_title'])"
   ]
  },
  {
   "cell_type": "code",
   "execution_count": 7,
   "metadata": {
    "id": "e19f38c3-5ed7-4d82-a695-1e1b73f1c9fe"
   },
   "outputs": [
    {
     "data": {
      "text/plain": [
       "(43327, 10)"
      ]
     },
     "execution_count": 7,
     "metadata": {},
     "output_type": "execute_result"
    }
   ],
   "source": [
    "df2.shape"
   ]
  },
  {
   "cell_type": "code",
   "execution_count": 8,
   "metadata": {
    "id": "ebe9c93f-ad2d-4ceb-b281-c4b2995d0a8a"
   },
   "outputs": [
    {
     "data": {
      "text/plain": [
       "(46628, 20)"
      ]
     },
     "execution_count": 8,
     "metadata": {},
     "output_type": "execute_result"
    }
   ],
   "source": [
    "df.shape # There are more than 3000 films duplicated"
   ]
  },
  {
   "cell_type": "markdown",
   "metadata": {
    "id": "060e793c-8abe-4a92-b885-d6ce9aa70a6a"
   },
   "source": [
    "Next step is to drop films which contains names in non-latin characters (we found them in some recommendations)."
   ]
  },
  {
   "cell_type": "code",
   "execution_count": 9,
   "metadata": {
    "id": "0fa4901410034340849a58dd7853a47a"
   },
   "outputs": [],
   "source": [
    "df3 = df2[~df2['original_title'].str.match(r'.*[^\\x00-\\xFF]')]"
   ]
  },
  {
   "cell_type": "code",
   "execution_count": 10,
   "metadata": {
    "id": "590decf7810a4e87b617bf79517a0113"
   },
   "outputs": [
    {
     "data": {
      "text/plain": [
       "(39594, 10)"
      ]
     },
     "execution_count": 10,
     "metadata": {},
     "output_type": "execute_result"
    }
   ],
   "source": [
    "df3.shape # That was near to 4000 films removed"
   ]
  },
  {
   "cell_type": "markdown",
   "metadata": {
    "id": "4lbjVPlUyM4a"
   },
   "source": []
  },
  {
   "cell_type": "code",
   "execution_count": 11,
   "metadata": {
    "colab": {
     "base_uri": "https://localhost:8080/",
     "height": 1000
    },
    "id": "uju9rHCctO4w",
    "outputId": "98f777e6-dfeb-4c9b-ea08-a858c7a41f5c"
   },
   "outputs": [
    {
     "data": {
      "text/html": [
       "<div>\n",
       "<style scoped>\n",
       "    .dataframe tbody tr th:only-of-type {\n",
       "        vertical-align: middle;\n",
       "    }\n",
       "\n",
       "    .dataframe tbody tr th {\n",
       "        vertical-align: top;\n",
       "    }\n",
       "\n",
       "    .dataframe thead th {\n",
       "        text-align: right;\n",
       "    }\n",
       "</style>\n",
       "<table border=\"1\" class=\"dataframe\">\n",
       "  <thead>\n",
       "    <tr style=\"text-align: right;\">\n",
       "      <th></th>\n",
       "      <th>adult</th>\n",
       "      <th>genres</th>\n",
       "      <th>original_title</th>\n",
       "      <th>overview</th>\n",
       "      <th>release_date</th>\n",
       "      <th>keywords</th>\n",
       "      <th>actor_1_name</th>\n",
       "      <th>actor_2_name</th>\n",
       "      <th>actor_3_name</th>\n",
       "      <th>director_name</th>\n",
       "    </tr>\n",
       "  </thead>\n",
       "  <tbody>\n",
       "    <tr>\n",
       "      <th>32672</th>\n",
       "      <td>False</td>\n",
       "      <td>thriller romance</td>\n",
       "      <td>blindside</td>\n",
       "      <td>harvey keitel plays penfield gruber  a once gr...</td>\n",
       "      <td>1987-09-01</td>\n",
       "      <td>hotel murder independent film espionage scient...</td>\n",
       "      <td>Harvey Keitel</td>\n",
       "      <td>Lori Hallier</td>\n",
       "      <td>Lolita Davidovich</td>\n",
       "      <td>Paul Lynch</td>\n",
       "    </tr>\n",
       "    <tr>\n",
       "      <th>15443</th>\n",
       "      <td>False</td>\n",
       "      <td>horror thriller</td>\n",
       "      <td>ligeia</td>\n",
       "      <td>successful writer and scholar jonathan merrick...</td>\n",
       "      <td>2009-11-05</td>\n",
       "      <td>NaN</td>\n",
       "      <td>Wes Bentley</td>\n",
       "      <td>Kaitlin Doubleday</td>\n",
       "      <td>Sofya Skya</td>\n",
       "      <td>Michael Staininger</td>\n",
       "    </tr>\n",
       "    <tr>\n",
       "      <th>13624</th>\n",
       "      <td>False</td>\n",
       "      <td>adventure action comedy science fiction music</td>\n",
       "      <td>dr. horrible's sing-along blog</td>\n",
       "      <td>dr  horrible  an aspiring supervillain with hi...</td>\n",
       "      <td>2008-07-15</td>\n",
       "      <td>anti hero musical parody mad scientist supervi...</td>\n",
       "      <td>Neil Patrick Harris</td>\n",
       "      <td>Nathan Fillion</td>\n",
       "      <td>Felicia Day</td>\n",
       "      <td>Joss Whedon</td>\n",
       "    </tr>\n",
       "    <tr>\n",
       "      <th>12577</th>\n",
       "      <td>False</td>\n",
       "      <td>drama</td>\n",
       "      <td>downhill racer</td>\n",
       "      <td>an ambitious young skier  determined to break ...</td>\n",
       "      <td>1969-11-06</td>\n",
       "      <td>sport teammate narcissism injury skiing</td>\n",
       "      <td>Sylvester Stallone</td>\n",
       "      <td>Robert Redford</td>\n",
       "      <td>Gene Hackman</td>\n",
       "      <td>Michael Ritchie</td>\n",
       "    </tr>\n",
       "    <tr>\n",
       "      <th>17866</th>\n",
       "      <td>False</td>\n",
       "      <td>drama thriller crime</td>\n",
       "      <td>tight spot</td>\n",
       "      <td>a former model  serving time in prison  become...</td>\n",
       "      <td>1955-03-19</td>\n",
       "      <td>witness trial district attorney</td>\n",
       "      <td>Ginger Rogers</td>\n",
       "      <td>Edward G. Robinson</td>\n",
       "      <td>Brian Keith</td>\n",
       "      <td>Phil Karlson</td>\n",
       "    </tr>\n",
       "    <tr>\n",
       "      <th>12648</th>\n",
       "      <td>False</td>\n",
       "      <td>comedy romance drama</td>\n",
       "      <td>forgetting sarah marshall</td>\n",
       "      <td>when sarah marshall dumps aspiring musician pe...</td>\n",
       "      <td>2008-04-17</td>\n",
       "      <td>hawaii one-night stand beauty</td>\n",
       "      <td>Jason Segel</td>\n",
       "      <td>Kristen Bell</td>\n",
       "      <td>Mila Kunis</td>\n",
       "      <td>Nicholas Stoller</td>\n",
       "    </tr>\n",
       "    <tr>\n",
       "      <th>16472</th>\n",
       "      <td>False</td>\n",
       "      <td>comedy drama</td>\n",
       "      <td>barney's version</td>\n",
       "      <td>the picaresque and touching story of the polit...</td>\n",
       "      <td>2010-10-26</td>\n",
       "      <td>suicide jealousy canada independent film polit...</td>\n",
       "      <td>Paul Giamatti</td>\n",
       "      <td>Dustin Hoffman</td>\n",
       "      <td>Rosamund Pike</td>\n",
       "      <td>Richard J. Lewis</td>\n",
       "    </tr>\n",
       "    <tr>\n",
       "      <th>17336</th>\n",
       "      <td>False</td>\n",
       "      <td>documentary</td>\n",
       "      <td>stonewall uprising</td>\n",
       "      <td>stonewall uprising is a 2010 american document...</td>\n",
       "      <td>2010-06-16</td>\n",
       "      <td>gay based on novel lgbt history stonewall riot</td>\n",
       "      <td>Paul Bosche</td>\n",
       "      <td>Alfredo del Rio</td>\n",
       "      <td>John DiGiacomo</td>\n",
       "      <td>Kate Davis David Heilbroner</td>\n",
       "    </tr>\n",
       "    <tr>\n",
       "      <th>17714</th>\n",
       "      <td>False</td>\n",
       "      <td>drama</td>\n",
       "      <td>tender is the night</td>\n",
       "      <td>director henry king s 1962 film adaptation of ...</td>\n",
       "      <td>1962-01-19</td>\n",
       "      <td>NaN</td>\n",
       "      <td>Jennifer Jones</td>\n",
       "      <td>Jason Robards</td>\n",
       "      <td>Joan Fontaine</td>\n",
       "      <td>Henry King</td>\n",
       "    </tr>\n",
       "    <tr>\n",
       "      <th>12033</th>\n",
       "      <td>False</td>\n",
       "      <td>fantasy comedy family</td>\n",
       "      <td>evan almighty</td>\n",
       "      <td>god contacts congressman evan baxter and tells...</td>\n",
       "      <td>2007-06-09</td>\n",
       "      <td>father son relationship daily life married cou...</td>\n",
       "      <td>Steve Carell</td>\n",
       "      <td>Lauren Graham</td>\n",
       "      <td>John Goodman</td>\n",
       "      <td>Tom Shadyac</td>\n",
       "    </tr>\n",
       "  </tbody>\n",
       "</table>\n",
       "</div>"
      ],
      "text/plain": [
       "       adult                                         genres  \\\n",
       "32672  False                               thriller romance   \n",
       "15443  False                                horror thriller   \n",
       "13624  False  adventure action comedy science fiction music   \n",
       "12577  False                                          drama   \n",
       "17866  False                           drama thriller crime   \n",
       "12648  False                           comedy romance drama   \n",
       "16472  False                                   comedy drama   \n",
       "17336  False                                    documentary   \n",
       "17714  False                                          drama   \n",
       "12033  False                          fantasy comedy family   \n",
       "\n",
       "                       original_title  \\\n",
       "32672                       blindside   \n",
       "15443                          ligeia   \n",
       "13624  dr. horrible's sing-along blog   \n",
       "12577                  downhill racer   \n",
       "17866                      tight spot   \n",
       "12648       forgetting sarah marshall   \n",
       "16472                barney's version   \n",
       "17336              stonewall uprising   \n",
       "17714             tender is the night   \n",
       "12033                   evan almighty   \n",
       "\n",
       "                                                overview release_date  \\\n",
       "32672  harvey keitel plays penfield gruber  a once gr...   1987-09-01   \n",
       "15443  successful writer and scholar jonathan merrick...   2009-11-05   \n",
       "13624  dr  horrible  an aspiring supervillain with hi...   2008-07-15   \n",
       "12577  an ambitious young skier  determined to break ...   1969-11-06   \n",
       "17866  a former model  serving time in prison  become...   1955-03-19   \n",
       "12648  when sarah marshall dumps aspiring musician pe...   2008-04-17   \n",
       "16472  the picaresque and touching story of the polit...   2010-10-26   \n",
       "17336  stonewall uprising is a 2010 american document...   2010-06-16   \n",
       "17714  director henry king s 1962 film adaptation of ...   1962-01-19   \n",
       "12033  god contacts congressman evan baxter and tells...   2007-06-09   \n",
       "\n",
       "                                                keywords         actor_1_name  \\\n",
       "32672  hotel murder independent film espionage scient...        Harvey Keitel   \n",
       "15443                                                NaN          Wes Bentley   \n",
       "13624  anti hero musical parody mad scientist supervi...  Neil Patrick Harris   \n",
       "12577            sport teammate narcissism injury skiing   Sylvester Stallone   \n",
       "17866                    witness trial district attorney        Ginger Rogers   \n",
       "12648                      hawaii one-night stand beauty          Jason Segel   \n",
       "16472  suicide jealousy canada independent film polit...        Paul Giamatti   \n",
       "17336     gay based on novel lgbt history stonewall riot          Paul Bosche   \n",
       "17714                                                NaN       Jennifer Jones   \n",
       "12033  father son relationship daily life married cou...         Steve Carell   \n",
       "\n",
       "             actor_2_name       actor_3_name                director_name  \n",
       "32672        Lori Hallier  Lolita Davidovich                   Paul Lynch  \n",
       "15443   Kaitlin Doubleday         Sofya Skya           Michael Staininger  \n",
       "13624      Nathan Fillion        Felicia Day                  Joss Whedon  \n",
       "12577      Robert Redford       Gene Hackman              Michael Ritchie  \n",
       "17866  Edward G. Robinson        Brian Keith                 Phil Karlson  \n",
       "12648        Kristen Bell         Mila Kunis             Nicholas Stoller  \n",
       "16472      Dustin Hoffman      Rosamund Pike             Richard J. Lewis  \n",
       "17336     Alfredo del Rio     John DiGiacomo  Kate Davis David Heilbroner  \n",
       "17714       Jason Robards      Joan Fontaine                   Henry King  \n",
       "12033       Lauren Graham       John Goodman                  Tom Shadyac  "
      ]
     },
     "execution_count": 11,
     "metadata": {},
     "output_type": "execute_result"
    }
   ],
   "source": [
    "df3.sample(10)"
   ]
  },
  {
   "cell_type": "markdown",
   "metadata": {
    "id": "59e6701e1cbb4a518d0edbfddf9583b5"
   },
   "source": [
    "We can see that there are some \"Nan\" in the dataset:"
   ]
  },
  {
   "cell_type": "code",
   "execution_count": 12,
   "metadata": {
    "id": "2895918496c341df82bc350a390dafbd",
    "scrolled": true
   },
   "outputs": [
    {
     "data": {
      "text/plain": [
       "adult                 0\n",
       "genres             2163\n",
       "original_title        0\n",
       "overview              0\n",
       "release_date         79\n",
       "keywords          12098\n",
       "actor_1_name       2240\n",
       "actor_2_name       3493\n",
       "actor_3_name       4292\n",
       "director_name       818\n",
       "dtype: int64"
      ]
     },
     "execution_count": 12,
     "metadata": {},
     "output_type": "execute_result"
    }
   ],
   "source": [
    "df3.isnull().sum()"
   ]
  },
  {
   "cell_type": "markdown",
   "metadata": {
    "id": "69915f12-dbbe-440b-80bc-8006038b65fe"
   },
   "source": [
    "Keywords has too many \"Nan\" so it's better to remove this column to get a better results on recommender."
   ]
  },
  {
   "cell_type": "code",
   "execution_count": 13,
   "metadata": {
    "id": "667aa79f-8593-443e-999b-4d0b115bb8dd"
   },
   "outputs": [],
   "source": [
    "df4 = df3.drop(['keywords'], axis = 1)"
   ]
  },
  {
   "cell_type": "markdown",
   "metadata": {
    "id": "2f8fd79a-41ad-4d56-be0d-4af06797d5c3"
   },
   "source": [
    "And now we will replace \"Nan\" with another value and in next steps we will make a list of every content value and we will remove them:"
   ]
  },
  {
   "cell_type": "code",
   "execution_count": 14,
   "metadata": {
    "id": "bf16ef07567e4196860793deb03a20d7"
   },
   "outputs": [],
   "source": [
    "df4['overview'].replace(to_replace='no hay descripcion', value= 'Nada', inplace=True)\n",
    "df4['genres'].replace(to_replace=np.nan, value= 'Nada', inplace=True)\n",
    "df4['actor_1_name'].replace(to_replace=np.nan, value= 'Nada', inplace=True)\n",
    "df4['actor_2_name'].replace(to_replace=np.nan, value= 'Nada', inplace=True)\n",
    "df4['actor_3_name'].replace(to_replace=np.nan, value= 'Nada', inplace=True)\n",
    "df4['director_name'].replace(to_replace=np.nan, value= 'Nada', inplace=True)"
   ]
  },
  {
   "cell_type": "code",
   "execution_count": 15,
   "metadata": {
    "id": "31f4e181225b4804b5c0b7a508fd9f5c"
   },
   "outputs": [
    {
     "data": {
      "text/plain": [
       "adult              0\n",
       "genres             0\n",
       "original_title     0\n",
       "overview           0\n",
       "release_date      79\n",
       "actor_1_name       0\n",
       "actor_2_name       0\n",
       "actor_3_name       0\n",
       "director_name      0\n",
       "dtype: int64"
      ]
     },
     "execution_count": 15,
     "metadata": {},
     "output_type": "execute_result"
    }
   ],
   "source": [
    "df4.isnull().sum() # Don't mind about date, it will removed later"
   ]
  },
  {
   "cell_type": "markdown",
   "metadata": {
    "id": "bf3fb1f0-3191-4760-aa99-73cb940673b6"
   },
   "source": [
    "## 1.3 Tokenize Data"
   ]
  },
  {
   "cell_type": "markdown",
   "metadata": {
    "id": "c93e612d-5e43-4823-abe2-061cf9be32e0"
   },
   "source": [
    "In this step we will transform the data to a list of values in each row to process them and get the TF-IDF matrix, next we will define some functions to clear each column."
   ]
  },
  {
   "cell_type": "code",
   "execution_count": 16,
   "metadata": {
    "id": "0b62b90d14b3477e8503e3f134b74f54"
   },
   "outputs": [],
   "source": [
    "def overview_clean(text):\n",
    "    \"\"\"\n",
    "    Function to clean text of websites, email addresess and any punctuation\n",
    "    We also lower case the text\n",
    "    \"\"\"\n",
    "    text = re.sub(\"((\\S+)?(http(s)?)(\\S+))|((\\S+)?(www)(\\S+))|((\\S+)?(\\@)(\\S+)?)\", \" \", text)\n",
    "    text = re.sub(\"[^a-zA-Z ]\", \"\", text)\n",
    "    text = text.lower() # lower case the text\n",
    "    text = nltk.word_tokenize(text)\n",
    "    return text\n",
    "\n",
    "\n",
    "def initial_clean(text):\n",
    "    \"\"\"\n",
    "    Function to clean text of websites, email addresess and any punctuation\n",
    "    We also lower case the text\n",
    "    \"\"\"\n",
    "    text = text.split(\" \")\n",
    "    return text\n",
    "\n",
    "def names(text):\n",
    "    \"\"\"\n",
    "    Function to join first names with last names, in actor and director we have\n",
    "    'James Cameron' if don't join in the list it will be 'James' 'Cameron'\n",
    "    \"\"\"\n",
    "    text = re.sub(\" \", \"\", text)\n",
    "    return text\n",
    "\n",
    "stop_words = stopwords.words('english')\n",
    "\n",
    "def remove_stop_words(text):\n",
    "    \"\"\"\n",
    "    Function that removes all stopwords from text\n",
    "    \"\"\"\n",
    "    return [word for word in text if word not in stop_words]\n",
    "\n",
    "stemmer = SnowballStemmer('english')\n",
    "\n",
    "#probar snowball\n",
    "\n",
    "def stem_words(text):\n",
    "    \"\"\"\n",
    "    Function to stem words, so plural and singular are treated the same\n",
    "    \"\"\"\n",
    "    try:\n",
    "        text = [stemmer.stem(word) for word in text]\n",
    "        text = [word for word in text if len(word) > 1] # make sure we have no 1 letter words\n",
    "    except IndexError: # the word \"oed\" broke this, so needed try except\n",
    "        pass\n",
    "    return text\n",
    "\n",
    "def apply_overview(text):\n",
    "    \"\"\"\n",
    "    This function applies all the functions above into one\n",
    "    \"\"\"\n",
    "    return stem_words(remove_stop_words(overview_clean(text)))\n",
    "\n",
    "def apply_all(text):\n",
    "    \"\"\"\n",
    "    This function applies all the functions above into one\n",
    "    \"\"\"\n",
    "    return initial_clean(names(text))"
   ]
  },
  {
   "cell_type": "markdown",
   "metadata": {
    "id": "fb4e51a0-6d90-488f-bf29-872c9b7531db"
   },
   "source": [
    "And now we are able to tokenize each content column"
   ]
  },
  {
   "cell_type": "code",
   "execution_count": 17,
   "metadata": {
    "id": "b7ce418b01574399ad1fa9dd36b9f898"
   },
   "outputs": [],
   "source": [
    "df4['genres'] = df4['genres'].apply(initial_clean) \n",
    "df4['cast'] = df4['actor_1_name'].apply(apply_all) + df4['actor_2_name'].apply(apply_all) + df4['actor_3_name'].apply(apply_all)\n",
    "df4['director_name'] = df4['director_name'].apply(apply_all)\n",
    "df4['overview'] = df4['overview'].apply(apply_overview)"
   ]
  },
  {
   "cell_type": "code",
   "execution_count": 19,
   "metadata": {
    "id": "2f123c4b-9dfa-4b02-be71-6584314eb931"
   },
   "outputs": [
    {
     "data": {
      "text/html": [
       "<div>\n",
       "<style scoped>\n",
       "    .dataframe tbody tr th:only-of-type {\n",
       "        vertical-align: middle;\n",
       "    }\n",
       "\n",
       "    .dataframe tbody tr th {\n",
       "        vertical-align: top;\n",
       "    }\n",
       "\n",
       "    .dataframe thead th {\n",
       "        text-align: right;\n",
       "    }\n",
       "</style>\n",
       "<table border=\"1\" class=\"dataframe\">\n",
       "  <thead>\n",
       "    <tr style=\"text-align: right;\">\n",
       "      <th></th>\n",
       "      <th>adult</th>\n",
       "      <th>genres</th>\n",
       "      <th>original_title</th>\n",
       "      <th>overview</th>\n",
       "      <th>release_date</th>\n",
       "      <th>director_name</th>\n",
       "      <th>cast</th>\n",
       "    </tr>\n",
       "  </thead>\n",
       "  <tbody>\n",
       "    <tr>\n",
       "      <th>13494</th>\n",
       "      <td>False</td>\n",
       "      <td>[action, western]</td>\n",
       "      <td>the big stampede</td>\n",
       "      <td>[deputi, sheriff, john, steel, recruit, bandit...</td>\n",
       "      <td>1932-10-08</td>\n",
       "      <td>[TennyWright]</td>\n",
       "      <td>[JohnWayne, NoahBeery, PaulHurst]</td>\n",
       "    </tr>\n",
       "    <tr>\n",
       "      <th>21997</th>\n",
       "      <td>False</td>\n",
       "      <td>[documentary]</td>\n",
       "      <td>stealing a nation</td>\n",
       "      <td>[tell, stori, liter, hidden, histori, british,...</td>\n",
       "      <td>2004-01-01</td>\n",
       "      <td>[JohnPilgerSeanCrotty]</td>\n",
       "      <td>[JohnPilger, Nada, Nada]</td>\n",
       "    </tr>\n",
       "    <tr>\n",
       "      <th>29621</th>\n",
       "      <td>False</td>\n",
       "      <td>[science, fiction, action, fantasy]</td>\n",
       "      <td>survivor</td>\n",
       "      <td>[search, habit, planet, last, live, human, cra...</td>\n",
       "      <td>2014-07-22</td>\n",
       "      <td>[JohnLyde]</td>\n",
       "      <td>[DanielleRyanChuchran, KevinSorbo, RockyMyers]</td>\n",
       "    </tr>\n",
       "    <tr>\n",
       "      <th>42915</th>\n",
       "      <td>False</td>\n",
       "      <td>[drama]</td>\n",
       "      <td>7 años</td>\n",
       "      <td>[drama, center, around, four, friend, busi, pa...</td>\n",
       "      <td>2016-10-28</td>\n",
       "      <td>[RogerGual]</td>\n",
       "      <td>[PacoLeón, JuanPabloRaba, ÀlexBrendemühl]</td>\n",
       "    </tr>\n",
       "    <tr>\n",
       "      <th>6117</th>\n",
       "      <td>False</td>\n",
       "      <td>[drama, history, war]</td>\n",
       "      <td>gods and generals</td>\n",
       "      <td>[film, center, most, around, person, professio...</td>\n",
       "      <td>2003-02-21</td>\n",
       "      <td>[RonaldF.Maxwell]</td>\n",
       "      <td>[StephenLang, JeffDaniels, RobertDuvall]</td>\n",
       "    </tr>\n",
       "    <tr>\n",
       "      <th>35272</th>\n",
       "      <td>False</td>\n",
       "      <td>[music, drama, crime, comedy]</td>\n",
       "      <td>chi-raq</td>\n",
       "      <td>[modern, day, adapt, ancient, greek, play, lys...</td>\n",
       "      <td>2015-12-04</td>\n",
       "      <td>[SpikeLee]</td>\n",
       "      <td>[TeyonahParris, NickCannon, AngelaBassett]</td>\n",
       "    </tr>\n",
       "    <tr>\n",
       "      <th>25557</th>\n",
       "      <td>False</td>\n",
       "      <td>[comedy]</td>\n",
       "      <td>bring it on: in it to win it</td>\n",
       "      <td>[fourth, bring, movi, set, cheerlead, camp, fl...</td>\n",
       "      <td>2007-12-12</td>\n",
       "      <td>[SteveRash]</td>\n",
       "      <td>[AshleyBenson, CassandraScerbo, NoelAreizaga]</td>\n",
       "    </tr>\n",
       "    <tr>\n",
       "      <th>17197</th>\n",
       "      <td>False</td>\n",
       "      <td>[drama]</td>\n",
       "      <td>a idade da terra</td>\n",
       "      <td>[person, vision, contemporari, brazil, evolut,...</td>\n",
       "      <td>1980-11-17</td>\n",
       "      <td>[GlauberRocha]</td>\n",
       "      <td>[AntônioPitanga, TarcísioMeira, JeceValadão]</td>\n",
       "    </tr>\n",
       "    <tr>\n",
       "      <th>29793</th>\n",
       "      <td>False</td>\n",
       "      <td>[documentary]</td>\n",
       "      <td>svezia  inferno e paradiso</td>\n",
       "      <td>[edmund, purdom, narrat, pseudo, documentari, ...</td>\n",
       "      <td>1968-09-04</td>\n",
       "      <td>[LuigiScattini]</td>\n",
       "      <td>[EdmundPurdom, Nada, Nada]</td>\n",
       "    </tr>\n",
       "    <tr>\n",
       "      <th>44334</th>\n",
       "      <td>False</td>\n",
       "      <td>[horror, action, foreign]</td>\n",
       "      <td>yoroi: samurai zombie</td>\n",
       "      <td>[famili, kidnap, coupl, gun, wander, lost, get...</td>\n",
       "      <td>2008-06-30</td>\n",
       "      <td>[Nada]</td>\n",
       "      <td>[MitsuruFukikoshi, ShintaroMatsubara, AiriNaka...</td>\n",
       "    </tr>\n",
       "  </tbody>\n",
       "</table>\n",
       "</div>"
      ],
      "text/plain": [
       "       adult                               genres  \\\n",
       "13494  False                    [action, western]   \n",
       "21997  False                        [documentary]   \n",
       "29621  False  [science, fiction, action, fantasy]   \n",
       "42915  False                              [drama]   \n",
       "6117   False                [drama, history, war]   \n",
       "35272  False        [music, drama, crime, comedy]   \n",
       "25557  False                             [comedy]   \n",
       "17197  False                              [drama]   \n",
       "29793  False                        [documentary]   \n",
       "44334  False            [horror, action, foreign]   \n",
       "\n",
       "                     original_title  \\\n",
       "13494              the big stampede   \n",
       "21997             stealing a nation   \n",
       "29621                      survivor   \n",
       "42915                        7 años   \n",
       "6117              gods and generals   \n",
       "35272                       chi-raq   \n",
       "25557  bring it on: in it to win it   \n",
       "17197              a idade da terra   \n",
       "29793    svezia  inferno e paradiso   \n",
       "44334         yoroi: samurai zombie   \n",
       "\n",
       "                                                overview release_date  \\\n",
       "13494  [deputi, sheriff, john, steel, recruit, bandit...   1932-10-08   \n",
       "21997  [tell, stori, liter, hidden, histori, british,...   2004-01-01   \n",
       "29621  [search, habit, planet, last, live, human, cra...   2014-07-22   \n",
       "42915  [drama, center, around, four, friend, busi, pa...   2016-10-28   \n",
       "6117   [film, center, most, around, person, professio...   2003-02-21   \n",
       "35272  [modern, day, adapt, ancient, greek, play, lys...   2015-12-04   \n",
       "25557  [fourth, bring, movi, set, cheerlead, camp, fl...   2007-12-12   \n",
       "17197  [person, vision, contemporari, brazil, evolut,...   1980-11-17   \n",
       "29793  [edmund, purdom, narrat, pseudo, documentari, ...   1968-09-04   \n",
       "44334  [famili, kidnap, coupl, gun, wander, lost, get...   2008-06-30   \n",
       "\n",
       "                director_name  \\\n",
       "13494           [TennyWright]   \n",
       "21997  [JohnPilgerSeanCrotty]   \n",
       "29621              [JohnLyde]   \n",
       "42915             [RogerGual]   \n",
       "6117        [RonaldF.Maxwell]   \n",
       "35272              [SpikeLee]   \n",
       "25557             [SteveRash]   \n",
       "17197          [GlauberRocha]   \n",
       "29793         [LuigiScattini]   \n",
       "44334                  [Nada]   \n",
       "\n",
       "                                                    cast  \n",
       "13494                  [JohnWayne, NoahBeery, PaulHurst]  \n",
       "21997                           [JohnPilger, Nada, Nada]  \n",
       "29621     [DanielleRyanChuchran, KevinSorbo, RockyMyers]  \n",
       "42915          [PacoLeón, JuanPabloRaba, ÀlexBrendemühl]  \n",
       "6117            [StephenLang, JeffDaniels, RobertDuvall]  \n",
       "35272         [TeyonahParris, NickCannon, AngelaBassett]  \n",
       "25557      [AshleyBenson, CassandraScerbo, NoelAreizaga]  \n",
       "17197       [AntônioPitanga, TarcísioMeira, JeceValadão]  \n",
       "29793                         [EdmundPurdom, Nada, Nada]  \n",
       "44334  [MitsuruFukikoshi, ShintaroMatsubara, AiriNaka...  "
      ]
     },
     "execution_count": 19,
     "metadata": {},
     "output_type": "execute_result"
    }
   ],
   "source": [
    "df5 = df4.drop(['actor_1_name', 'actor_2_name', 'actor_3_name'], axis=1)\n",
    "df5.sample(10)"
   ]
  },
  {
   "cell_type": "markdown",
   "metadata": {
    "id": "934ed5d9-c47b-48d3-ad67-81e43f3fec97"
   },
   "source": [
    "And now we can clear the \"Nada\" from each list"
   ]
  },
  {
   "cell_type": "code",
   "execution_count": 20,
   "metadata": {
    "id": "bac02b01-0c29-413f-9e0a-19c5425cc2ff"
   },
   "outputs": [],
   "source": [
    "df5['genres'] = df5['genres'].apply(lambda x: [i for i in x if i != 'Nada'])\n",
    "df5['cast'] = df5['cast'].apply(lambda x: [i for i in x if i != 'Nada'])\n",
    "df5['director_name'] = df5['director_name'].apply(lambda x: [i for i in x if i != 'Nada'])\n",
    "df5['overview'] = df5['overview'].apply(lambda x: [i for i in x if i != 'Nada'])"
   ]
  },
  {
   "cell_type": "code",
   "execution_count": 21,
   "metadata": {
    "id": "cdc567f7-d1ee-4b7b-bc9b-3c2ddb7289f5"
   },
   "outputs": [
    {
     "data": {
      "text/html": [
       "<div>\n",
       "<style scoped>\n",
       "    .dataframe tbody tr th:only-of-type {\n",
       "        vertical-align: middle;\n",
       "    }\n",
       "\n",
       "    .dataframe tbody tr th {\n",
       "        vertical-align: top;\n",
       "    }\n",
       "\n",
       "    .dataframe thead th {\n",
       "        text-align: right;\n",
       "    }\n",
       "</style>\n",
       "<table border=\"1\" class=\"dataframe\">\n",
       "  <thead>\n",
       "    <tr style=\"text-align: right;\">\n",
       "      <th></th>\n",
       "      <th>adult</th>\n",
       "      <th>genres</th>\n",
       "      <th>original_title</th>\n",
       "      <th>overview</th>\n",
       "      <th>release_date</th>\n",
       "      <th>director_name</th>\n",
       "      <th>cast</th>\n",
       "    </tr>\n",
       "  </thead>\n",
       "  <tbody>\n",
       "    <tr>\n",
       "      <th>9706</th>\n",
       "      <td>False</td>\n",
       "      <td>[comedy]</td>\n",
       "      <td>racing stripes</td>\n",
       "      <td>[shatter, illus, hard, repair, especi, good, h...</td>\n",
       "      <td>2005-01-06</td>\n",
       "      <td>[FrederikDuChau]</td>\n",
       "      <td>[FrankieMuniz, MandyMoore, HaydenPanettiere]</td>\n",
       "    </tr>\n",
       "    <tr>\n",
       "      <th>36512</th>\n",
       "      <td>False</td>\n",
       "      <td>[comedy]</td>\n",
       "      <td>klassefesten</td>\n",
       "      <td>[renion, new, danish, comedi, star, troel, lyb...</td>\n",
       "      <td>2011-10-13</td>\n",
       "      <td>[NielsNørløvHansen]</td>\n",
       "      <td>[NicolajKopernikus, AndersW.Berthelsen, Troels...</td>\n",
       "    </tr>\n",
       "    <tr>\n",
       "      <th>33064</th>\n",
       "      <td>False</td>\n",
       "      <td>[comedy, fantasy, romance, tv, movie]</td>\n",
       "      <td>mrs. miracle</td>\n",
       "      <td>[overwhelm, widow, seth, webster, search, hous...</td>\n",
       "      <td>2009-12-05</td>\n",
       "      <td>[MichaelScott]</td>\n",
       "      <td>[ErinKarpluk, JamesVanDerBeek, DorisRoberts]</td>\n",
       "    </tr>\n",
       "    <tr>\n",
       "      <th>4794</th>\n",
       "      <td>False</td>\n",
       "      <td>[drama, foreign]</td>\n",
       "      <td>la ville est tranquille</td>\n",
       "      <td>[dark, tale, work, class, life, marseill, citi...</td>\n",
       "      <td>2000-08-30</td>\n",
       "      <td>[RobertGuédiguian]</td>\n",
       "      <td>[ArianeAscaride, Jean-PierreDarroussin, Jacque...</td>\n",
       "    </tr>\n",
       "    <tr>\n",
       "      <th>45027</th>\n",
       "      <td>False</td>\n",
       "      <td>[tv, movie, comedy, drama]</td>\n",
       "      <td>second string</td>\n",
       "      <td>[american, footbal, coach, chuck, dichter, wor...</td>\n",
       "      <td>2002-12-18</td>\n",
       "      <td>[RobertLieberman]</td>\n",
       "      <td>[JonVoight, GilBellows, TeriPolo]</td>\n",
       "    </tr>\n",
       "    <tr>\n",
       "      <th>41887</th>\n",
       "      <td>False</td>\n",
       "      <td>[drama, music]</td>\n",
       "      <td>all eyez on me</td>\n",
       "      <td>[eyez, chronicl, life, legaci, tupac, shakur, ...</td>\n",
       "      <td>2017-06-12</td>\n",
       "      <td>[BennyBoom]</td>\n",
       "      <td>[DemetriusShippJr., DanaiGurira, KatGraham]</td>\n",
       "    </tr>\n",
       "    <tr>\n",
       "      <th>543</th>\n",
       "      <td>False</td>\n",
       "      <td>[action, thriller]</td>\n",
       "      <td>terminal velocity</td>\n",
       "      <td>[maverick, skydiv, former, kgb, agent, team, s...</td>\n",
       "      <td>1994-09-23</td>\n",
       "      <td>[DeranSarafian]</td>\n",
       "      <td>[CharlieSheen, NastassjaKinski, JamesGandolfini]</td>\n",
       "    </tr>\n",
       "    <tr>\n",
       "      <th>14154</th>\n",
       "      <td>False</td>\n",
       "      <td>[action, adventure, drama, western]</td>\n",
       "      <td>winds of the wasteland</td>\n",
       "      <td>[arriv, telegraph, put, poni, express, rider, ...</td>\n",
       "      <td>1936-07-06</td>\n",
       "      <td>[MackV.Wright]</td>\n",
       "      <td>[JohnWayne, PhyllisCerf, LewKelly]</td>\n",
       "    </tr>\n",
       "    <tr>\n",
       "      <th>12179</th>\n",
       "      <td>False</td>\n",
       "      <td>[action, adventure, animation]</td>\n",
       "      <td>tekkon kinkurîto</td>\n",
       "      <td>[mysteri, foreign, entrepreneur, appear, inten...</td>\n",
       "      <td>2006-12-11</td>\n",
       "      <td>[MichaelArias]</td>\n",
       "      <td>[KazunariNinomiya, YusukeIseya, MinTanaka]</td>\n",
       "    </tr>\n",
       "    <tr>\n",
       "      <th>3631</th>\n",
       "      <td>False</td>\n",
       "      <td>[action, crime]</td>\n",
       "      <td>assault on precinct 13</td>\n",
       "      <td>[lone, inhabit, abandon, polic, station, attac...</td>\n",
       "      <td>1976-11-05</td>\n",
       "      <td>[JohnCarpenter]</td>\n",
       "      <td>[AustinStoker, DarwinJoston, LaurieZimmer]</td>\n",
       "    </tr>\n",
       "  </tbody>\n",
       "</table>\n",
       "</div>"
      ],
      "text/plain": [
       "       adult                                 genres           original_title  \\\n",
       "9706   False                               [comedy]           racing stripes   \n",
       "36512  False                               [comedy]             klassefesten   \n",
       "33064  False  [comedy, fantasy, romance, tv, movie]             mrs. miracle   \n",
       "4794   False                       [drama, foreign]  la ville est tranquille   \n",
       "45027  False             [tv, movie, comedy, drama]            second string   \n",
       "41887  False                         [drama, music]           all eyez on me   \n",
       "543    False                     [action, thriller]        terminal velocity   \n",
       "14154  False    [action, adventure, drama, western]   winds of the wasteland   \n",
       "12179  False         [action, adventure, animation]         tekkon kinkurîto   \n",
       "3631   False                        [action, crime]   assault on precinct 13   \n",
       "\n",
       "                                                overview release_date  \\\n",
       "9706   [shatter, illus, hard, repair, especi, good, h...   2005-01-06   \n",
       "36512  [renion, new, danish, comedi, star, troel, lyb...   2011-10-13   \n",
       "33064  [overwhelm, widow, seth, webster, search, hous...   2009-12-05   \n",
       "4794   [dark, tale, work, class, life, marseill, citi...   2000-08-30   \n",
       "45027  [american, footbal, coach, chuck, dichter, wor...   2002-12-18   \n",
       "41887  [eyez, chronicl, life, legaci, tupac, shakur, ...   2017-06-12   \n",
       "543    [maverick, skydiv, former, kgb, agent, team, s...   1994-09-23   \n",
       "14154  [arriv, telegraph, put, poni, express, rider, ...   1936-07-06   \n",
       "12179  [mysteri, foreign, entrepreneur, appear, inten...   2006-12-11   \n",
       "3631   [lone, inhabit, abandon, polic, station, attac...   1976-11-05   \n",
       "\n",
       "             director_name                                               cast  \n",
       "9706      [FrederikDuChau]       [FrankieMuniz, MandyMoore, HaydenPanettiere]  \n",
       "36512  [NielsNørløvHansen]  [NicolajKopernikus, AndersW.Berthelsen, Troels...  \n",
       "33064       [MichaelScott]       [ErinKarpluk, JamesVanDerBeek, DorisRoberts]  \n",
       "4794    [RobertGuédiguian]  [ArianeAscaride, Jean-PierreDarroussin, Jacque...  \n",
       "45027    [RobertLieberman]                  [JonVoight, GilBellows, TeriPolo]  \n",
       "41887          [BennyBoom]        [DemetriusShippJr., DanaiGurira, KatGraham]  \n",
       "543        [DeranSarafian]   [CharlieSheen, NastassjaKinski, JamesGandolfini]  \n",
       "14154       [MackV.Wright]                 [JohnWayne, PhyllisCerf, LewKelly]  \n",
       "12179       [MichaelArias]         [KazunariNinomiya, YusukeIseya, MinTanaka]  \n",
       "3631       [JohnCarpenter]         [AustinStoker, DarwinJoston, LaurieZimmer]  "
      ]
     },
     "execution_count": 21,
     "metadata": {},
     "output_type": "execute_result"
    }
   ],
   "source": [
    "df5.sample(10)"
   ]
  },
  {
   "cell_type": "markdown",
   "metadata": {
    "id": "ac04d706-a0ca-4f5c-8933-ddef471c9c50"
   },
   "source": [
    "Now we have to remove every row wich has an empty list in each tokenized column:"
   ]
  },
  {
   "cell_type": "code",
   "execution_count": 22,
   "metadata": {
    "id": "c90c83bcf6de44e9895eed142969b5af"
   },
   "outputs": [],
   "source": [
    "# Returns a column with the length of each list of genres\n",
    "df5['number_genres'] = df5['genres'].apply(lambda x: len(x))"
   ]
  },
  {
   "cell_type": "code",
   "execution_count": 23,
   "metadata": {
    "id": "b988abbd81ed4044837a3cd8007488eb"
   },
   "outputs": [],
   "source": [
    "lengths = list(df5['number_genres'])"
   ]
  },
  {
   "cell_type": "code",
   "execution_count": 24,
   "metadata": {
    "id": "31218339c7b84b928dcf5df7085218b3"
   },
   "outputs": [
    {
     "name": "stdout",
     "output_type": "stream",
     "text": [
      "length of list: 39594 \n",
      "average document length 2.0647825428095166 \n",
      "minimum document length 0 \n",
      "maximum document length 9\n"
     ]
    }
   ],
   "source": [
    "print(\"length of list:\",len(lengths),\n",
    "      \"\\naverage document length\", np.average(lengths),\n",
    "      \"\\nminimum document length\", min(lengths),\n",
    "      \"\\nmaximum document length\", max(lengths))"
   ]
  },
  {
   "cell_type": "markdown",
   "metadata": {
    "id": "71f92140-0b7d-4206-bc7e-4fa05c0ac5e2"
   },
   "source": [
    "as we can see we have films with 0 genres and films with 9 genres!, so the point here is to remove 0 genres films."
   ]
  },
  {
   "cell_type": "code",
   "execution_count": 36,
   "metadata": {
    "id": "92d72b958b454d34a6939155acb3bd0b"
   },
   "outputs": [],
   "source": [
    "# remove rows with 0 genres\n",
    "df6 = df5.loc[df5['number_genres'] > 0]"
   ]
  },
  {
   "cell_type": "code",
   "execution_count": 37,
   "metadata": {
    "id": "b8ed6022fdf645858d776883576740f1"
   },
   "outputs": [
    {
     "data": {
      "text/plain": [
       "(37431, 8)"
      ]
     },
     "execution_count": 37,
     "metadata": {},
     "output_type": "execute_result"
    }
   ],
   "source": [
    "df6.shape "
   ]
  },
  {
   "cell_type": "code",
   "execution_count": 38,
   "metadata": {
    "id": "cc4e9348-e310-4ca3-a336-72b7b3231caf"
   },
   "outputs": [
    {
     "data": {
      "text/plain": [
       "(39594, 8)"
      ]
     },
     "execution_count": 38,
     "metadata": {},
     "output_type": "execute_result"
    }
   ],
   "source": [
    "df5.shape # Removed more than 2000 movies"
   ]
  },
  {
   "cell_type": "markdown",
   "metadata": {
    "id": "f6044b40eb21473692bfba2098aac576"
   },
   "source": [
    "And now we will do it with director and actors. They have the same information (important name in a film) so we join both columns."
   ]
  },
  {
   "cell_type": "code",
   "execution_count": 39,
   "metadata": {
    "id": "015ae301639542858b56fb721d8c922e"
   },
   "outputs": [],
   "source": [
    "df6['names'] = df6['cast'] + df6['director_name']"
   ]
  },
  {
   "cell_type": "code",
   "execution_count": 40,
   "metadata": {
    "id": "6b1057e78f7f4007ad2a68aa3a1e9b0e"
   },
   "outputs": [],
   "source": [
    "df6['number_names'] = df6['names'].apply(lambda x: len(x))"
   ]
  },
  {
   "cell_type": "code",
   "execution_count": 42,
   "metadata": {
    "id": "39c3639c64a54ec6b7841d6948d0e3ed"
   },
   "outputs": [],
   "source": [
    "lengths_2 = list(df6['number_names'])"
   ]
  },
  {
   "cell_type": "code",
   "execution_count": 43,
   "metadata": {
    "id": "7feb3a7be63240579e46397efaf6fcf4"
   },
   "outputs": [
    {
     "name": "stdout",
     "output_type": "stream",
     "text": [
      "length of list: 37431 \n",
      "average document length 3.784002564719083 \n",
      "minimum document length 0 \n",
      "maximum document length 4\n"
     ]
    }
   ],
   "source": [
    "print(\"length of list:\",len(lengths_2),\n",
    "      \"\\naverage document length\", np.average(lengths_2),\n",
    "      \"\\nminimum document length\", min(lengths_2),\n",
    "      \"\\nmaximum document length\", max(lengths_2))"
   ]
  },
  {
   "cell_type": "markdown",
   "metadata": {
    "id": "5f608957-933b-4315-bbfc-6655ff184db8"
   },
   "source": [
    "so there are films with 0 names, they will be removed by the way."
   ]
  },
  {
   "cell_type": "code",
   "execution_count": 45,
   "metadata": {
    "id": "c0f399a3553c496aa8b654ddb0b95575"
   },
   "outputs": [],
   "source": [
    "df7 = df6.loc[df6['number_names'] > 0]"
   ]
  },
  {
   "cell_type": "code",
   "execution_count": 47,
   "metadata": {
    "id": "672000666cb54be78cf4c5b85bfbbe10"
   },
   "outputs": [
    {
     "data": {
      "text/plain": [
       "(37237, 10)"
      ]
     },
     "execution_count": 47,
     "metadata": {},
     "output_type": "execute_result"
    }
   ],
   "source": [
    "df7.shape"
   ]
  },
  {
   "cell_type": "code",
   "execution_count": 48,
   "metadata": {
    "id": "be54a104-1376-4e16-99aa-4b166d80fc24"
   },
   "outputs": [
    {
     "data": {
      "text/plain": [
       "(37431, 10)"
      ]
     },
     "execution_count": 48,
     "metadata": {},
     "output_type": "execute_result"
    }
   ],
   "source": [
    "df6.shape #removed less than 200 movies"
   ]
  },
  {
   "cell_type": "markdown",
   "metadata": {
    "id": "28f9e30a-77ab-4e02-a94e-8e89b9c6f874"
   },
   "source": [
    "And now we will remove every row with no overview."
   ]
  },
  {
   "cell_type": "code",
   "execution_count": 49,
   "metadata": {
    "id": "3f418fda-29a3-4d07-8c0a-3e0c69d94188"
   },
   "outputs": [],
   "source": [
    "df7['number_overview'] = df7['overview'].apply(lambda x: len(x))"
   ]
  },
  {
   "cell_type": "code",
   "execution_count": 51,
   "metadata": {
    "id": "d3bef191-d273-46fc-9888-2758b0c4209d"
   },
   "outputs": [],
   "source": [
    "lengths_3 = list(df7['number_overview'])"
   ]
  },
  {
   "cell_type": "code",
   "execution_count": 52,
   "metadata": {
    "id": "c04b3071-b7de-479e-88c3-b12932caf7e0"
   },
   "outputs": [
    {
     "name": "stdout",
     "output_type": "stream",
     "text": [
      "length of list: 37237 \n",
      "average document length 30.683674839541318 \n",
      "minimum document length 0 \n",
      "maximum document length 137\n"
     ]
    }
   ],
   "source": [
    "print(\"length of list:\",len(lengths_3),\n",
    "      \"\\naverage document length\", np.average(lengths_3),\n",
    "      \"\\nminimum document length\", min(lengths_3),\n",
    "      \"\\nmaximum document length\", max(lengths_3))"
   ]
  },
  {
   "cell_type": "markdown",
   "metadata": {
    "id": "74ea0f85-0f63-47c8-8607-6237ee2f040a"
   },
   "source": [
    "So there is overviews with no content, but we an overview with 5 words is a useless, so we will find a way to remove many overviews with low content"
   ]
  },
  {
   "cell_type": "code",
   "execution_count": 53,
   "metadata": {
    "id": "33b65b59-0fa1-48d0-845a-4cf15fb9ff6b"
   },
   "outputs": [],
   "source": [
    "df_x = df7.loc[df7['number_overview'] > 5]"
   ]
  },
  {
   "cell_type": "code",
   "execution_count": 54,
   "metadata": {
    "id": "501d265c-7f30-42f6-bfc5-7efc0eb5eb95"
   },
   "outputs": [
    {
     "data": {
      "text/plain": [
       "(36216, 11)"
      ]
     },
     "execution_count": 54,
     "metadata": {},
     "output_type": "execute_result"
    }
   ],
   "source": [
    "df_x.shape"
   ]
  },
  {
   "cell_type": "markdown",
   "metadata": {
    "id": "c52789b7-f129-4eda-b991-63cdd5c85946"
   },
   "source": [
    "more than 1000 overviews removed, let's try with 10 words at least."
   ]
  },
  {
   "cell_type": "code",
   "execution_count": 56,
   "metadata": {
    "id": "4f2466a2-7034-4884-a3a9-27dd22ac72ee"
   },
   "outputs": [],
   "source": [
    "df_y = df7.loc[df7['number_overview'] > 10]"
   ]
  },
  {
   "cell_type": "code",
   "execution_count": 57,
   "metadata": {
    "id": "8a45578d-6072-469d-87b2-6043a48983ea"
   },
   "outputs": [
    {
     "data": {
      "text/plain": [
       "(33114, 11)"
      ]
     },
     "execution_count": 57,
     "metadata": {},
     "output_type": "execute_result"
    }
   ],
   "source": [
    "df_y.shape # 4000+ movies removed"
   ]
  },
  {
   "cell_type": "code",
   "execution_count": 58,
   "metadata": {
    "id": "1fa8c316-6c48-4f88-ad74-e75d3b9a2baa"
   },
   "outputs": [],
   "source": [
    "#remove column of counts\n",
    "df = df_y.drop(['number_genres', 'number_overview', 'number_names'], axis=1)"
   ]
  },
  {
   "cell_type": "markdown",
   "metadata": {
    "id": "932c67af-0409-483a-8e11-1f115994f83b"
   },
   "source": [
    "This is a good point to get a good overview, because we removed stopwords and useless characters, so this 10 words could have too much  information so we keep this shape."
   ]
  },
  {
   "cell_type": "code",
   "execution_count": 59,
   "metadata": {
    "id": "0b11424a11a046d3b3db4bc381ac2270"
   },
   "outputs": [],
   "source": [
    "# Reset index \n",
    "df.reset_index(drop=True, inplace=True)"
   ]
  },
  {
   "cell_type": "markdown",
   "metadata": {
    "id": "be5a021b-1f52-41f9-a9bc-0c451d8da712"
   },
   "source": [
    "And now we will see the words each row remains, this variables will be usefull in next steps."
   ]
  },
  {
   "cell_type": "code",
   "execution_count": 60,
   "metadata": {
    "id": "2c556b4030c2429c9d2b48dc06d063a0"
   },
   "outputs": [],
   "source": [
    "lista_genres = list(df['genres'])\n",
    "Words_genres = [item for sublist in lista_genres for item in sublist]\n",
    "\n",
    "lista_names = list(df['names'])\n",
    "Words_names = [item for sublist in lista_names for item in sublist]\n",
    "\n",
    "lista_overview = list(df['overview'])\n",
    "Words_overview = [item for sublist in lista_overview for item in sublist]"
   ]
  },
  {
   "cell_type": "code",
   "execution_count": 61,
   "metadata": {
    "id": "1069ea41c1f847118492ee1950529fe8"
   },
   "outputs": [
    {
     "data": {
      "text/plain": [
       "73515"
      ]
     },
     "execution_count": 61,
     "metadata": {},
     "output_type": "execute_result"
    }
   ],
   "source": [
    "len(Words_genres)  #sum of genres of all movies"
   ]
  },
  {
   "cell_type": "code",
   "execution_count": 62,
   "metadata": {
    "id": "8656433e9ff2425a8c8dd382398557ca"
   },
   "outputs": [
    {
     "data": {
      "text/plain": [
       "126179"
      ]
     },
     "execution_count": 62,
     "metadata": {},
     "output_type": "execute_result"
    }
   ],
   "source": [
    "len(Words_names) #sum of names of all movies"
   ]
  },
  {
   "cell_type": "code",
   "execution_count": 63,
   "metadata": {
    "id": "466ef3d99c4b42888d09e6f9c97e3ad2"
   },
   "outputs": [
    {
     "data": {
      "text/plain": [
       "1114060"
      ]
     },
     "execution_count": 63,
     "metadata": {},
     "output_type": "execute_result"
    }
   ],
   "source": [
    "len(Words_overview) #sum of length of all movies"
   ]
  },
  {
   "cell_type": "markdown",
   "metadata": {
    "id": "a2a1843e18154931a26f62f3209b610e"
   },
   "source": [
    "# 2- Building the feutures of TFIDF matrix"
   ]
  },
  {
   "cell_type": "markdown",
   "metadata": {
    "id": "90b4f923-c1c0-49c0-ae8e-f52055a59575"
   },
   "source": [
    "In this section we will build tfidf matrix of every feuture that can give information about content, we build separately for 2 reason, first we need to make different transformation and filters for each feature and second its more efficient in terms of computation to have less columns to compute."
   ]
  },
  {
   "cell_type": "markdown",
   "metadata": {
    "id": "3c7f4be0-f90b-4f58-abfd-a84bf55098ed"
   },
   "source": [
    "## 2.1- Little adjustments to recommendation"
   ]
  },
  {
   "cell_type": "markdown",
   "metadata": {
    "id": "0f7415a2e3f547ca8db9c902f002bbb0"
   },
   "source": [
    "### 2.1.1- Adult filter"
   ]
  },
  {
   "cell_type": "markdown",
   "metadata": {
    "id": "d559a5d14d5c4ddc80945de3207e249f"
   },
   "source": [
    "First of all, we need to adjust some recommendations, because I could find in the process of recommendation that recommendations for 'Toy Story' give me recommendations about terror films about evil toys, so we will try to avoid this issues and filter by adult and non adult films."
   ]
  },
  {
   "cell_type": "code",
   "execution_count": 64,
   "metadata": {
    "id": "a13183b5b5034398807fe2b4b1c152d4"
   },
   "outputs": [],
   "source": [
    "df['adult'] = df['adult'].astype(int)"
   ]
  },
  {
   "cell_type": "code",
   "execution_count": 65,
   "metadata": {
    "id": "81f0c264930d4ae38ef5667da52e8898"
   },
   "outputs": [
    {
     "data": {
      "text/plain": [
       "adult\n",
       "0    33109\n",
       "1        5\n",
       "dtype: int64"
      ]
     },
     "execution_count": 65,
     "metadata": {},
     "output_type": "execute_result"
    }
   ],
   "source": [
    "df.groupby('adult').size() "
   ]
  },
  {
   "cell_type": "markdown",
   "metadata": {
    "id": "ed827b8ad0f4412c84e7f65fa38dac22"
   },
   "source": [
    "This variable is useless to the problem because this is so unbalanced and we can't fix it so we can't use this filter."
   ]
  },
  {
   "cell_type": "code",
   "execution_count": 66,
   "metadata": {
    "id": "0ce69bc6-8410-4fee-ae0f-66ba70a9c337"
   },
   "outputs": [],
   "source": [
    "df = df.drop(['adult'], axis=1)"
   ]
  },
  {
   "cell_type": "code",
   "execution_count": 67,
   "metadata": {
    "id": "2f2fb9d6-c5c6-4534-a030-e0e372b8e351"
   },
   "outputs": [
    {
     "data": {
      "text/html": [
       "<div>\n",
       "<style scoped>\n",
       "    .dataframe tbody tr th:only-of-type {\n",
       "        vertical-align: middle;\n",
       "    }\n",
       "\n",
       "    .dataframe tbody tr th {\n",
       "        vertical-align: top;\n",
       "    }\n",
       "\n",
       "    .dataframe thead th {\n",
       "        text-align: right;\n",
       "    }\n",
       "</style>\n",
       "<table border=\"1\" class=\"dataframe\">\n",
       "  <thead>\n",
       "    <tr style=\"text-align: right;\">\n",
       "      <th></th>\n",
       "      <th>genres</th>\n",
       "      <th>original_title</th>\n",
       "      <th>overview</th>\n",
       "      <th>release_date</th>\n",
       "      <th>director_name</th>\n",
       "      <th>cast</th>\n",
       "      <th>names</th>\n",
       "    </tr>\n",
       "  </thead>\n",
       "  <tbody>\n",
       "    <tr>\n",
       "      <th>25790</th>\n",
       "      <td>[foreign, horror, thriller]</td>\n",
       "      <td>when night falls</td>\n",
       "      <td>[thriller, set, two, nurs, trap, countri, mans...</td>\n",
       "      <td>2007-06-01</td>\n",
       "      <td>[AlexGalvin]</td>\n",
       "      <td>[TaniaNolan, RosellaHart, KevinKeys]</td>\n",
       "      <td>[TaniaNolan, RosellaHart, KevinKeys, AlexGalvin]</td>\n",
       "    </tr>\n",
       "    <tr>\n",
       "      <th>21529</th>\n",
       "      <td>[family, animation]</td>\n",
       "      <td>halloween is grinch night</td>\n",
       "      <td>[sour, sweet, wind, start, blow, whos, retreat...</td>\n",
       "      <td>1977-10-29</td>\n",
       "      <td>[GerardBaldwinBarringtonBunce]</td>\n",
       "      <td>[HansConried, HalSmith, GaryShapiro]</td>\n",
       "      <td>[HansConried, HalSmith, GaryShapiro, GerardBal...</td>\n",
       "    </tr>\n",
       "    <tr>\n",
       "      <th>8781</th>\n",
       "      <td>[drama, foreign]</td>\n",
       "      <td>la niña santa</td>\n",
       "      <td>[amalia, adolesc, girl, caught, throe, emerg, ...</td>\n",
       "      <td>2004-05-06</td>\n",
       "      <td>[LucreciaMartel]</td>\n",
       "      <td>[MaríaAlché, MercedesMorán, CarlosBelloso]</td>\n",
       "      <td>[MaríaAlché, MercedesMorán, CarlosBelloso, Luc...</td>\n",
       "    </tr>\n",
       "    <tr>\n",
       "      <th>17416</th>\n",
       "      <td>[comedy, crime, mystery]</td>\n",
       "      <td>poupoupidou</td>\n",
       "      <td>[ambigu, suicid, local, beauti, weathergirl, c...</td>\n",
       "      <td>2011-01-12</td>\n",
       "      <td>[GéraldHustache-Mathieu]</td>\n",
       "      <td>[Jean-PaulRouve, SophieQuinton, OlivierRabourdin]</td>\n",
       "      <td>[Jean-PaulRouve, SophieQuinton, OlivierRabourd...</td>\n",
       "    </tr>\n",
       "    <tr>\n",
       "      <th>29700</th>\n",
       "      <td>[action, romance, thriller]</td>\n",
       "      <td>baaghi</td>\n",
       "      <td>[baaghi, stori, ronni, rebelli, year, old, del...</td>\n",
       "      <td>2016-04-29</td>\n",
       "      <td>[SabbirKhan]</td>\n",
       "      <td>[TigerShroff, ShraddhaKapoor, SunilGrover]</td>\n",
       "      <td>[TigerShroff, ShraddhaKapoor, SunilGrover, Sab...</td>\n",
       "    </tr>\n",
       "    <tr>\n",
       "      <th>24194</th>\n",
       "      <td>[horror]</td>\n",
       "      <td>le laboratoire de l'angoisse</td>\n",
       "      <td>[research, imp, laboratori, male, one, except,...</td>\n",
       "      <td>1971-01-01</td>\n",
       "      <td>[PatriceLeconte]</td>\n",
       "      <td>[MariannediVettimo, MarcelGotlib, MichelSuch]</td>\n",
       "      <td>[MariannediVettimo, MarcelGotlib, MichelSuch, ...</td>\n",
       "    </tr>\n",
       "    <tr>\n",
       "      <th>33089</th>\n",
       "      <td>[comedy, drama, romance]</td>\n",
       "      <td>the fortunes and misfortunes of moll flanders</td>\n",
       "      <td>[filthi, cell, newgat, prison, moll, flander, ...</td>\n",
       "      <td>1996-10-13</td>\n",
       "      <td>[DavidAttwood]</td>\n",
       "      <td>[JamesBowers, AlexKingston, GeoffreyBeevers]</td>\n",
       "      <td>[JamesBowers, AlexKingston, GeoffreyBeevers, D...</td>\n",
       "    </tr>\n",
       "    <tr>\n",
       "      <th>2744</th>\n",
       "      <td>[comedy, crime, drama]</td>\n",
       "      <td>born to win</td>\n",
       "      <td>[film, follow, jay, jay, former, hair, dresser...</td>\n",
       "      <td>1971-12-01</td>\n",
       "      <td>[IvanPasser]</td>\n",
       "      <td>[GeorgeSegal, PaulaPrentiss, KarenBlack]</td>\n",
       "      <td>[GeorgeSegal, PaulaPrentiss, KarenBlack, IvanP...</td>\n",
       "    </tr>\n",
       "    <tr>\n",
       "      <th>27883</th>\n",
       "      <td>[documentary]</td>\n",
       "      <td>becoming mike nichols</td>\n",
       "      <td>[intim, portrait, director, produc, improvis, ...</td>\n",
       "      <td>2016-02-22</td>\n",
       "      <td>[DouglasMcGrath]</td>\n",
       "      <td>[MikeNichols, JackO'Brien]</td>\n",
       "      <td>[MikeNichols, JackO'Brien, DouglasMcGrath]</td>\n",
       "    </tr>\n",
       "    <tr>\n",
       "      <th>7024</th>\n",
       "      <td>[war, thriller, drama]</td>\n",
       "      <td>the counterfeit traitor</td>\n",
       "      <td>[blacklist, modern, day, ww, swedish, oil, tra...</td>\n",
       "      <td>1962-04-17</td>\n",
       "      <td>[GeorgeSeaton]</td>\n",
       "      <td>[WilliamHolden, LilliPalmer, HughGriffith]</td>\n",
       "      <td>[WilliamHolden, LilliPalmer, HughGriffith, Geo...</td>\n",
       "    </tr>\n",
       "  </tbody>\n",
       "</table>\n",
       "</div>"
      ],
      "text/plain": [
       "                            genres  \\\n",
       "25790  [foreign, horror, thriller]   \n",
       "21529          [family, animation]   \n",
       "8781              [drama, foreign]   \n",
       "17416     [comedy, crime, mystery]   \n",
       "29700  [action, romance, thriller]   \n",
       "24194                     [horror]   \n",
       "33089     [comedy, drama, romance]   \n",
       "2744        [comedy, crime, drama]   \n",
       "27883                [documentary]   \n",
       "7024        [war, thriller, drama]   \n",
       "\n",
       "                                      original_title  \\\n",
       "25790                               when night falls   \n",
       "21529                      halloween is grinch night   \n",
       "8781                                   la niña santa   \n",
       "17416                                    poupoupidou   \n",
       "29700                                         baaghi   \n",
       "24194                   le laboratoire de l'angoisse   \n",
       "33089  the fortunes and misfortunes of moll flanders   \n",
       "2744                                     born to win   \n",
       "27883                          becoming mike nichols   \n",
       "7024                         the counterfeit traitor   \n",
       "\n",
       "                                                overview release_date  \\\n",
       "25790  [thriller, set, two, nurs, trap, countri, mans...   2007-06-01   \n",
       "21529  [sour, sweet, wind, start, blow, whos, retreat...   1977-10-29   \n",
       "8781   [amalia, adolesc, girl, caught, throe, emerg, ...   2004-05-06   \n",
       "17416  [ambigu, suicid, local, beauti, weathergirl, c...   2011-01-12   \n",
       "29700  [baaghi, stori, ronni, rebelli, year, old, del...   2016-04-29   \n",
       "24194  [research, imp, laboratori, male, one, except,...   1971-01-01   \n",
       "33089  [filthi, cell, newgat, prison, moll, flander, ...   1996-10-13   \n",
       "2744   [film, follow, jay, jay, former, hair, dresser...   1971-12-01   \n",
       "27883  [intim, portrait, director, produc, improvis, ...   2016-02-22   \n",
       "7024   [blacklist, modern, day, ww, swedish, oil, tra...   1962-04-17   \n",
       "\n",
       "                        director_name  \\\n",
       "25790                    [AlexGalvin]   \n",
       "21529  [GerardBaldwinBarringtonBunce]   \n",
       "8781                 [LucreciaMartel]   \n",
       "17416        [GéraldHustache-Mathieu]   \n",
       "29700                    [SabbirKhan]   \n",
       "24194                [PatriceLeconte]   \n",
       "33089                  [DavidAttwood]   \n",
       "2744                     [IvanPasser]   \n",
       "27883                [DouglasMcGrath]   \n",
       "7024                   [GeorgeSeaton]   \n",
       "\n",
       "                                                    cast  \\\n",
       "25790               [TaniaNolan, RosellaHart, KevinKeys]   \n",
       "21529               [HansConried, HalSmith, GaryShapiro]   \n",
       "8781          [MaríaAlché, MercedesMorán, CarlosBelloso]   \n",
       "17416  [Jean-PaulRouve, SophieQuinton, OlivierRabourdin]   \n",
       "29700         [TigerShroff, ShraddhaKapoor, SunilGrover]   \n",
       "24194      [MariannediVettimo, MarcelGotlib, MichelSuch]   \n",
       "33089       [JamesBowers, AlexKingston, GeoffreyBeevers]   \n",
       "2744            [GeorgeSegal, PaulaPrentiss, KarenBlack]   \n",
       "27883                         [MikeNichols, JackO'Brien]   \n",
       "7024          [WilliamHolden, LilliPalmer, HughGriffith]   \n",
       "\n",
       "                                                   names  \n",
       "25790   [TaniaNolan, RosellaHart, KevinKeys, AlexGalvin]  \n",
       "21529  [HansConried, HalSmith, GaryShapiro, GerardBal...  \n",
       "8781   [MaríaAlché, MercedesMorán, CarlosBelloso, Luc...  \n",
       "17416  [Jean-PaulRouve, SophieQuinton, OlivierRabourd...  \n",
       "29700  [TigerShroff, ShraddhaKapoor, SunilGrover, Sab...  \n",
       "24194  [MariannediVettimo, MarcelGotlib, MichelSuch, ...  \n",
       "33089  [JamesBowers, AlexKingston, GeoffreyBeevers, D...  \n",
       "2744   [GeorgeSegal, PaulaPrentiss, KarenBlack, IvanP...  \n",
       "27883         [MikeNichols, JackO'Brien, DouglasMcGrath]  \n",
       "7024   [WilliamHolden, LilliPalmer, HughGriffith, Geo...  "
      ]
     },
     "execution_count": 67,
     "metadata": {},
     "output_type": "execute_result"
    }
   ],
   "source": [
    "df.sample(10)"
   ]
  },
  {
   "cell_type": "markdown",
   "metadata": {
    "id": "d3f07e153d584de895354c6356fcfd9e"
   },
   "source": [
    "### 2.1.2- Recommendation by Date"
   ]
  },
  {
   "cell_type": "markdown",
   "metadata": {
    "id": "88ad2726-08db-4cad-af9c-9680b9e6d634"
   },
   "source": [
    "The release date is one of the most useful features to recommend a film to someone, the first films was in black and white and there hadn't any sound, there too much difference between this films and one film with billions of revenue, so we will group film in a range of dates. So we need to take the years and extract some information about it."
   ]
  },
  {
   "cell_type": "code",
   "execution_count": 68,
   "metadata": {
    "id": "738b331a-1bad-4cd2-a0bd-1bb2b1781e8d"
   },
   "outputs": [],
   "source": [
    "df['release_date'] =  pd.to_datetime(df['release_date'])"
   ]
  },
  {
   "cell_type": "code",
   "execution_count": 69,
   "metadata": {
    "id": "c30d848a-cae5-42a2-aa55-3086c6740296"
   },
   "outputs": [],
   "source": [
    "df['year'] = pd.DatetimeIndex(df['release_date']).year"
   ]
  },
  {
   "cell_type": "code",
   "execution_count": 70,
   "metadata": {
    "id": "72ce3944-40f5-419e-855a-5021c540460b"
   },
   "outputs": [
    {
     "data": {
      "text/plain": [
       "0        1995.0\n",
       "1        1995.0\n",
       "2        1995.0\n",
       "3        1995.0\n",
       "4        1995.0\n",
       "          ...  \n",
       "33109    2017.0\n",
       "33110    1946.0\n",
       "33111    2000.0\n",
       "33112    2000.0\n",
       "33113    1995.0\n",
       "Name: year, Length: 33114, dtype: float64"
      ]
     },
     "execution_count": 70,
     "metadata": {},
     "output_type": "execute_result"
    }
   ],
   "source": [
    "df['year']"
   ]
  },
  {
   "cell_type": "code",
   "execution_count": 71,
   "metadata": {
    "id": "bbfe9249-d898-45a6-8d59-23f550516ceb"
   },
   "outputs": [],
   "source": [
    "size = len(df['year'])"
   ]
  },
  {
   "cell_type": "code",
   "execution_count": 72,
   "metadata": {
    "id": "9f2755ee-c70f-417c-b2f3-beebfd01f7e7"
   },
   "outputs": [
    {
     "data": {
      "image/png": "[encoded data removed]",
      "text/plain": [
       "<Figure size 432x288 with 1 Axes>"
      ]
     },
     "metadata": {
      "needs_background": "light"
     },
     "output_type": "display_data"
    }
   ],
   "source": [
    "commutes = df['year']\n",
    "\n",
    "commutes.plot.hist(grid=True, bins=20, rwidth=0.9,color='#607c8e')\n",
    "plt.title('Histogram of release dates')\n",
    "plt.xlabel('Year')\n",
    "plt.ylabel('Count')\n",
    "plt.grid(axis='y', alpha=0.75)"
   ]
  },
  {
   "cell_type": "markdown",
   "metadata": {
    "id": "8687936c-4acb-4b07-ae38-bcef6ebee01c"
   },
   "source": [
    "so, we can see that the skeness is crearly negative and it means that most of the films was released in the last 40 years, its so hard to label them, because there are too much genres and styles to get the most truthful separator of intervals. So we can use the quantiles."
   ]
  },
  {
   "cell_type": "code",
   "execution_count": 73,
   "metadata": {
    "id": "a7511cd6-3a1b-4f04-9201-d989a720dd77"
   },
   "outputs": [
    {
     "data": {
      "text/plain": [
       "0.25    1979.0\n",
       "0.50    2001.0\n",
       "0.75    2010.0\n",
       "Name: year, dtype: float64"
      ]
     },
     "execution_count": 73,
     "metadata": {},
     "output_type": "execute_result"
    }
   ],
   "source": [
    "df.year.quantile([0.25,0.5,0.75])"
   ]
  },
  {
   "cell_type": "markdown",
   "metadata": {
    "id": "690ee996-7b66-46f5-b275-d874253db76a"
   },
   "source": [
    "It seems that is very good seprator, because films before 1979 are too old to recommend and they are a good recommendation to classic films fans or western fans, between 1979 and 2001 was the first golden age of films and there were too many films about multiple genres and was released the first hundred million revenued films and so on.\n",
    "\n",
    "The point is that we can get a good separator, however the films that are in the boundary has the problem of they can be separated, that is problem about this separator, but we can find another solution about it so, date recommendation will have less wight than genres or overview."
   ]
  },
  {
   "cell_type": "code",
   "execution_count": 74,
   "metadata": {
    "id": "c44a8b88-be58-4fbf-bb8f-71dd4f3fc2dc"
   },
   "outputs": [],
   "source": [
    "df['date_label'] = pd.qcut(df['year'], 4, [0,1,2,3])"
   ]
  },
  {
   "cell_type": "code",
   "execution_count": 75,
   "metadata": {
    "id": "a569c218-9919-490d-ba74-c32c415e1157"
   },
   "outputs": [
    {
     "data": {
      "text/plain": [
       "date_label\n",
       "0    8460\n",
       "1    8370\n",
       "2    8062\n",
       "3    8207\n",
       "dtype: int64"
      ]
     },
     "execution_count": 75,
     "metadata": {},
     "output_type": "execute_result"
    }
   ],
   "source": [
    "df.groupby('date_label').size()"
   ]
  },
  {
   "cell_type": "markdown",
   "metadata": {
    "id": "09bdb698fc064ab1a231edca038e2318"
   },
   "source": [
    "Now we need to convert categories to numbers and give \"Nan\" values a mean value"
   ]
  },
  {
   "cell_type": "code",
   "execution_count": 76,
   "metadata": {
    "id": "0ee7deb705be473183f31a65cb174c9d"
   },
   "outputs": [],
   "source": [
    "df['date_label'] = pd.to_numeric(df['date_label'])"
   ]
  },
  {
   "cell_type": "code",
   "execution_count": 77,
   "metadata": {
    "id": "2c8e8e44d0c846528fb99b06f51953ff"
   },
   "outputs": [],
   "source": [
    "mean_date = df['date_label'].mean()"
   ]
  },
  {
   "cell_type": "code",
   "execution_count": 78,
   "metadata": {
    "id": "980a48fb8aac4be19df31cce8bcd4f6d"
   },
   "outputs": [],
   "source": [
    "df['date_label'].replace(to_replace=np.nan, value= mean_date, inplace=True)"
   ]
  },
  {
   "cell_type": "markdown",
   "metadata": {
    "id": "9ecff1f11f5e473d8166da79abbbf589"
   },
   "source": [
    "## 2.2 Genres & Keywords"
   ]
  },
  {
   "cell_type": "markdown",
   "metadata": {
    "id": "76debcd3c9444bb4b36711ca66e2aef1"
   },
   "source": [
    "In this section we build the tfidf matrix about genres, probably the most important feature of the data because there are too many people who a recommendation about same genre of a film they liked. "
   ]
  },
  {
   "cell_type": "code",
   "execution_count": 79,
   "metadata": {
    "id": "3b00a39ab8eb4e73a228665aac462f15"
   },
   "outputs": [],
   "source": [
    "# make a list of every item found in genre column\n",
    "lista_gk = list(df['genres'])\n",
    "Words_gk = [item for sublist in lista_gk for item in sublist]"
   ]
  },
  {
   "cell_type": "code",
   "execution_count": 80,
   "metadata": {
    "id": "b8d37cb8b1ce4524b93af8af837f87d3"
   },
   "outputs": [],
   "source": [
    "# get a dictionary of pair word-count\n",
    "fd_gk = FreqDist(list(Words_gk))"
   ]
  },
  {
   "cell_type": "code",
   "execution_count": 81,
   "metadata": {
    "id": "3e301f30ef1348bc8f5ad3950832668e"
   },
   "outputs": [
    {
     "data": {
      "text/plain": [
       "22"
      ]
     },
     "execution_count": 81,
     "metadata": {},
     "output_type": "execute_result"
    }
   ],
   "source": [
    "len(fd_gk)"
   ]
  },
  {
   "cell_type": "code",
   "execution_count": 82,
   "metadata": {
    "id": "e1f24b49-7635-4dd6-9bb1-0ba0f77c0562"
   },
   "outputs": [
    {
     "data": {
      "text/plain": [
       "FreqDist({'drama': 15350, 'comedy': 10403, 'thriller': 5979, 'romance': 5239, 'action': 4908, 'horror': 3709, 'crime': 3266, 'documentary': 3185, 'adventure': 2761, 'science': 2417, ...})"
      ]
     },
     "execution_count": 82,
     "metadata": {},
     "output_type": "execute_result"
    }
   ],
   "source": [
    "fd_gk"
   ]
  },
  {
   "cell_type": "markdown",
   "metadata": {
    "id": "2cf9c3b5-1e0b-4829-ab22-3fe745c0ce8e"
   },
   "source": [
    "So we have a short number of genres which is really common, but for tfidf method is a problem because we will have a matrix with too much columns (probably 10k+) and 22 columns is not relevant, so we need to reply this columns multiple times to get more weight than others features."
   ]
  },
  {
   "cell_type": "code",
   "execution_count": 83,
   "metadata": {
    "id": "cdb3306c0b264ea09253b3ea24dc0a1c"
   },
   "outputs": [],
   "source": [
    "# get names of genres wich give us a list of 22 names\n",
    "new_gk = fd_gk.items()\n",
    "\n",
    "uniqueWords_gk = []\n",
    "\n",
    "for item in new_gk:\n",
    "   if item not in uniqueWords_gk:\n",
    "      uniqueWords_gk.append(item[0])"
   ]
  },
  {
   "cell_type": "code",
   "execution_count": 84,
   "metadata": {
    "id": "6a290578680e4a38920467f850c3d5d5"
   },
   "outputs": [
    {
     "data": {
      "text/plain": [
       "22"
      ]
     },
     "execution_count": 84,
     "metadata": {},
     "output_type": "execute_result"
    }
   ],
   "source": [
    "len(uniqueWords_gk)"
   ]
  },
  {
   "cell_type": "code",
   "execution_count": 85,
   "metadata": {
    "id": "9d6e92138621478fb35bbe90f3387a52"
   },
   "outputs": [
    {
     "data": {
      "text/plain": [
       "(33114, 22)"
      ]
     },
     "execution_count": 85,
     "metadata": {},
     "output_type": "execute_result"
    }
   ],
   "source": [
    "# get the term frequency matrix\n",
    "cv_1 = CountVectorizer(analyzer = lambda x: x)\n",
    "cv_1_matrix = cv_1.fit_transform(df['genres']).toarray()\n",
    "gk_tf = pd.DataFrame(cv_1_matrix,columns=uniqueWords_gk)\n",
    "gk_tf.shape"
   ]
  },
  {
   "cell_type": "code",
   "execution_count": 86,
   "metadata": {
    "id": "aa87fd36b78e46998a2c655543934f0c"
   },
   "outputs": [
    {
     "data": {
      "text/plain": [
       "(33114, 22)"
      ]
     },
     "execution_count": 86,
     "metadata": {},
     "output_type": "execute_result"
    }
   ],
   "source": [
    "gk_tf.shape"
   ]
  },
  {
   "cell_type": "code",
   "execution_count": 87,
   "metadata": {
    "id": "04fde478826a4841ab8fcd5968ffd43e"
   },
   "outputs": [],
   "source": [
    "# copy tf matrix to keep shape and get idf matrix from it\n",
    "gk_idf = gk_tf "
   ]
  },
  {
   "cell_type": "code",
   "execution_count": 88,
   "metadata": {
    "id": "6954926d8262484b9fc894ecc5efbbcd"
   },
   "outputs": [],
   "source": [
    "# set all values in matrix to 1 \n",
    "gk_idf[gk_idf > 1] = 1 "
   ]
  },
  {
   "cell_type": "code",
   "execution_count": 89,
   "metadata": {
    "id": "6ee99fd1128c4f1183391bb1d98829b2"
   },
   "outputs": [
    {
     "data": {
      "text/plain": [
       "animation       4908\n",
       "comedy          2761\n",
       "family          1312\n",
       "adventure      10403\n",
       "fantasy         3266\n",
       "romance         3185\n",
       "drama          15350\n",
       "action          2284\n",
       "crime           1705\n",
       "thriller        2417\n",
       "horror          1141\n",
       "history         1051\n",
       "science         3709\n",
       "fiction          602\n",
       "mystery         1316\n",
       "foreign         1931\n",
       "music           5239\n",
       "documentary     2417\n",
       "war             5979\n",
       "western          602\n",
       "tv              1058\n",
       "movie            879\n",
       "dtype: int64"
      ]
     },
     "execution_count": 89,
     "metadata": {},
     "output_type": "execute_result"
    }
   ],
   "source": [
    "# get inverse document frequency (number of times a word appear in all documents)\n",
    "gk_inverse = gk_idf.sum(axis=0)\n",
    "\n",
    "gk_inverse"
   ]
  },
  {
   "cell_type": "code",
   "execution_count": 90,
   "metadata": {
    "id": "1a99ffaf00e04fb987c2b1eec40fcc8d"
   },
   "outputs": [
    {
     "data": {
      "text/plain": [
       "animation      1.909090\n",
       "comedy         2.484363\n",
       "family         3.228403\n",
       "adventure      1.157862\n",
       "fantasy        2.316390\n",
       "romance        2.341504\n",
       "drama          0.768841\n",
       "action         2.674028\n",
       "crime          2.966391\n",
       "thriller       2.617429\n",
       "horror         3.368051\n",
       "history        3.450214\n",
       "science        2.189194\n",
       "fiction        4.007454\n",
       "mystery        3.225359\n",
       "foreign        2.841918\n",
       "music          1.843826\n",
       "documentary    2.617429\n",
       "war            1.711703\n",
       "western        4.007454\n",
       "tv             3.443576\n",
       "movie          3.628927\n",
       "dtype: float64"
      ]
     },
     "execution_count": 90,
     "metadata": {},
     "output_type": "execute_result"
    }
   ],
   "source": [
    "# get idf matrix \n",
    "gk_idf = np.log(gk_idf.shape[0] / gk_inverse)\n",
    "\n",
    "gk_idf"
   ]
  },
  {
   "cell_type": "code",
   "execution_count": 91,
   "metadata": {
    "id": "cf5652a06a9743009428cf4f1b7b20f5"
   },
   "outputs": [],
   "source": [
    "# get tfidf matrix \n",
    "gk_tfidf_matrix = gk_tf.mul(gk_idf)\n",
    "gk_tfidf = pd.DataFrame(gk_tfidf_matrix)"
   ]
  },
  {
   "cell_type": "code",
   "execution_count": 92,
   "metadata": {
    "id": "da7bc6a59ac34a5a8db8f6d95eabb329",
    "scrolled": true
   },
   "outputs": [
    {
     "data": {
      "text/html": [
       "<div>\n",
       "<style scoped>\n",
       "    .dataframe tbody tr th:only-of-type {\n",
       "        vertical-align: middle;\n",
       "    }\n",
       "\n",
       "    .dataframe tbody tr th {\n",
       "        vertical-align: top;\n",
       "    }\n",
       "\n",
       "    .dataframe thead th {\n",
       "        text-align: right;\n",
       "    }\n",
       "</style>\n",
       "<table border=\"1\" class=\"dataframe\">\n",
       "  <thead>\n",
       "    <tr style=\"text-align: right;\">\n",
       "      <th></th>\n",
       "      <th>animation</th>\n",
       "      <th>comedy</th>\n",
       "      <th>family</th>\n",
       "      <th>adventure</th>\n",
       "      <th>fantasy</th>\n",
       "      <th>romance</th>\n",
       "      <th>drama</th>\n",
       "      <th>action</th>\n",
       "      <th>crime</th>\n",
       "      <th>thriller</th>\n",
       "      <th>...</th>\n",
       "      <th>science</th>\n",
       "      <th>fiction</th>\n",
       "      <th>mystery</th>\n",
       "      <th>foreign</th>\n",
       "      <th>music</th>\n",
       "      <th>documentary</th>\n",
       "      <th>war</th>\n",
       "      <th>western</th>\n",
       "      <th>tv</th>\n",
       "      <th>movie</th>\n",
       "    </tr>\n",
       "  </thead>\n",
       "  <tbody>\n",
       "    <tr>\n",
       "      <th>0</th>\n",
       "      <td>0.00000</td>\n",
       "      <td>0.000000</td>\n",
       "      <td>3.228403</td>\n",
       "      <td>1.157862</td>\n",
       "      <td>0.00000</td>\n",
       "      <td>0.0</td>\n",
       "      <td>0.000000</td>\n",
       "      <td>2.674028</td>\n",
       "      <td>0.000000</td>\n",
       "      <td>0.0</td>\n",
       "      <td>...</td>\n",
       "      <td>0.0</td>\n",
       "      <td>0.0</td>\n",
       "      <td>0.0</td>\n",
       "      <td>0.0</td>\n",
       "      <td>0.000000</td>\n",
       "      <td>0.0</td>\n",
       "      <td>0.000000</td>\n",
       "      <td>0.0</td>\n",
       "      <td>0.0</td>\n",
       "      <td>0.0</td>\n",
       "    </tr>\n",
       "    <tr>\n",
       "      <th>1</th>\n",
       "      <td>0.00000</td>\n",
       "      <td>2.484363</td>\n",
       "      <td>0.000000</td>\n",
       "      <td>0.000000</td>\n",
       "      <td>0.00000</td>\n",
       "      <td>0.0</td>\n",
       "      <td>0.000000</td>\n",
       "      <td>2.674028</td>\n",
       "      <td>2.966391</td>\n",
       "      <td>0.0</td>\n",
       "      <td>...</td>\n",
       "      <td>0.0</td>\n",
       "      <td>0.0</td>\n",
       "      <td>0.0</td>\n",
       "      <td>0.0</td>\n",
       "      <td>0.000000</td>\n",
       "      <td>0.0</td>\n",
       "      <td>0.000000</td>\n",
       "      <td>0.0</td>\n",
       "      <td>0.0</td>\n",
       "      <td>0.0</td>\n",
       "    </tr>\n",
       "    <tr>\n",
       "      <th>2</th>\n",
       "      <td>0.00000</td>\n",
       "      <td>0.000000</td>\n",
       "      <td>0.000000</td>\n",
       "      <td>1.157862</td>\n",
       "      <td>0.00000</td>\n",
       "      <td>0.0</td>\n",
       "      <td>0.000000</td>\n",
       "      <td>0.000000</td>\n",
       "      <td>0.000000</td>\n",
       "      <td>0.0</td>\n",
       "      <td>...</td>\n",
       "      <td>0.0</td>\n",
       "      <td>0.0</td>\n",
       "      <td>0.0</td>\n",
       "      <td>0.0</td>\n",
       "      <td>1.843826</td>\n",
       "      <td>0.0</td>\n",
       "      <td>0.000000</td>\n",
       "      <td>0.0</td>\n",
       "      <td>0.0</td>\n",
       "      <td>0.0</td>\n",
       "    </tr>\n",
       "    <tr>\n",
       "      <th>3</th>\n",
       "      <td>0.00000</td>\n",
       "      <td>0.000000</td>\n",
       "      <td>0.000000</td>\n",
       "      <td>1.157862</td>\n",
       "      <td>0.00000</td>\n",
       "      <td>0.0</td>\n",
       "      <td>0.768841</td>\n",
       "      <td>0.000000</td>\n",
       "      <td>0.000000</td>\n",
       "      <td>0.0</td>\n",
       "      <td>...</td>\n",
       "      <td>0.0</td>\n",
       "      <td>0.0</td>\n",
       "      <td>0.0</td>\n",
       "      <td>0.0</td>\n",
       "      <td>1.843826</td>\n",
       "      <td>0.0</td>\n",
       "      <td>0.000000</td>\n",
       "      <td>0.0</td>\n",
       "      <td>0.0</td>\n",
       "      <td>0.0</td>\n",
       "    </tr>\n",
       "    <tr>\n",
       "      <th>4</th>\n",
       "      <td>0.00000</td>\n",
       "      <td>0.000000</td>\n",
       "      <td>0.000000</td>\n",
       "      <td>1.157862</td>\n",
       "      <td>0.00000</td>\n",
       "      <td>0.0</td>\n",
       "      <td>0.000000</td>\n",
       "      <td>0.000000</td>\n",
       "      <td>0.000000</td>\n",
       "      <td>0.0</td>\n",
       "      <td>...</td>\n",
       "      <td>0.0</td>\n",
       "      <td>0.0</td>\n",
       "      <td>0.0</td>\n",
       "      <td>0.0</td>\n",
       "      <td>0.000000</td>\n",
       "      <td>0.0</td>\n",
       "      <td>0.000000</td>\n",
       "      <td>0.0</td>\n",
       "      <td>0.0</td>\n",
       "      <td>0.0</td>\n",
       "    </tr>\n",
       "    <tr>\n",
       "      <th>5</th>\n",
       "      <td>1.90909</td>\n",
       "      <td>0.000000</td>\n",
       "      <td>0.000000</td>\n",
       "      <td>0.000000</td>\n",
       "      <td>2.31639</td>\n",
       "      <td>0.0</td>\n",
       "      <td>0.768841</td>\n",
       "      <td>0.000000</td>\n",
       "      <td>0.000000</td>\n",
       "      <td>0.0</td>\n",
       "      <td>...</td>\n",
       "      <td>0.0</td>\n",
       "      <td>0.0</td>\n",
       "      <td>0.0</td>\n",
       "      <td>0.0</td>\n",
       "      <td>0.000000</td>\n",
       "      <td>0.0</td>\n",
       "      <td>1.711703</td>\n",
       "      <td>0.0</td>\n",
       "      <td>0.0</td>\n",
       "      <td>0.0</td>\n",
       "    </tr>\n",
       "    <tr>\n",
       "      <th>6</th>\n",
       "      <td>0.00000</td>\n",
       "      <td>0.000000</td>\n",
       "      <td>0.000000</td>\n",
       "      <td>1.157862</td>\n",
       "      <td>0.00000</td>\n",
       "      <td>0.0</td>\n",
       "      <td>0.000000</td>\n",
       "      <td>0.000000</td>\n",
       "      <td>0.000000</td>\n",
       "      <td>0.0</td>\n",
       "      <td>...</td>\n",
       "      <td>0.0</td>\n",
       "      <td>0.0</td>\n",
       "      <td>0.0</td>\n",
       "      <td>0.0</td>\n",
       "      <td>1.843826</td>\n",
       "      <td>0.0</td>\n",
       "      <td>0.000000</td>\n",
       "      <td>0.0</td>\n",
       "      <td>0.0</td>\n",
       "      <td>0.0</td>\n",
       "    </tr>\n",
       "    <tr>\n",
       "      <th>7</th>\n",
       "      <td>1.90909</td>\n",
       "      <td>2.484363</td>\n",
       "      <td>0.000000</td>\n",
       "      <td>0.000000</td>\n",
       "      <td>0.00000</td>\n",
       "      <td>0.0</td>\n",
       "      <td>0.768841</td>\n",
       "      <td>2.674028</td>\n",
       "      <td>0.000000</td>\n",
       "      <td>0.0</td>\n",
       "      <td>...</td>\n",
       "      <td>0.0</td>\n",
       "      <td>0.0</td>\n",
       "      <td>0.0</td>\n",
       "      <td>0.0</td>\n",
       "      <td>0.000000</td>\n",
       "      <td>0.0</td>\n",
       "      <td>0.000000</td>\n",
       "      <td>0.0</td>\n",
       "      <td>0.0</td>\n",
       "      <td>0.0</td>\n",
       "    </tr>\n",
       "    <tr>\n",
       "      <th>8</th>\n",
       "      <td>1.90909</td>\n",
       "      <td>2.484363</td>\n",
       "      <td>0.000000</td>\n",
       "      <td>0.000000</td>\n",
       "      <td>0.00000</td>\n",
       "      <td>0.0</td>\n",
       "      <td>0.000000</td>\n",
       "      <td>0.000000</td>\n",
       "      <td>0.000000</td>\n",
       "      <td>0.0</td>\n",
       "      <td>...</td>\n",
       "      <td>0.0</td>\n",
       "      <td>0.0</td>\n",
       "      <td>0.0</td>\n",
       "      <td>0.0</td>\n",
       "      <td>0.000000</td>\n",
       "      <td>0.0</td>\n",
       "      <td>1.711703</td>\n",
       "      <td>0.0</td>\n",
       "      <td>0.0</td>\n",
       "      <td>0.0</td>\n",
       "    </tr>\n",
       "    <tr>\n",
       "      <th>9</th>\n",
       "      <td>1.90909</td>\n",
       "      <td>2.484363</td>\n",
       "      <td>0.000000</td>\n",
       "      <td>0.000000</td>\n",
       "      <td>0.00000</td>\n",
       "      <td>0.0</td>\n",
       "      <td>0.000000</td>\n",
       "      <td>0.000000</td>\n",
       "      <td>0.000000</td>\n",
       "      <td>0.0</td>\n",
       "      <td>...</td>\n",
       "      <td>0.0</td>\n",
       "      <td>0.0</td>\n",
       "      <td>0.0</td>\n",
       "      <td>0.0</td>\n",
       "      <td>0.000000</td>\n",
       "      <td>0.0</td>\n",
       "      <td>1.711703</td>\n",
       "      <td>0.0</td>\n",
       "      <td>0.0</td>\n",
       "      <td>0.0</td>\n",
       "    </tr>\n",
       "  </tbody>\n",
       "</table>\n",
       "<p>10 rows × 22 columns</p>\n",
       "</div>"
      ],
      "text/plain": [
       "   animation    comedy    family  adventure  fantasy  romance     drama  \\\n",
       "0    0.00000  0.000000  3.228403   1.157862  0.00000      0.0  0.000000   \n",
       "1    0.00000  2.484363  0.000000   0.000000  0.00000      0.0  0.000000   \n",
       "2    0.00000  0.000000  0.000000   1.157862  0.00000      0.0  0.000000   \n",
       "3    0.00000  0.000000  0.000000   1.157862  0.00000      0.0  0.768841   \n",
       "4    0.00000  0.000000  0.000000   1.157862  0.00000      0.0  0.000000   \n",
       "5    1.90909  0.000000  0.000000   0.000000  2.31639      0.0  0.768841   \n",
       "6    0.00000  0.000000  0.000000   1.157862  0.00000      0.0  0.000000   \n",
       "7    1.90909  2.484363  0.000000   0.000000  0.00000      0.0  0.768841   \n",
       "8    1.90909  2.484363  0.000000   0.000000  0.00000      0.0  0.000000   \n",
       "9    1.90909  2.484363  0.000000   0.000000  0.00000      0.0  0.000000   \n",
       "\n",
       "     action     crime  thriller  ...  science  fiction  mystery  foreign  \\\n",
       "0  2.674028  0.000000       0.0  ...      0.0      0.0      0.0      0.0   \n",
       "1  2.674028  2.966391       0.0  ...      0.0      0.0      0.0      0.0   \n",
       "2  0.000000  0.000000       0.0  ...      0.0      0.0      0.0      0.0   \n",
       "3  0.000000  0.000000       0.0  ...      0.0      0.0      0.0      0.0   \n",
       "4  0.000000  0.000000       0.0  ...      0.0      0.0      0.0      0.0   \n",
       "5  0.000000  0.000000       0.0  ...      0.0      0.0      0.0      0.0   \n",
       "6  0.000000  0.000000       0.0  ...      0.0      0.0      0.0      0.0   \n",
       "7  2.674028  0.000000       0.0  ...      0.0      0.0      0.0      0.0   \n",
       "8  0.000000  0.000000       0.0  ...      0.0      0.0      0.0      0.0   \n",
       "9  0.000000  0.000000       0.0  ...      0.0      0.0      0.0      0.0   \n",
       "\n",
       "      music  documentary       war  western   tv  movie  \n",
       "0  0.000000          0.0  0.000000      0.0  0.0    0.0  \n",
       "1  0.000000          0.0  0.000000      0.0  0.0    0.0  \n",
       "2  1.843826          0.0  0.000000      0.0  0.0    0.0  \n",
       "3  1.843826          0.0  0.000000      0.0  0.0    0.0  \n",
       "4  0.000000          0.0  0.000000      0.0  0.0    0.0  \n",
       "5  0.000000          0.0  1.711703      0.0  0.0    0.0  \n",
       "6  1.843826          0.0  0.000000      0.0  0.0    0.0  \n",
       "7  0.000000          0.0  0.000000      0.0  0.0    0.0  \n",
       "8  0.000000          0.0  1.711703      0.0  0.0    0.0  \n",
       "9  0.000000          0.0  1.711703      0.0  0.0    0.0  \n",
       "\n",
       "[10 rows x 22 columns]"
      ]
     },
     "execution_count": 92,
     "metadata": {},
     "output_type": "execute_result"
    }
   ],
   "source": [
    "gk_tfidf.head(10) "
   ]
  },
  {
   "cell_type": "code",
   "execution_count": 93,
   "metadata": {
    "id": "17ffc4ab52be439188cd7345ca985828"
   },
   "outputs": [
    {
     "data": {
      "text/plain": [
       "(33114, 22)"
      ]
     },
     "execution_count": 93,
     "metadata": {},
     "output_type": "execute_result"
    }
   ],
   "source": [
    "#Output the shape of tfidf_matrix\n",
    "gk_tfidf.shape"
   ]
  },
  {
   "cell_type": "markdown",
   "metadata": {
    "id": "6f64b2cf-5003-4879-93ff-3a95e656ec35"
   },
   "source": [
    "The length of column as we saw previously is too short, so we will need to reply multiple times to get a good length, but we need to get the shape of the other feautures."
   ]
  },
  {
   "cell_type": "markdown",
   "metadata": {
    "id": "d64ec6a761cd4d969650181cba362f8c"
   },
   "source": [
    "# 2.3- Director & Cast"
   ]
  },
  {
   "cell_type": "markdown",
   "metadata": {
    "id": "fa6ce626-226b-47d0-867a-bc6ab58a188b"
   },
   "source": [
    "Next feature is important too, because an actor or director can make a person to watch a film, that's why the main cast and director are always at the front page of main page and advertisements, so we will build a tfidf matrix about this feature to add to the recommendation. "
   ]
  },
  {
   "cell_type": "code",
   "execution_count": 94,
   "metadata": {
    "id": "73a763919c00409e8213af50240cccd4"
   },
   "outputs": [],
   "source": [
    "# make a list of every item found in genre column\n",
    "lista_nam = list(df['names'])\n",
    "Words_nam = [item for sublist in lista_nam for item in sublist]"
   ]
  },
  {
   "cell_type": "code",
   "execution_count": 95,
   "metadata": {
    "id": "205a39912fc240e79866fa89eb19530b"
   },
   "outputs": [],
   "source": [
    "# get a dictionary of pair word-count\n",
    "fd_nam = FreqDist(list(Words_nam))"
   ]
  },
  {
   "cell_type": "code",
   "execution_count": 96,
   "metadata": {
    "id": "ebecdc9b7aa54cb68cd52cf5295a8ffe"
   },
   "outputs": [
    {
     "data": {
      "text/plain": [
       "50335"
      ]
     },
     "execution_count": 96,
     "metadata": {},
     "output_type": "execute_result"
    }
   ],
   "source": [
    "len(fd_nam)"
   ]
  },
  {
   "cell_type": "markdown",
   "metadata": {
    "id": "7aba5330-7869-49d3-ae2e-50ad38070ca5"
   },
   "source": [
    "So this length is so much larger than genres, and its a compute problem to make transformation to a matrix with 54656 columns, so we will reduce to get a good amount of columns, for example, if we need recommendations about this name, we need to find the same values, so if we delete the values that appear less than x times we can reduce the amount of data (for example if 'Pepe Fernandez' appear in 2 films and we set x to 3, 'Pepe Fernandez' will not appear in tfidf matrix)."
   ]
  },
  {
   "cell_type": "code",
   "execution_count": 97,
   "metadata": {
    "id": "352abdea9d4b42d2801e7f992219b446"
   },
   "outputs": [],
   "source": [
    "# erase names wich appear less than 5 times in df_nam\n",
    "passed_nam = {key:value for key, value in fd_nam.items() if value > 4}"
   ]
  },
  {
   "cell_type": "code",
   "execution_count": 98,
   "metadata": {
    "id": "b575ce4b5c304a0e94e877aea9ea7ec2"
   },
   "outputs": [
    {
     "data": {
      "text/plain": [
       "5591"
      ]
     },
     "execution_count": 98,
     "metadata": {},
     "output_type": "execute_result"
    }
   ],
   "source": [
    "len(passed_nam)"
   ]
  },
  {
   "cell_type": "markdown",
   "metadata": {
    "id": "59caf274-4b80-4b5e-8f8f-76e5d73f14e8"
   },
   "source": [
    "We set the value to more than 4, because we need We set the value to more than 4, because we need a good amount to reduce the computation time and of course we need a big amount of names to not lose the point of this recommendation, there is not a problem about is still much bigger than genres, but we said we will reply columns to get the same or bigger length."
   ]
  },
  {
   "cell_type": "code",
   "execution_count": 99,
   "metadata": {
    "id": "ffa2e97ad3134a339a36cfa0e9bd3c08"
   },
   "outputs": [],
   "source": [
    "# get names of cast and director wich give us a list of 6291 names\n",
    "new_names = passed_nam.items()\n",
    "uniqueWords_nam = []\n",
    "\n",
    "for item in new_names:\n",
    "   if item not in uniqueWords_nam:\n",
    "      uniqueWords_nam.append(item[0])"
   ]
  },
  {
   "cell_type": "code",
   "execution_count": 100,
   "metadata": {
    "id": "fc41fe540b5646288ed155464dd59b7d"
   },
   "outputs": [],
   "source": [
    "# Erase names wich was eliminated with the filter 'appear less than 5 times' so we need to make the intersection between\n",
    "# filtered list and the column 'names'\n",
    "df['names'] = df['names'].apply(lambda x: list(set(x).intersection(set(uniqueWords_nam))))"
   ]
  },
  {
   "cell_type": "code",
   "execution_count": 101,
   "metadata": {
    "id": "86841e60bad742aab1dfdb193a0fa9f4"
   },
   "outputs": [
    {
     "data": {
      "text/plain": [
       "(33114, 5591)"
      ]
     },
     "execution_count": 101,
     "metadata": {},
     "output_type": "execute_result"
    }
   ],
   "source": [
    "# get the term frequency matrix\n",
    "cv_2 = CountVectorizer(analyzer = lambda x: x)\n",
    "cv_2_matrix = cv_2.fit_transform(df['names']).toarray()\n",
    "nam_tf = pd.DataFrame(cv_2_matrix,columns=uniqueWords_nam)\n",
    "nam_tf.shape"
   ]
  },
  {
   "cell_type": "code",
   "execution_count": 102,
   "metadata": {
    "id": "2a882861be69452b9d28781d3bb05722"
   },
   "outputs": [],
   "source": [
    "# copy tf matrix to keep shape and get idf matrix from it\n",
    "nam_idf = nam_tf "
   ]
  },
  {
   "cell_type": "code",
   "execution_count": 103,
   "metadata": {
    "id": "70ff531d3841411a909710e8ffa05383"
   },
   "outputs": [],
   "source": [
    "# set all values in matrix to 1 \n",
    "nam_idf[nam_idf > 1] = 1"
   ]
  },
  {
   "cell_type": "code",
   "execution_count": 104,
   "metadata": {
    "id": "f0ff6ad06a9242e0b3917efd643155f7"
   },
   "outputs": [
    {
     "data": {
      "text/plain": [
       "TomHanks             11\n",
       "TimAllen              6\n",
       "DonRickles            6\n",
       "JohnLasseter          5\n",
       "RobinWilliams        17\n",
       "                     ..\n",
       "BernardGorcey         5\n",
       "LisaLampanelli        3\n",
       "CatherineBell         4\n",
       "ClaudiaGalli         12\n",
       "ChristianI.NybyII     7\n",
       "Length: 5591, dtype: int64"
      ]
     },
     "execution_count": 104,
     "metadata": {},
     "output_type": "execute_result"
    }
   ],
   "source": [
    "# get inverse document frequency (number of times a word appear in all documents)\n",
    "nam_inverse = nam_idf.sum(axis=0)\n",
    "\n",
    "nam_inverse"
   ]
  },
  {
   "cell_type": "code",
   "execution_count": 105,
   "metadata": {
    "id": "ca5daf02eff3442c93ff7de13f940277"
   },
   "outputs": [],
   "source": [
    "# get tfidf matrix \n",
    "nam_tfidf_matrix = nam_tf.mul(nam_idf)\n",
    "nam_tfidf = pd.DataFrame(nam_tfidf_matrix)"
   ]
  },
  {
   "cell_type": "code",
   "execution_count": 106,
   "metadata": {
    "id": "43a35da73e1c45f08dca6745738e3edb"
   },
   "outputs": [
    {
     "data": {
      "text/plain": [
       "TomHanks             8.009816\n",
       "TimAllen             8.615952\n",
       "DonRickles           8.615952\n",
       "JohnLasseter         8.798274\n",
       "RobinWilliams        7.574498\n",
       "                       ...   \n",
       "BernardGorcey        8.798274\n",
       "LisaLampanelli       9.309099\n",
       "CatherineBell        9.021417\n",
       "ClaudiaGalli         7.922805\n",
       "ChristianI.NybyII    8.461801\n",
       "Length: 5591, dtype: float64"
      ]
     },
     "execution_count": 106,
     "metadata": {},
     "output_type": "execute_result"
    }
   ],
   "source": [
    "# get idf matrix \n",
    "nam_idf = np.log(nam_idf.shape[0] / nam_inverse)\n",
    "\n",
    "nam_idf"
   ]
  },
  {
   "cell_type": "code",
   "execution_count": 107,
   "metadata": {
    "id": "36170bf503aa463c8736601af77e93c5"
   },
   "outputs": [
    {
     "data": {
      "text/html": [
       "<div>\n",
       "<style scoped>\n",
       "    .dataframe tbody tr th:only-of-type {\n",
       "        vertical-align: middle;\n",
       "    }\n",
       "\n",
       "    .dataframe tbody tr th {\n",
       "        vertical-align: top;\n",
       "    }\n",
       "\n",
       "    .dataframe thead th {\n",
       "        text-align: right;\n",
       "    }\n",
       "</style>\n",
       "<table border=\"1\" class=\"dataframe\">\n",
       "  <thead>\n",
       "    <tr style=\"text-align: right;\">\n",
       "      <th></th>\n",
       "      <th>TomHanks</th>\n",
       "      <th>TimAllen</th>\n",
       "      <th>DonRickles</th>\n",
       "      <th>JohnLasseter</th>\n",
       "      <th>RobinWilliams</th>\n",
       "      <th>KirstenDunst</th>\n",
       "      <th>JoeJohnston</th>\n",
       "      <th>WalterMatthau</th>\n",
       "      <th>JackLemmon</th>\n",
       "      <th>Ann-Margret</th>\n",
       "      <th>...</th>\n",
       "      <th>ÖzcanDeniz</th>\n",
       "      <th>ShaneVanDyke</th>\n",
       "      <th>JamesH.White</th>\n",
       "      <th>KevinFair</th>\n",
       "      <th>JimmyCarr</th>\n",
       "      <th>BernardGorcey</th>\n",
       "      <th>LisaLampanelli</th>\n",
       "      <th>CatherineBell</th>\n",
       "      <th>ClaudiaGalli</th>\n",
       "      <th>ChristianI.NybyII</th>\n",
       "    </tr>\n",
       "  </thead>\n",
       "  <tbody>\n",
       "    <tr>\n",
       "      <th>0</th>\n",
       "      <td>0</td>\n",
       "      <td>0</td>\n",
       "      <td>0</td>\n",
       "      <td>0</td>\n",
       "      <td>0</td>\n",
       "      <td>0</td>\n",
       "      <td>0</td>\n",
       "      <td>0</td>\n",
       "      <td>0</td>\n",
       "      <td>0</td>\n",
       "      <td>...</td>\n",
       "      <td>0</td>\n",
       "      <td>0</td>\n",
       "      <td>0</td>\n",
       "      <td>0</td>\n",
       "      <td>0</td>\n",
       "      <td>0</td>\n",
       "      <td>0</td>\n",
       "      <td>0</td>\n",
       "      <td>0</td>\n",
       "      <td>0</td>\n",
       "    </tr>\n",
       "    <tr>\n",
       "      <th>1</th>\n",
       "      <td>0</td>\n",
       "      <td>0</td>\n",
       "      <td>0</td>\n",
       "      <td>0</td>\n",
       "      <td>0</td>\n",
       "      <td>0</td>\n",
       "      <td>0</td>\n",
       "      <td>0</td>\n",
       "      <td>0</td>\n",
       "      <td>0</td>\n",
       "      <td>...</td>\n",
       "      <td>0</td>\n",
       "      <td>0</td>\n",
       "      <td>0</td>\n",
       "      <td>0</td>\n",
       "      <td>0</td>\n",
       "      <td>0</td>\n",
       "      <td>0</td>\n",
       "      <td>0</td>\n",
       "      <td>0</td>\n",
       "      <td>0</td>\n",
       "    </tr>\n",
       "    <tr>\n",
       "      <th>2</th>\n",
       "      <td>0</td>\n",
       "      <td>0</td>\n",
       "      <td>0</td>\n",
       "      <td>0</td>\n",
       "      <td>0</td>\n",
       "      <td>0</td>\n",
       "      <td>0</td>\n",
       "      <td>0</td>\n",
       "      <td>0</td>\n",
       "      <td>0</td>\n",
       "      <td>...</td>\n",
       "      <td>0</td>\n",
       "      <td>0</td>\n",
       "      <td>0</td>\n",
       "      <td>0</td>\n",
       "      <td>0</td>\n",
       "      <td>0</td>\n",
       "      <td>0</td>\n",
       "      <td>0</td>\n",
       "      <td>0</td>\n",
       "      <td>0</td>\n",
       "    </tr>\n",
       "    <tr>\n",
       "      <th>3</th>\n",
       "      <td>0</td>\n",
       "      <td>0</td>\n",
       "      <td>0</td>\n",
       "      <td>0</td>\n",
       "      <td>0</td>\n",
       "      <td>0</td>\n",
       "      <td>0</td>\n",
       "      <td>0</td>\n",
       "      <td>0</td>\n",
       "      <td>0</td>\n",
       "      <td>...</td>\n",
       "      <td>0</td>\n",
       "      <td>0</td>\n",
       "      <td>0</td>\n",
       "      <td>0</td>\n",
       "      <td>0</td>\n",
       "      <td>0</td>\n",
       "      <td>0</td>\n",
       "      <td>0</td>\n",
       "      <td>0</td>\n",
       "      <td>0</td>\n",
       "    </tr>\n",
       "    <tr>\n",
       "      <th>4</th>\n",
       "      <td>0</td>\n",
       "      <td>0</td>\n",
       "      <td>0</td>\n",
       "      <td>0</td>\n",
       "      <td>0</td>\n",
       "      <td>0</td>\n",
       "      <td>0</td>\n",
       "      <td>0</td>\n",
       "      <td>0</td>\n",
       "      <td>0</td>\n",
       "      <td>...</td>\n",
       "      <td>0</td>\n",
       "      <td>0</td>\n",
       "      <td>0</td>\n",
       "      <td>0</td>\n",
       "      <td>0</td>\n",
       "      <td>0</td>\n",
       "      <td>0</td>\n",
       "      <td>0</td>\n",
       "      <td>0</td>\n",
       "      <td>0</td>\n",
       "    </tr>\n",
       "    <tr>\n",
       "      <th>5</th>\n",
       "      <td>0</td>\n",
       "      <td>0</td>\n",
       "      <td>0</td>\n",
       "      <td>0</td>\n",
       "      <td>0</td>\n",
       "      <td>0</td>\n",
       "      <td>0</td>\n",
       "      <td>0</td>\n",
       "      <td>0</td>\n",
       "      <td>0</td>\n",
       "      <td>...</td>\n",
       "      <td>0</td>\n",
       "      <td>0</td>\n",
       "      <td>0</td>\n",
       "      <td>0</td>\n",
       "      <td>0</td>\n",
       "      <td>0</td>\n",
       "      <td>0</td>\n",
       "      <td>0</td>\n",
       "      <td>0</td>\n",
       "      <td>0</td>\n",
       "    </tr>\n",
       "    <tr>\n",
       "      <th>6</th>\n",
       "      <td>0</td>\n",
       "      <td>0</td>\n",
       "      <td>0</td>\n",
       "      <td>0</td>\n",
       "      <td>0</td>\n",
       "      <td>0</td>\n",
       "      <td>0</td>\n",
       "      <td>0</td>\n",
       "      <td>0</td>\n",
       "      <td>0</td>\n",
       "      <td>...</td>\n",
       "      <td>0</td>\n",
       "      <td>0</td>\n",
       "      <td>0</td>\n",
       "      <td>0</td>\n",
       "      <td>0</td>\n",
       "      <td>0</td>\n",
       "      <td>0</td>\n",
       "      <td>0</td>\n",
       "      <td>0</td>\n",
       "      <td>0</td>\n",
       "    </tr>\n",
       "    <tr>\n",
       "      <th>7</th>\n",
       "      <td>0</td>\n",
       "      <td>0</td>\n",
       "      <td>0</td>\n",
       "      <td>0</td>\n",
       "      <td>0</td>\n",
       "      <td>0</td>\n",
       "      <td>0</td>\n",
       "      <td>0</td>\n",
       "      <td>0</td>\n",
       "      <td>0</td>\n",
       "      <td>...</td>\n",
       "      <td>0</td>\n",
       "      <td>0</td>\n",
       "      <td>0</td>\n",
       "      <td>0</td>\n",
       "      <td>0</td>\n",
       "      <td>0</td>\n",
       "      <td>0</td>\n",
       "      <td>0</td>\n",
       "      <td>0</td>\n",
       "      <td>0</td>\n",
       "    </tr>\n",
       "    <tr>\n",
       "      <th>8</th>\n",
       "      <td>0</td>\n",
       "      <td>0</td>\n",
       "      <td>0</td>\n",
       "      <td>0</td>\n",
       "      <td>0</td>\n",
       "      <td>0</td>\n",
       "      <td>0</td>\n",
       "      <td>0</td>\n",
       "      <td>0</td>\n",
       "      <td>0</td>\n",
       "      <td>...</td>\n",
       "      <td>0</td>\n",
       "      <td>0</td>\n",
       "      <td>0</td>\n",
       "      <td>0</td>\n",
       "      <td>0</td>\n",
       "      <td>0</td>\n",
       "      <td>0</td>\n",
       "      <td>0</td>\n",
       "      <td>0</td>\n",
       "      <td>0</td>\n",
       "    </tr>\n",
       "    <tr>\n",
       "      <th>9</th>\n",
       "      <td>0</td>\n",
       "      <td>0</td>\n",
       "      <td>0</td>\n",
       "      <td>0</td>\n",
       "      <td>0</td>\n",
       "      <td>0</td>\n",
       "      <td>0</td>\n",
       "      <td>0</td>\n",
       "      <td>0</td>\n",
       "      <td>0</td>\n",
       "      <td>...</td>\n",
       "      <td>0</td>\n",
       "      <td>0</td>\n",
       "      <td>0</td>\n",
       "      <td>0</td>\n",
       "      <td>0</td>\n",
       "      <td>0</td>\n",
       "      <td>0</td>\n",
       "      <td>0</td>\n",
       "      <td>0</td>\n",
       "      <td>0</td>\n",
       "    </tr>\n",
       "  </tbody>\n",
       "</table>\n",
       "<p>10 rows × 5591 columns</p>\n",
       "</div>"
      ],
      "text/plain": [
       "   TomHanks  TimAllen  DonRickles  JohnLasseter  RobinWilliams  KirstenDunst  \\\n",
       "0         0         0           0             0              0             0   \n",
       "1         0         0           0             0              0             0   \n",
       "2         0         0           0             0              0             0   \n",
       "3         0         0           0             0              0             0   \n",
       "4         0         0           0             0              0             0   \n",
       "5         0         0           0             0              0             0   \n",
       "6         0         0           0             0              0             0   \n",
       "7         0         0           0             0              0             0   \n",
       "8         0         0           0             0              0             0   \n",
       "9         0         0           0             0              0             0   \n",
       "\n",
       "   JoeJohnston  WalterMatthau  JackLemmon  Ann-Margret  ...  ÖzcanDeniz  \\\n",
       "0            0              0           0            0  ...           0   \n",
       "1            0              0           0            0  ...           0   \n",
       "2            0              0           0            0  ...           0   \n",
       "3            0              0           0            0  ...           0   \n",
       "4            0              0           0            0  ...           0   \n",
       "5            0              0           0            0  ...           0   \n",
       "6            0              0           0            0  ...           0   \n",
       "7            0              0           0            0  ...           0   \n",
       "8            0              0           0            0  ...           0   \n",
       "9            0              0           0            0  ...           0   \n",
       "\n",
       "   ShaneVanDyke  JamesH.White  KevinFair  JimmyCarr  BernardGorcey  \\\n",
       "0             0             0          0          0              0   \n",
       "1             0             0          0          0              0   \n",
       "2             0             0          0          0              0   \n",
       "3             0             0          0          0              0   \n",
       "4             0             0          0          0              0   \n",
       "5             0             0          0          0              0   \n",
       "6             0             0          0          0              0   \n",
       "7             0             0          0          0              0   \n",
       "8             0             0          0          0              0   \n",
       "9             0             0          0          0              0   \n",
       "\n",
       "   LisaLampanelli  CatherineBell  ClaudiaGalli  ChristianI.NybyII  \n",
       "0               0              0             0                  0  \n",
       "1               0              0             0                  0  \n",
       "2               0              0             0                  0  \n",
       "3               0              0             0                  0  \n",
       "4               0              0             0                  0  \n",
       "5               0              0             0                  0  \n",
       "6               0              0             0                  0  \n",
       "7               0              0             0                  0  \n",
       "8               0              0             0                  0  \n",
       "9               0              0             0                  0  \n",
       "\n",
       "[10 rows x 5591 columns]"
      ]
     },
     "execution_count": 107,
     "metadata": {},
     "output_type": "execute_result"
    }
   ],
   "source": [
    "nam_tfidf.head(10) "
   ]
  },
  {
   "cell_type": "code",
   "execution_count": 108,
   "metadata": {
    "id": "1f175e11d6914a0eb9f7fab30d874b6f"
   },
   "outputs": [
    {
     "data": {
      "text/plain": [
       "(33114, 5591)"
      ]
     },
     "execution_count": 108,
     "metadata": {},
     "output_type": "execute_result"
    }
   ],
   "source": [
    "#Output the shape of tfidf_matrix\n",
    "nam_tfidf.shape"
   ]
  },
  {
   "cell_type": "markdown",
   "metadata": {
    "id": "4470f14a-dbbd-43cc-81d7-6088d2a7632a"
   },
   "source": [
    "And we get the tfidf matrix of the feature names (director and 3 main actors)."
   ]
  },
  {
   "cell_type": "markdown",
   "metadata": {
    "id": "b395d27a316c46478879b4c997a4c203"
   },
   "source": [
    "# 2.4- Overview"
   ]
  },
  {
   "cell_type": "markdown",
   "metadata": {
    "id": "e1bacf250591486f829c23d52af951e3"
   },
   "source": [
    "Now the overview will be processed, the problem is it has too many different words inside, this will be a computational problem and it is a must to reduce the amount of words needed in overview TF-IDF matrix."
   ]
  },
  {
   "cell_type": "code",
   "execution_count": 109,
   "metadata": {
    "id": "e6c78eec980444128568dd93eb86ef84"
   },
   "outputs": [],
   "source": [
    "fd_ow = FreqDist(list(Words_overview))"
   ]
  },
  {
   "cell_type": "code",
   "execution_count": 110,
   "metadata": {
    "id": "a5a023a67f3446a39abe8c63da2617a3"
   },
   "outputs": [],
   "source": [
    "fdx_ow = FreqDist(dict(fd_ow.most_common()))"
   ]
  },
  {
   "cell_type": "markdown",
   "metadata": {},
   "source": [
    "Now we will apply a filter to reduce less common words and most common words, less common is to reduce the amount of words, because most of the words don't appear more than 10 times, but we select 15 to reduce the amount of memory needed, and in high boundary we select 5000 as top appearance, because we don't want a words that is too common because it will a redundant information."
   ]
  },
  {
   "cell_type": "code",
   "execution_count": 111,
   "metadata": {
    "id": "6337acdd8b4345239bd78ef96e0f8d7a"
   },
   "outputs": [],
   "source": [
    "passed_ow = {key:value for key, value in fdx_ow.items() if value > 15 and value < 5000}"
   ]
  },
  {
   "cell_type": "code",
   "execution_count": 112,
   "metadata": {
    "id": "3975eb6af89b485488abc1f920594b13"
   },
   "outputs": [
    {
     "data": {
      "text/plain": [
       "6998"
      ]
     },
     "execution_count": 112,
     "metadata": {},
     "output_type": "execute_result"
    }
   ],
   "source": [
    "len(passed_ow)"
   ]
  },
  {
   "cell_type": "markdown",
   "metadata": {},
   "source": [
    "The final shape is 6998, which is really good to avoid high requirements."
   ]
  },
  {
   "cell_type": "code",
   "execution_count": 113,
   "metadata": {
    "id": "a5678c445df64814b05889e6f90f87ad"
   },
   "outputs": [],
   "source": [
    "new_overview = passed_ow.items()"
   ]
  },
  {
   "cell_type": "code",
   "execution_count": 114,
   "metadata": {
    "id": "1dcb2f9613804be0a170e48b1d1e7124"
   },
   "outputs": [],
   "source": [
    "uniqueWords_ow = []\n",
    "\n",
    "for item in new_overview:\n",
    "   if item not in uniqueWords_ow:\n",
    "      uniqueWords_ow.append(item[0])"
   ]
  },
  {
   "cell_type": "code",
   "execution_count": 115,
   "metadata": {
    "id": "01c788677f904d6c8b8e66669356b309"
   },
   "outputs": [
    {
     "data": {
      "text/plain": [
       "6998"
      ]
     },
     "execution_count": 115,
     "metadata": {},
     "output_type": "execute_result"
    }
   ],
   "source": [
    "len(uniqueWords_ow)"
   ]
  },
  {
   "cell_type": "markdown",
   "metadata": {},
   "source": [
    "Now we have to delete values out of the bounds."
   ]
  },
  {
   "cell_type": "code",
   "execution_count": 116,
   "metadata": {
    "id": "bd7c6d82206c4cea89e3ffb4a60ff489"
   },
   "outputs": [],
   "source": [
    "df['descripcion'] = df['overview'].apply(lambda x: list(set(x).intersection(set(uniqueWords_ow))))"
   ]
  },
  {
   "cell_type": "code",
   "execution_count": 117,
   "metadata": {
    "id": "fc815a076b5a43848d047672ca2ebcab"
   },
   "outputs": [
    {
     "data": {
      "text/plain": [
       "27"
      ]
     },
     "execution_count": 117,
     "metadata": {},
     "output_type": "execute_result"
    }
   ],
   "source": [
    "len(df['descripcion'][112])"
   ]
  },
  {
   "cell_type": "code",
   "execution_count": 118,
   "metadata": {
    "id": "1cf3a093805443bda2f967359dd79ef6"
   },
   "outputs": [
    {
     "data": {
      "text/plain": [
       "29"
      ]
     },
     "execution_count": 118,
     "metadata": {},
     "output_type": "execute_result"
    }
   ],
   "source": [
    "len(df['overview'][112])"
   ]
  },
  {
   "cell_type": "code",
   "execution_count": 119,
   "metadata": {
    "id": "352f0b16f44d43709cd0e4e87947e264"
   },
   "outputs": [
    {
     "data": {
      "text/plain": [
       "['hatchet', 'fransisco']"
      ]
     },
     "execution_count": 119,
     "metadata": {},
     "output_type": "execute_result"
    }
   ],
   "source": [
    "a = df['descripcion'][112]\n",
    "b = df['overview'][112]\n",
    "list(e for e in b if e not in a) # words excluded with the filter"
   ]
  },
  {
   "cell_type": "code",
   "execution_count": 120,
   "metadata": {
    "id": "0c88d414c6844db9af4bd941cd0f2c9e"
   },
   "outputs": [
    {
     "data": {
      "text/plain": [
       "(33114, 6998)"
      ]
     },
     "execution_count": 120,
     "metadata": {},
     "output_type": "execute_result"
    }
   ],
   "source": [
    "cv_3 = CountVectorizer(analyzer = lambda x: x)\n",
    "cv_3_matrix = cv_3.fit_transform(df['descripcion']).toarray()\n",
    "ow_tf = pd.DataFrame(cv_3_matrix,columns=uniqueWords_ow)\n",
    "ow_tf.shape"
   ]
  },
  {
   "cell_type": "code",
   "execution_count": 123,
   "metadata": {
    "id": "93b2ae4275be4a7d873717e765ad56b6"
   },
   "outputs": [
    {
     "data": {
      "text/html": [
       "<div>\n",
       "<style scoped>\n",
       "    .dataframe tbody tr th:only-of-type {\n",
       "        vertical-align: middle;\n",
       "    }\n",
       "\n",
       "    .dataframe tbody tr th {\n",
       "        vertical-align: top;\n",
       "    }\n",
       "\n",
       "    .dataframe thead th {\n",
       "        text-align: right;\n",
       "    }\n",
       "</style>\n",
       "<table border=\"1\" class=\"dataframe\">\n",
       "  <thead>\n",
       "    <tr style=\"text-align: right;\">\n",
       "      <th></th>\n",
       "      <th>young</th>\n",
       "      <th>live</th>\n",
       "      <th>new</th>\n",
       "      <th>love</th>\n",
       "      <th>get</th>\n",
       "      <th>man</th>\n",
       "      <th>two</th>\n",
       "      <th>take</th>\n",
       "      <th>famili</th>\n",
       "      <th>stori</th>\n",
       "      <th>...</th>\n",
       "      <th>vikram</th>\n",
       "      <th>beard</th>\n",
       "      <th>evangel</th>\n",
       "      <th>maxim</th>\n",
       "      <th>drone</th>\n",
       "      <th>fractur</th>\n",
       "      <th>ko</th>\n",
       "      <th>tsunami</th>\n",
       "      <th>tiff</th>\n",
       "      <th>emanuell</th>\n",
       "    </tr>\n",
       "  </thead>\n",
       "  <tbody>\n",
       "    <tr>\n",
       "      <th>0</th>\n",
       "      <td>0</td>\n",
       "      <td>0</td>\n",
       "      <td>0</td>\n",
       "      <td>0</td>\n",
       "      <td>0</td>\n",
       "      <td>0</td>\n",
       "      <td>0</td>\n",
       "      <td>0</td>\n",
       "      <td>0</td>\n",
       "      <td>0</td>\n",
       "      <td>...</td>\n",
       "      <td>0</td>\n",
       "      <td>0</td>\n",
       "      <td>0</td>\n",
       "      <td>0</td>\n",
       "      <td>0</td>\n",
       "      <td>0</td>\n",
       "      <td>0</td>\n",
       "      <td>0</td>\n",
       "      <td>0</td>\n",
       "      <td>0</td>\n",
       "    </tr>\n",
       "    <tr>\n",
       "      <th>1</th>\n",
       "      <td>0</td>\n",
       "      <td>0</td>\n",
       "      <td>0</td>\n",
       "      <td>0</td>\n",
       "      <td>0</td>\n",
       "      <td>0</td>\n",
       "      <td>0</td>\n",
       "      <td>0</td>\n",
       "      <td>0</td>\n",
       "      <td>0</td>\n",
       "      <td>...</td>\n",
       "      <td>0</td>\n",
       "      <td>0</td>\n",
       "      <td>0</td>\n",
       "      <td>0</td>\n",
       "      <td>0</td>\n",
       "      <td>0</td>\n",
       "      <td>0</td>\n",
       "      <td>0</td>\n",
       "      <td>0</td>\n",
       "      <td>0</td>\n",
       "    </tr>\n",
       "    <tr>\n",
       "      <th>2</th>\n",
       "      <td>0</td>\n",
       "      <td>0</td>\n",
       "      <td>0</td>\n",
       "      <td>0</td>\n",
       "      <td>0</td>\n",
       "      <td>0</td>\n",
       "      <td>0</td>\n",
       "      <td>0</td>\n",
       "      <td>0</td>\n",
       "      <td>0</td>\n",
       "      <td>...</td>\n",
       "      <td>0</td>\n",
       "      <td>0</td>\n",
       "      <td>0</td>\n",
       "      <td>0</td>\n",
       "      <td>0</td>\n",
       "      <td>0</td>\n",
       "      <td>0</td>\n",
       "      <td>0</td>\n",
       "      <td>0</td>\n",
       "      <td>0</td>\n",
       "    </tr>\n",
       "    <tr>\n",
       "      <th>3</th>\n",
       "      <td>0</td>\n",
       "      <td>0</td>\n",
       "      <td>0</td>\n",
       "      <td>0</td>\n",
       "      <td>0</td>\n",
       "      <td>0</td>\n",
       "      <td>0</td>\n",
       "      <td>0</td>\n",
       "      <td>0</td>\n",
       "      <td>0</td>\n",
       "      <td>...</td>\n",
       "      <td>0</td>\n",
       "      <td>0</td>\n",
       "      <td>0</td>\n",
       "      <td>0</td>\n",
       "      <td>0</td>\n",
       "      <td>0</td>\n",
       "      <td>0</td>\n",
       "      <td>0</td>\n",
       "      <td>0</td>\n",
       "      <td>0</td>\n",
       "    </tr>\n",
       "    <tr>\n",
       "      <th>4</th>\n",
       "      <td>0</td>\n",
       "      <td>0</td>\n",
       "      <td>0</td>\n",
       "      <td>0</td>\n",
       "      <td>0</td>\n",
       "      <td>0</td>\n",
       "      <td>0</td>\n",
       "      <td>0</td>\n",
       "      <td>0</td>\n",
       "      <td>0</td>\n",
       "      <td>...</td>\n",
       "      <td>0</td>\n",
       "      <td>0</td>\n",
       "      <td>0</td>\n",
       "      <td>0</td>\n",
       "      <td>0</td>\n",
       "      <td>0</td>\n",
       "      <td>0</td>\n",
       "      <td>0</td>\n",
       "      <td>0</td>\n",
       "      <td>0</td>\n",
       "    </tr>\n",
       "    <tr>\n",
       "      <th>5</th>\n",
       "      <td>0</td>\n",
       "      <td>0</td>\n",
       "      <td>0</td>\n",
       "      <td>0</td>\n",
       "      <td>0</td>\n",
       "      <td>0</td>\n",
       "      <td>0</td>\n",
       "      <td>0</td>\n",
       "      <td>0</td>\n",
       "      <td>1</td>\n",
       "      <td>...</td>\n",
       "      <td>0</td>\n",
       "      <td>0</td>\n",
       "      <td>0</td>\n",
       "      <td>0</td>\n",
       "      <td>0</td>\n",
       "      <td>0</td>\n",
       "      <td>0</td>\n",
       "      <td>0</td>\n",
       "      <td>0</td>\n",
       "      <td>0</td>\n",
       "    </tr>\n",
       "    <tr>\n",
       "      <th>6</th>\n",
       "      <td>0</td>\n",
       "      <td>0</td>\n",
       "      <td>0</td>\n",
       "      <td>0</td>\n",
       "      <td>0</td>\n",
       "      <td>0</td>\n",
       "      <td>0</td>\n",
       "      <td>0</td>\n",
       "      <td>0</td>\n",
       "      <td>0</td>\n",
       "      <td>...</td>\n",
       "      <td>0</td>\n",
       "      <td>0</td>\n",
       "      <td>0</td>\n",
       "      <td>0</td>\n",
       "      <td>0</td>\n",
       "      <td>0</td>\n",
       "      <td>0</td>\n",
       "      <td>0</td>\n",
       "      <td>0</td>\n",
       "      <td>0</td>\n",
       "    </tr>\n",
       "    <tr>\n",
       "      <th>7</th>\n",
       "      <td>0</td>\n",
       "      <td>0</td>\n",
       "      <td>0</td>\n",
       "      <td>0</td>\n",
       "      <td>0</td>\n",
       "      <td>0</td>\n",
       "      <td>0</td>\n",
       "      <td>0</td>\n",
       "      <td>0</td>\n",
       "      <td>0</td>\n",
       "      <td>...</td>\n",
       "      <td>0</td>\n",
       "      <td>0</td>\n",
       "      <td>0</td>\n",
       "      <td>0</td>\n",
       "      <td>0</td>\n",
       "      <td>0</td>\n",
       "      <td>0</td>\n",
       "      <td>0</td>\n",
       "      <td>0</td>\n",
       "      <td>0</td>\n",
       "    </tr>\n",
       "    <tr>\n",
       "      <th>8</th>\n",
       "      <td>0</td>\n",
       "      <td>0</td>\n",
       "      <td>0</td>\n",
       "      <td>0</td>\n",
       "      <td>0</td>\n",
       "      <td>0</td>\n",
       "      <td>0</td>\n",
       "      <td>0</td>\n",
       "      <td>0</td>\n",
       "      <td>0</td>\n",
       "      <td>...</td>\n",
       "      <td>0</td>\n",
       "      <td>0</td>\n",
       "      <td>0</td>\n",
       "      <td>0</td>\n",
       "      <td>0</td>\n",
       "      <td>0</td>\n",
       "      <td>0</td>\n",
       "      <td>0</td>\n",
       "      <td>0</td>\n",
       "      <td>0</td>\n",
       "    </tr>\n",
       "    <tr>\n",
       "      <th>9</th>\n",
       "      <td>0</td>\n",
       "      <td>0</td>\n",
       "      <td>0</td>\n",
       "      <td>0</td>\n",
       "      <td>0</td>\n",
       "      <td>0</td>\n",
       "      <td>0</td>\n",
       "      <td>0</td>\n",
       "      <td>0</td>\n",
       "      <td>0</td>\n",
       "      <td>...</td>\n",
       "      <td>0</td>\n",
       "      <td>0</td>\n",
       "      <td>0</td>\n",
       "      <td>0</td>\n",
       "      <td>0</td>\n",
       "      <td>0</td>\n",
       "      <td>0</td>\n",
       "      <td>0</td>\n",
       "      <td>0</td>\n",
       "      <td>0</td>\n",
       "    </tr>\n",
       "  </tbody>\n",
       "</table>\n",
       "<p>10 rows × 6998 columns</p>\n",
       "</div>"
      ],
      "text/plain": [
       "   young  live  new  love  get  man  two  take  famili  stori  ...  vikram  \\\n",
       "0      0     0    0     0    0    0    0     0       0      0  ...       0   \n",
       "1      0     0    0     0    0    0    0     0       0      0  ...       0   \n",
       "2      0     0    0     0    0    0    0     0       0      0  ...       0   \n",
       "3      0     0    0     0    0    0    0     0       0      0  ...       0   \n",
       "4      0     0    0     0    0    0    0     0       0      0  ...       0   \n",
       "5      0     0    0     0    0    0    0     0       0      1  ...       0   \n",
       "6      0     0    0     0    0    0    0     0       0      0  ...       0   \n",
       "7      0     0    0     0    0    0    0     0       0      0  ...       0   \n",
       "8      0     0    0     0    0    0    0     0       0      0  ...       0   \n",
       "9      0     0    0     0    0    0    0     0       0      0  ...       0   \n",
       "\n",
       "   beard  evangel  maxim  drone  fractur  ko  tsunami  tiff  emanuell  \n",
       "0      0        0      0      0        0   0        0     0         0  \n",
       "1      0        0      0      0        0   0        0     0         0  \n",
       "2      0        0      0      0        0   0        0     0         0  \n",
       "3      0        0      0      0        0   0        0     0         0  \n",
       "4      0        0      0      0        0   0        0     0         0  \n",
       "5      0        0      0      0        0   0        0     0         0  \n",
       "6      0        0      0      0        0   0        0     0         0  \n",
       "7      0        0      0      0        0   0        0     0         0  \n",
       "8      0        0      0      0        0   0        0     0         0  \n",
       "9      0        0      0      0        0   0        0     0         0  \n",
       "\n",
       "[10 rows x 6998 columns]"
      ]
     },
     "execution_count": 123,
     "metadata": {},
     "output_type": "execute_result"
    }
   ],
   "source": [
    "ow_tf.head(10)"
   ]
  },
  {
   "cell_type": "code",
   "execution_count": 124,
   "metadata": {
    "id": "0e021c72531547b5a7b02b7033994ee8"
   },
   "outputs": [],
   "source": [
    "ow_idf = ow_tf "
   ]
  },
  {
   "cell_type": "code",
   "execution_count": 125,
   "metadata": {
    "id": "6354f3c7a593466187760372166acee3"
   },
   "outputs": [],
   "source": [
    "ow_idf[ow_idf > 1] = 1"
   ]
  },
  {
   "cell_type": "code",
   "execution_count": 126,
   "metadata": {
    "id": "a03e7b36712547a0844144d2a16ccce8"
   },
   "outputs": [
    {
     "data": {
      "text/plain": [
       "young        37\n",
       "live        420\n",
       "new          31\n",
       "love         19\n",
       "get         141\n",
       "           ... \n",
       "fractur       6\n",
       "ko           24\n",
       "tsunami     174\n",
       "tiff         73\n",
       "emanuell     36\n",
       "Length: 6998, dtype: int64"
      ]
     },
     "execution_count": 126,
     "metadata": {},
     "output_type": "execute_result"
    }
   ],
   "source": [
    "ow_inverse = ow_idf.sum(axis=0)\n",
    "\n",
    "ow_inverse"
   ]
  },
  {
   "cell_type": "code",
   "execution_count": 127,
   "metadata": {
    "id": "5a7c7fdbb0de4bff8d31ec9f1037ec46"
   },
   "outputs": [
    {
     "data": {
      "text/plain": [
       "young       6.796794\n",
       "live        4.367457\n",
       "new         6.973724\n",
       "love        7.463272\n",
       "get         5.458952\n",
       "              ...   \n",
       "fractur     8.615952\n",
       "ko          7.229658\n",
       "tsunami     5.248656\n",
       "tiff        6.117252\n",
       "emanuell    6.824192\n",
       "Length: 6998, dtype: float64"
      ]
     },
     "execution_count": 127,
     "metadata": {},
     "output_type": "execute_result"
    }
   ],
   "source": [
    "ow_idf = np.log(ow_idf.shape[0] / ow_inverse)\n",
    "\n",
    "ow_idf"
   ]
  },
  {
   "cell_type": "code",
   "execution_count": 128,
   "metadata": {
    "id": "3693f5c4efb14d659e1eefc095b2a0bf"
   },
   "outputs": [],
   "source": [
    "ow_tfidf_matrix = ow_tf.mul(ow_idf)"
   ]
  },
  {
   "cell_type": "code",
   "execution_count": 129,
   "metadata": {
    "id": "a913fc3c0de841e6a98340fca1a3209d"
   },
   "outputs": [],
   "source": [
    "ow_tfidf = pd.DataFrame(ow_tfidf_matrix)"
   ]
  },
  {
   "cell_type": "code",
   "execution_count": 130,
   "metadata": {
    "id": "939f2311ac6548158cba844d5e6b9156"
   },
   "outputs": [
    {
     "data": {
      "text/html": [
       "<div>\n",
       "<style scoped>\n",
       "    .dataframe tbody tr th:only-of-type {\n",
       "        vertical-align: middle;\n",
       "    }\n",
       "\n",
       "    .dataframe tbody tr th {\n",
       "        vertical-align: top;\n",
       "    }\n",
       "\n",
       "    .dataframe thead th {\n",
       "        text-align: right;\n",
       "    }\n",
       "</style>\n",
       "<table border=\"1\" class=\"dataframe\">\n",
       "  <thead>\n",
       "    <tr style=\"text-align: right;\">\n",
       "      <th></th>\n",
       "      <th>young</th>\n",
       "      <th>live</th>\n",
       "      <th>new</th>\n",
       "      <th>love</th>\n",
       "      <th>get</th>\n",
       "      <th>man</th>\n",
       "      <th>two</th>\n",
       "      <th>take</th>\n",
       "      <th>famili</th>\n",
       "      <th>stori</th>\n",
       "      <th>...</th>\n",
       "      <th>vikram</th>\n",
       "      <th>beard</th>\n",
       "      <th>evangel</th>\n",
       "      <th>maxim</th>\n",
       "      <th>drone</th>\n",
       "      <th>fractur</th>\n",
       "      <th>ko</th>\n",
       "      <th>tsunami</th>\n",
       "      <th>tiff</th>\n",
       "      <th>emanuell</th>\n",
       "    </tr>\n",
       "  </thead>\n",
       "  <tbody>\n",
       "    <tr>\n",
       "      <th>0</th>\n",
       "      <td>0.0</td>\n",
       "      <td>0.0</td>\n",
       "      <td>0.0</td>\n",
       "      <td>0.0</td>\n",
       "      <td>0.0</td>\n",
       "      <td>0.0</td>\n",
       "      <td>0.0</td>\n",
       "      <td>0.0</td>\n",
       "      <td>0.0</td>\n",
       "      <td>0.000000</td>\n",
       "      <td>...</td>\n",
       "      <td>0.0</td>\n",
       "      <td>0.0</td>\n",
       "      <td>0.0</td>\n",
       "      <td>0.0</td>\n",
       "      <td>0.0</td>\n",
       "      <td>0.0</td>\n",
       "      <td>0.0</td>\n",
       "      <td>0.0</td>\n",
       "      <td>0.0</td>\n",
       "      <td>0.0</td>\n",
       "    </tr>\n",
       "    <tr>\n",
       "      <th>1</th>\n",
       "      <td>0.0</td>\n",
       "      <td>0.0</td>\n",
       "      <td>0.0</td>\n",
       "      <td>0.0</td>\n",
       "      <td>0.0</td>\n",
       "      <td>0.0</td>\n",
       "      <td>0.0</td>\n",
       "      <td>0.0</td>\n",
       "      <td>0.0</td>\n",
       "      <td>0.000000</td>\n",
       "      <td>...</td>\n",
       "      <td>0.0</td>\n",
       "      <td>0.0</td>\n",
       "      <td>0.0</td>\n",
       "      <td>0.0</td>\n",
       "      <td>0.0</td>\n",
       "      <td>0.0</td>\n",
       "      <td>0.0</td>\n",
       "      <td>0.0</td>\n",
       "      <td>0.0</td>\n",
       "      <td>0.0</td>\n",
       "    </tr>\n",
       "    <tr>\n",
       "      <th>2</th>\n",
       "      <td>0.0</td>\n",
       "      <td>0.0</td>\n",
       "      <td>0.0</td>\n",
       "      <td>0.0</td>\n",
       "      <td>0.0</td>\n",
       "      <td>0.0</td>\n",
       "      <td>0.0</td>\n",
       "      <td>0.0</td>\n",
       "      <td>0.0</td>\n",
       "      <td>0.000000</td>\n",
       "      <td>...</td>\n",
       "      <td>0.0</td>\n",
       "      <td>0.0</td>\n",
       "      <td>0.0</td>\n",
       "      <td>0.0</td>\n",
       "      <td>0.0</td>\n",
       "      <td>0.0</td>\n",
       "      <td>0.0</td>\n",
       "      <td>0.0</td>\n",
       "      <td>0.0</td>\n",
       "      <td>0.0</td>\n",
       "    </tr>\n",
       "    <tr>\n",
       "      <th>3</th>\n",
       "      <td>0.0</td>\n",
       "      <td>0.0</td>\n",
       "      <td>0.0</td>\n",
       "      <td>0.0</td>\n",
       "      <td>0.0</td>\n",
       "      <td>0.0</td>\n",
       "      <td>0.0</td>\n",
       "      <td>0.0</td>\n",
       "      <td>0.0</td>\n",
       "      <td>0.000000</td>\n",
       "      <td>...</td>\n",
       "      <td>0.0</td>\n",
       "      <td>0.0</td>\n",
       "      <td>0.0</td>\n",
       "      <td>0.0</td>\n",
       "      <td>0.0</td>\n",
       "      <td>0.0</td>\n",
       "      <td>0.0</td>\n",
       "      <td>0.0</td>\n",
       "      <td>0.0</td>\n",
       "      <td>0.0</td>\n",
       "    </tr>\n",
       "    <tr>\n",
       "      <th>4</th>\n",
       "      <td>0.0</td>\n",
       "      <td>0.0</td>\n",
       "      <td>0.0</td>\n",
       "      <td>0.0</td>\n",
       "      <td>0.0</td>\n",
       "      <td>0.0</td>\n",
       "      <td>0.0</td>\n",
       "      <td>0.0</td>\n",
       "      <td>0.0</td>\n",
       "      <td>0.000000</td>\n",
       "      <td>...</td>\n",
       "      <td>0.0</td>\n",
       "      <td>0.0</td>\n",
       "      <td>0.0</td>\n",
       "      <td>0.0</td>\n",
       "      <td>0.0</td>\n",
       "      <td>0.0</td>\n",
       "      <td>0.0</td>\n",
       "      <td>0.0</td>\n",
       "      <td>0.0</td>\n",
       "      <td>0.0</td>\n",
       "    </tr>\n",
       "    <tr>\n",
       "      <th>5</th>\n",
       "      <td>0.0</td>\n",
       "      <td>0.0</td>\n",
       "      <td>0.0</td>\n",
       "      <td>0.0</td>\n",
       "      <td>0.0</td>\n",
       "      <td>0.0</td>\n",
       "      <td>0.0</td>\n",
       "      <td>0.0</td>\n",
       "      <td>0.0</td>\n",
       "      <td>5.231562</td>\n",
       "      <td>...</td>\n",
       "      <td>0.0</td>\n",
       "      <td>0.0</td>\n",
       "      <td>0.0</td>\n",
       "      <td>0.0</td>\n",
       "      <td>0.0</td>\n",
       "      <td>0.0</td>\n",
       "      <td>0.0</td>\n",
       "      <td>0.0</td>\n",
       "      <td>0.0</td>\n",
       "      <td>0.0</td>\n",
       "    </tr>\n",
       "    <tr>\n",
       "      <th>6</th>\n",
       "      <td>0.0</td>\n",
       "      <td>0.0</td>\n",
       "      <td>0.0</td>\n",
       "      <td>0.0</td>\n",
       "      <td>0.0</td>\n",
       "      <td>0.0</td>\n",
       "      <td>0.0</td>\n",
       "      <td>0.0</td>\n",
       "      <td>0.0</td>\n",
       "      <td>0.000000</td>\n",
       "      <td>...</td>\n",
       "      <td>0.0</td>\n",
       "      <td>0.0</td>\n",
       "      <td>0.0</td>\n",
       "      <td>0.0</td>\n",
       "      <td>0.0</td>\n",
       "      <td>0.0</td>\n",
       "      <td>0.0</td>\n",
       "      <td>0.0</td>\n",
       "      <td>0.0</td>\n",
       "      <td>0.0</td>\n",
       "    </tr>\n",
       "    <tr>\n",
       "      <th>7</th>\n",
       "      <td>0.0</td>\n",
       "      <td>0.0</td>\n",
       "      <td>0.0</td>\n",
       "      <td>0.0</td>\n",
       "      <td>0.0</td>\n",
       "      <td>0.0</td>\n",
       "      <td>0.0</td>\n",
       "      <td>0.0</td>\n",
       "      <td>0.0</td>\n",
       "      <td>0.000000</td>\n",
       "      <td>...</td>\n",
       "      <td>0.0</td>\n",
       "      <td>0.0</td>\n",
       "      <td>0.0</td>\n",
       "      <td>0.0</td>\n",
       "      <td>0.0</td>\n",
       "      <td>0.0</td>\n",
       "      <td>0.0</td>\n",
       "      <td>0.0</td>\n",
       "      <td>0.0</td>\n",
       "      <td>0.0</td>\n",
       "    </tr>\n",
       "    <tr>\n",
       "      <th>8</th>\n",
       "      <td>0.0</td>\n",
       "      <td>0.0</td>\n",
       "      <td>0.0</td>\n",
       "      <td>0.0</td>\n",
       "      <td>0.0</td>\n",
       "      <td>0.0</td>\n",
       "      <td>0.0</td>\n",
       "      <td>0.0</td>\n",
       "      <td>0.0</td>\n",
       "      <td>0.000000</td>\n",
       "      <td>...</td>\n",
       "      <td>0.0</td>\n",
       "      <td>0.0</td>\n",
       "      <td>0.0</td>\n",
       "      <td>0.0</td>\n",
       "      <td>0.0</td>\n",
       "      <td>0.0</td>\n",
       "      <td>0.0</td>\n",
       "      <td>0.0</td>\n",
       "      <td>0.0</td>\n",
       "      <td>0.0</td>\n",
       "    </tr>\n",
       "    <tr>\n",
       "      <th>9</th>\n",
       "      <td>0.0</td>\n",
       "      <td>0.0</td>\n",
       "      <td>0.0</td>\n",
       "      <td>0.0</td>\n",
       "      <td>0.0</td>\n",
       "      <td>0.0</td>\n",
       "      <td>0.0</td>\n",
       "      <td>0.0</td>\n",
       "      <td>0.0</td>\n",
       "      <td>0.000000</td>\n",
       "      <td>...</td>\n",
       "      <td>0.0</td>\n",
       "      <td>0.0</td>\n",
       "      <td>0.0</td>\n",
       "      <td>0.0</td>\n",
       "      <td>0.0</td>\n",
       "      <td>0.0</td>\n",
       "      <td>0.0</td>\n",
       "      <td>0.0</td>\n",
       "      <td>0.0</td>\n",
       "      <td>0.0</td>\n",
       "    </tr>\n",
       "  </tbody>\n",
       "</table>\n",
       "<p>10 rows × 6998 columns</p>\n",
       "</div>"
      ],
      "text/plain": [
       "   young  live  new  love  get  man  two  take  famili     stori  ...  vikram  \\\n",
       "0    0.0   0.0  0.0   0.0  0.0  0.0  0.0   0.0     0.0  0.000000  ...     0.0   \n",
       "1    0.0   0.0  0.0   0.0  0.0  0.0  0.0   0.0     0.0  0.000000  ...     0.0   \n",
       "2    0.0   0.0  0.0   0.0  0.0  0.0  0.0   0.0     0.0  0.000000  ...     0.0   \n",
       "3    0.0   0.0  0.0   0.0  0.0  0.0  0.0   0.0     0.0  0.000000  ...     0.0   \n",
       "4    0.0   0.0  0.0   0.0  0.0  0.0  0.0   0.0     0.0  0.000000  ...     0.0   \n",
       "5    0.0   0.0  0.0   0.0  0.0  0.0  0.0   0.0     0.0  5.231562  ...     0.0   \n",
       "6    0.0   0.0  0.0   0.0  0.0  0.0  0.0   0.0     0.0  0.000000  ...     0.0   \n",
       "7    0.0   0.0  0.0   0.0  0.0  0.0  0.0   0.0     0.0  0.000000  ...     0.0   \n",
       "8    0.0   0.0  0.0   0.0  0.0  0.0  0.0   0.0     0.0  0.000000  ...     0.0   \n",
       "9    0.0   0.0  0.0   0.0  0.0  0.0  0.0   0.0     0.0  0.000000  ...     0.0   \n",
       "\n",
       "   beard  evangel  maxim  drone  fractur   ko  tsunami  tiff  emanuell  \n",
       "0    0.0      0.0    0.0    0.0      0.0  0.0      0.0   0.0       0.0  \n",
       "1    0.0      0.0    0.0    0.0      0.0  0.0      0.0   0.0       0.0  \n",
       "2    0.0      0.0    0.0    0.0      0.0  0.0      0.0   0.0       0.0  \n",
       "3    0.0      0.0    0.0    0.0      0.0  0.0      0.0   0.0       0.0  \n",
       "4    0.0      0.0    0.0    0.0      0.0  0.0      0.0   0.0       0.0  \n",
       "5    0.0      0.0    0.0    0.0      0.0  0.0      0.0   0.0       0.0  \n",
       "6    0.0      0.0    0.0    0.0      0.0  0.0      0.0   0.0       0.0  \n",
       "7    0.0      0.0    0.0    0.0      0.0  0.0      0.0   0.0       0.0  \n",
       "8    0.0      0.0    0.0    0.0      0.0  0.0      0.0   0.0       0.0  \n",
       "9    0.0      0.0    0.0    0.0      0.0  0.0      0.0   0.0       0.0  \n",
       "\n",
       "[10 rows x 6998 columns]"
      ]
     },
     "execution_count": 130,
     "metadata": {},
     "output_type": "execute_result"
    }
   ],
   "source": [
    "ow_tfidf.head(10) "
   ]
  },
  {
   "cell_type": "code",
   "execution_count": 131,
   "metadata": {
    "colab": {
     "base_uri": "https://localhost:8080/"
    },
    "id": "Y6HQYmwDwe6-",
    "outputId": "83b47d21-dee2-497c-9a0e-a20070c12115"
   },
   "outputs": [
    {
     "data": {
      "text/plain": [
       "(33114, 6998)"
      ]
     },
     "execution_count": 131,
     "metadata": {},
     "output_type": "execute_result"
    }
   ],
   "source": [
    "#Output the shape of tfidf_matrix\n",
    "ow_tfidf.shape"
   ]
  },
  {
   "cell_type": "markdown",
   "metadata": {},
   "source": [
    "And we have 4 TF-IDF matrix, now let's join them in the next section."
   ]
  },
  {
   "cell_type": "markdown",
   "metadata": {
    "id": "692a6d3966fd4568804fb314bd2bb012"
   },
   "source": [
    "# 3- Combine the content"
   ]
  },
  {
   "cell_type": "markdown",
   "metadata": {
    "id": "a950ab58ebc743cf849b5085104a6a3b"
   },
   "source": [
    "Now we will combine all matrices into a big one, first we need to reduce the amount of columns of overview and names, and then we need to reply more columns of genres and date."
   ]
  },
  {
   "cell_type": "markdown",
   "metadata": {
    "id": "a76638ca00bf446491478862a96465f7"
   },
   "source": [
    "## 3.1- Reduce the data"
   ]
  },
  {
   "cell_type": "markdown",
   "metadata": {
    "id": "9cc27ce9b8c94fc6836e9499620d1b5c"
   },
   "source": [
    "We need to reduce the columns of 2 big matrices and the method chosen for that is a PCA, this method return a matrix with reduced column which cost a % of information about the data, we need to reduce at least to 2-3k columns and we set the desired lose of information about 20% or less."
   ]
  },
  {
   "cell_type": "code",
   "execution_count": 132,
   "metadata": {
    "id": "eaa09da3e98b42fd8f3efd295512f639"
   },
   "outputs": [
    {
     "data": {
      "text/plain": [
       "array([[-1.10653921e-02,  1.22685653e-02, -1.72748509e-02, ...,\n",
       "         3.43715184e-17,  3.38550553e-18, -6.20279072e-19],\n",
       "       [-1.23298159e-02,  4.19883407e-02, -1.01537847e-02, ...,\n",
       "        -5.48843670e-17,  1.58060240e-16,  8.39502692e-19],\n",
       "       [ 7.75616610e-03, -1.68293700e-02, -1.53942117e-02, ...,\n",
       "         1.43042829e-17, -1.73362601e-17, -8.67502853e-19],\n",
       "       ...,\n",
       "       [-3.38379395e-03, -5.10577496e-03, -1.90113602e-03, ...,\n",
       "         2.28744428e-19,  1.52511710e-18,  2.29287388e-19],\n",
       "       [-3.38379395e-03, -5.10577496e-03, -1.90113602e-03, ...,\n",
       "         2.28744428e-19,  1.52511710e-18,  2.29287388e-19],\n",
       "       [-3.38379395e-03, -5.10577496e-03, -1.90113602e-03, ...,\n",
       "         2.28744428e-19,  1.52511710e-18,  2.29287388e-19]])"
      ]
     },
     "execution_count": 132,
     "metadata": {},
     "output_type": "execute_result"
    }
   ],
   "source": [
    "my_model_1= PCA(n_components = 5591)\n",
    "my_model_1.fit_transform(nam_tfidf)"
   ]
  },
  {
   "cell_type": "markdown",
   "metadata": {
    "id": "aff2049e04ea44c483b4a8a9acc31973"
   },
   "source": [
    "This will give us the PCA transformation and we need the cumulate sum of explained variance ratio to give us information about how many variables we need."
   ]
  },
  {
   "cell_type": "code",
   "execution_count": 133,
   "metadata": {
    "id": "6c39dedbb0d84cbba0d365551f0fc207"
   },
   "outputs": [],
   "source": [
    "c = my_model_1.explained_variance_ratio_.cumsum()"
   ]
  },
  {
   "cell_type": "markdown",
   "metadata": {
    "id": "c708a02797534acd828227e7d2558b78"
   },
   "source": [
    "Now we have to set a random number to get the desired values we set before"
   ]
  },
  {
   "cell_type": "code",
   "execution_count": 134,
   "metadata": {
    "id": "1aed73465f4042fa9044725692f56b79"
   },
   "outputs": [
    {
     "data": {
      "text/plain": [
       "0.2951625684395956"
      ]
     },
     "execution_count": 134,
     "metadata": {},
     "output_type": "execute_result"
    }
   ],
   "source": [
    "c[500] # too low"
   ]
  },
  {
   "cell_type": "code",
   "execution_count": 135,
   "metadata": {
    "id": "b839ceb448cf4e8dbd6258185f936fb9"
   },
   "outputs": [
    {
     "data": {
      "text/plain": [
       "0.6012935016378005"
      ]
     },
     "execution_count": 135,
     "metadata": {},
     "output_type": "execute_result"
    }
   ],
   "source": [
    "c[1600] #60% is a bit low"
   ]
  },
  {
   "cell_type": "code",
   "execution_count": 136,
   "metadata": {
    "id": "df75b7e056e3479c87994ff6f719c9e8"
   },
   "outputs": [
    {
     "data": {
      "text/plain": [
       "0.7224103501230414"
      ]
     },
     "execution_count": 136,
     "metadata": {},
     "output_type": "execute_result"
    }
   ],
   "source": [
    "c[2300] #let's try a bigger value"
   ]
  },
  {
   "cell_type": "code",
   "execution_count": 137,
   "metadata": {
    "id": "9720eb1a7e664b558f1decf36277bf1e"
   },
   "outputs": [
    {
     "data": {
      "text/plain": [
       "0.8021118417069355"
      ]
     },
     "execution_count": 137,
     "metadata": {},
     "output_type": "execute_result"
    }
   ],
   "source": [
    "c[2900] # this is a good value"
   ]
  },
  {
   "cell_type": "markdown",
   "metadata": {
    "id": "2ae2eba85f184e90847c30c888cac2af"
   },
   "source": [
    "now we have to build a matrix with 2900 columns with 80,21% information of original matrix."
   ]
  },
  {
   "cell_type": "code",
   "execution_count": 138,
   "metadata": {
    "id": "ce50717b2d1b4afa892bd5d6e1a3067b"
   },
   "outputs": [],
   "source": [
    "my_model_nam = PCA(n_components = 2900)\n",
    "pca_nam = my_model_nam.fit_transform(nam_tfidf)"
   ]
  },
  {
   "cell_type": "markdown",
   "metadata": {
    "id": "f9ce5604f79c42a6811768b4af55d23a"
   },
   "source": [
    "We have to do it again with overview TFIDF matrix."
   ]
  },
  {
   "cell_type": "code",
   "execution_count": 139,
   "metadata": {
    "id": "867e23c3efea4db58f1cf3cf2dbf1ec8"
   },
   "outputs": [],
   "source": [
    "my_model_2= PCA(n_components = 6998)"
   ]
  },
  {
   "cell_type": "code",
   "execution_count": 140,
   "metadata": {
    "id": "197d3469-5a36-40f3-91d0-5cf660b9309f"
   },
   "outputs": [
    {
     "data": {
      "text/plain": [
       "array([[ 7.56427963e-02, -1.27023437e-01, -4.79482289e-01, ...,\n",
       "        -2.88179825e-03,  1.15883541e-02, -3.07492003e-03],\n",
       "       [-3.08581638e-02,  1.47220135e-02,  9.15380045e-01, ...,\n",
       "        -1.03045557e-01, -1.66166144e-02, -1.82479172e-02],\n",
       "       [ 3.84377803e-01, -9.41021580e-01, -9.48568488e-01, ...,\n",
       "        -2.29927169e-02,  1.87531317e-02,  1.46891574e-03],\n",
       "       ...,\n",
       "       [-1.99750188e+00,  4.40462139e-01, -1.87481264e-02, ...,\n",
       "         1.27751641e-03,  3.29531734e-03, -7.66161146e-04],\n",
       "       [-1.84052717e+00, -2.98512369e-01, -3.23417443e-01, ...,\n",
       "         5.62644958e-03,  1.80217003e-02,  4.02262658e-03],\n",
       "       [ 2.84952480e-01,  2.67551816e-01,  2.93404729e+00, ...,\n",
       "         4.77409695e-03, -1.02244549e-02, -9.02830344e-03]])"
      ]
     },
     "execution_count": 140,
     "metadata": {},
     "output_type": "execute_result"
    }
   ],
   "source": [
    "my_model_2.fit_transform(ow_tfidf)"
   ]
  },
  {
   "cell_type": "code",
   "execution_count": 141,
   "metadata": {
    "id": "445f0bc3-3bba-456c-82d6-d302f48b3987"
   },
   "outputs": [],
   "source": [
    "d = my_model_2.explained_variance_ratio_.cumsum()"
   ]
  },
  {
   "cell_type": "code",
   "execution_count": 142,
   "metadata": {
    "id": "cb0f66fc-f268-4dc1-ba5a-3008b281743d"
   },
   "outputs": [
    {
     "data": {
      "text/plain": [
       "0.29693591767707905"
      ]
     },
     "execution_count": 142,
     "metadata": {},
     "output_type": "execute_result"
    }
   ],
   "source": [
    "d[500] # too low"
   ]
  },
  {
   "cell_type": "code",
   "execution_count": 143,
   "metadata": {
    "id": "67b553ef-2b8b-47e9-8ba7-f7b3c619cb91"
   },
   "outputs": [
    {
     "data": {
      "text/plain": [
       "0.6010493632499072"
      ]
     },
     "execution_count": 143,
     "metadata": {},
     "output_type": "execute_result"
    }
   ],
   "source": [
    "d[1600] # low"
   ]
  },
  {
   "cell_type": "code",
   "execution_count": 144,
   "metadata": {
    "id": "f9d4baf5-eff1-4dc8-8421-01f21e90a8ed"
   },
   "outputs": [
    {
     "data": {
      "text/plain": [
       "0.7280435857674404"
      ]
     },
     "execution_count": 144,
     "metadata": {},
     "output_type": "execute_result"
    }
   ],
   "source": [
    "d[2400] #try another value"
   ]
  },
  {
   "cell_type": "code",
   "execution_count": 145,
   "metadata": {
    "id": "ebecdf85-7fc2-4db9-a7bd-6a440af9cd86"
   },
   "outputs": [
    {
     "data": {
      "text/plain": [
       "0.8166498452968228"
      ]
     },
     "execution_count": 145,
     "metadata": {},
     "output_type": "execute_result"
    }
   ],
   "source": [
    "d[3200] # try a lower value"
   ]
  },
  {
   "cell_type": "code",
   "execution_count": 146,
   "metadata": {
    "id": "76e92cb5ccb4472f8fb6ef53eb406908"
   },
   "outputs": [
    {
     "data": {
      "text/plain": [
       "0.8021839109049659"
      ]
     },
     "execution_count": 146,
     "metadata": {},
     "output_type": "execute_result"
    }
   ],
   "source": [
    "d[3050] # that's a good value and we lose only 1,5 % of information with 150 less columns"
   ]
  },
  {
   "cell_type": "code",
   "execution_count": 147,
   "metadata": {
    "id": "c44cd159-b175-4280-8b4e-a437bb52b1da"
   },
   "outputs": [],
   "source": [
    "my_model_ow = PCA(n_components = 3050)\n",
    "pca_ow = my_model_ow.fit_transform(ow_tfidf)"
   ]
  },
  {
   "cell_type": "markdown",
   "metadata": {
    "id": "3e34869f07bc4c83b5b915e51017d5b2"
   },
   "source": [
    "And now we need to convert them into a dataframe."
   ]
  },
  {
   "cell_type": "code",
   "execution_count": 148,
   "metadata": {
    "id": "53aef0a929c842e2a669e092763e149a"
   },
   "outputs": [],
   "source": [
    "nam_df = pd.DataFrame(data= pca_nam)"
   ]
  },
  {
   "cell_type": "code",
   "execution_count": 149,
   "metadata": {
    "id": "d15e3a1e0a5e42f6942b4b401ed64ad4"
   },
   "outputs": [
    {
     "data": {
      "text/plain": [
       "(33114, 2900)"
      ]
     },
     "execution_count": 149,
     "metadata": {},
     "output_type": "execute_result"
    }
   ],
   "source": [
    "nam_df.shape"
   ]
  },
  {
   "cell_type": "code",
   "execution_count": 150,
   "metadata": {
    "id": "fd0d61ce-4b91-4bc2-93be-b294ca03ba7e"
   },
   "outputs": [],
   "source": [
    "ow_df = pd.DataFrame(data= pca_ow)"
   ]
  },
  {
   "cell_type": "code",
   "execution_count": 151,
   "metadata": {
    "id": "00757db8-628e-40fc-b6c1-24fabc7f2581"
   },
   "outputs": [
    {
     "data": {
      "text/plain": [
       "(33114, 3050)"
      ]
     },
     "execution_count": 151,
     "metadata": {},
     "output_type": "execute_result"
    }
   ],
   "source": [
    "ow_df.shape"
   ]
  },
  {
   "cell_type": "markdown",
   "metadata": {
    "id": "d67fb613b56d44c8b60ba844fc2bfc94"
   },
   "source": [
    "## 3.2- Reply the data"
   ]
  },
  {
   "cell_type": "markdown",
   "metadata": {
    "id": "a88f2b86b70849fcae167ad356139e38"
   },
   "source": [
    "Now we have to reply the small matrices to have a good weight for cosine similarity. For genres we have to set a minimum a 2x than names and overview, this means we need to reply more than 200 times, specifically about 290 times."
   ]
  },
  {
   "cell_type": "code",
   "execution_count": 152,
   "metadata": {
    "id": "5986d2c76a2149b38bc300eb4e18322d"
   },
   "outputs": [],
   "source": [
    "gk_tfidf = pd.concat([gk_tfidf]*290, axis=1) #### High performance #####"
   ]
  },
  {
   "cell_type": "code",
   "execution_count": 153,
   "metadata": {
    "id": "0bf1c9a4-c11f-4b35-9fe3-4b88b438851f"
   },
   "outputs": [
    {
     "data": {
      "text/plain": [
       "(33114, 6380)"
      ]
     },
     "execution_count": 153,
     "metadata": {},
     "output_type": "execute_result"
    }
   ],
   "source": [
    "gk_tfidf.shape"
   ]
  },
  {
   "cell_type": "markdown",
   "metadata": {
    "id": "87b79838af8b49238c3ccaf8f992bb7d"
   },
   "source": [
    "We set the date a half than names and overview because the date is important, but we haven't good a 100% reliable seprator, so we give it a lower weight to give them better result and not being so influential."
   ]
  },
  {
   "cell_type": "code",
   "execution_count": 154,
   "metadata": {
    "id": "2f27b7ade75644729fa4b62b560f06f1"
   },
   "outputs": [],
   "source": [
    "date_final = pd.concat([df['date_label']]*1500, axis=1) "
   ]
  },
  {
   "cell_type": "code",
   "execution_count": 155,
   "metadata": {
    "id": "e95b28c1a3e246e29039d8f77cc06e2c"
   },
   "outputs": [
    {
     "data": {
      "text/html": [
       "<div>\n",
       "<style scoped>\n",
       "    .dataframe tbody tr th:only-of-type {\n",
       "        vertical-align: middle;\n",
       "    }\n",
       "\n",
       "    .dataframe tbody tr th {\n",
       "        vertical-align: top;\n",
       "    }\n",
       "\n",
       "    .dataframe thead th {\n",
       "        text-align: right;\n",
       "    }\n",
       "</style>\n",
       "<table border=\"1\" class=\"dataframe\">\n",
       "  <thead>\n",
       "    <tr style=\"text-align: right;\">\n",
       "      <th></th>\n",
       "      <th>date_label</th>\n",
       "      <th>date_label</th>\n",
       "      <th>date_label</th>\n",
       "      <th>date_label</th>\n",
       "      <th>date_label</th>\n",
       "      <th>date_label</th>\n",
       "      <th>date_label</th>\n",
       "      <th>date_label</th>\n",
       "      <th>date_label</th>\n",
       "      <th>date_label</th>\n",
       "      <th>...</th>\n",
       "      <th>date_label</th>\n",
       "      <th>date_label</th>\n",
       "      <th>date_label</th>\n",
       "      <th>date_label</th>\n",
       "      <th>date_label</th>\n",
       "      <th>date_label</th>\n",
       "      <th>date_label</th>\n",
       "      <th>date_label</th>\n",
       "      <th>date_label</th>\n",
       "      <th>date_label</th>\n",
       "    </tr>\n",
       "  </thead>\n",
       "  <tbody>\n",
       "    <tr>\n",
       "      <th>0</th>\n",
       "      <td>1.0</td>\n",
       "      <td>1.0</td>\n",
       "      <td>1.0</td>\n",
       "      <td>1.0</td>\n",
       "      <td>1.0</td>\n",
       "      <td>1.0</td>\n",
       "      <td>1.0</td>\n",
       "      <td>1.0</td>\n",
       "      <td>1.0</td>\n",
       "      <td>1.0</td>\n",
       "      <td>...</td>\n",
       "      <td>1.0</td>\n",
       "      <td>1.0</td>\n",
       "      <td>1.0</td>\n",
       "      <td>1.0</td>\n",
       "      <td>1.0</td>\n",
       "      <td>1.0</td>\n",
       "      <td>1.0</td>\n",
       "      <td>1.0</td>\n",
       "      <td>1.0</td>\n",
       "      <td>1.0</td>\n",
       "    </tr>\n",
       "    <tr>\n",
       "      <th>1</th>\n",
       "      <td>1.0</td>\n",
       "      <td>1.0</td>\n",
       "      <td>1.0</td>\n",
       "      <td>1.0</td>\n",
       "      <td>1.0</td>\n",
       "      <td>1.0</td>\n",
       "      <td>1.0</td>\n",
       "      <td>1.0</td>\n",
       "      <td>1.0</td>\n",
       "      <td>1.0</td>\n",
       "      <td>...</td>\n",
       "      <td>1.0</td>\n",
       "      <td>1.0</td>\n",
       "      <td>1.0</td>\n",
       "      <td>1.0</td>\n",
       "      <td>1.0</td>\n",
       "      <td>1.0</td>\n",
       "      <td>1.0</td>\n",
       "      <td>1.0</td>\n",
       "      <td>1.0</td>\n",
       "      <td>1.0</td>\n",
       "    </tr>\n",
       "    <tr>\n",
       "      <th>2</th>\n",
       "      <td>1.0</td>\n",
       "      <td>1.0</td>\n",
       "      <td>1.0</td>\n",
       "      <td>1.0</td>\n",
       "      <td>1.0</td>\n",
       "      <td>1.0</td>\n",
       "      <td>1.0</td>\n",
       "      <td>1.0</td>\n",
       "      <td>1.0</td>\n",
       "      <td>1.0</td>\n",
       "      <td>...</td>\n",
       "      <td>1.0</td>\n",
       "      <td>1.0</td>\n",
       "      <td>1.0</td>\n",
       "      <td>1.0</td>\n",
       "      <td>1.0</td>\n",
       "      <td>1.0</td>\n",
       "      <td>1.0</td>\n",
       "      <td>1.0</td>\n",
       "      <td>1.0</td>\n",
       "      <td>1.0</td>\n",
       "    </tr>\n",
       "    <tr>\n",
       "      <th>3</th>\n",
       "      <td>1.0</td>\n",
       "      <td>1.0</td>\n",
       "      <td>1.0</td>\n",
       "      <td>1.0</td>\n",
       "      <td>1.0</td>\n",
       "      <td>1.0</td>\n",
       "      <td>1.0</td>\n",
       "      <td>1.0</td>\n",
       "      <td>1.0</td>\n",
       "      <td>1.0</td>\n",
       "      <td>...</td>\n",
       "      <td>1.0</td>\n",
       "      <td>1.0</td>\n",
       "      <td>1.0</td>\n",
       "      <td>1.0</td>\n",
       "      <td>1.0</td>\n",
       "      <td>1.0</td>\n",
       "      <td>1.0</td>\n",
       "      <td>1.0</td>\n",
       "      <td>1.0</td>\n",
       "      <td>1.0</td>\n",
       "    </tr>\n",
       "    <tr>\n",
       "      <th>4</th>\n",
       "      <td>1.0</td>\n",
       "      <td>1.0</td>\n",
       "      <td>1.0</td>\n",
       "      <td>1.0</td>\n",
       "      <td>1.0</td>\n",
       "      <td>1.0</td>\n",
       "      <td>1.0</td>\n",
       "      <td>1.0</td>\n",
       "      <td>1.0</td>\n",
       "      <td>1.0</td>\n",
       "      <td>...</td>\n",
       "      <td>1.0</td>\n",
       "      <td>1.0</td>\n",
       "      <td>1.0</td>\n",
       "      <td>1.0</td>\n",
       "      <td>1.0</td>\n",
       "      <td>1.0</td>\n",
       "      <td>1.0</td>\n",
       "      <td>1.0</td>\n",
       "      <td>1.0</td>\n",
       "      <td>1.0</td>\n",
       "    </tr>\n",
       "    <tr>\n",
       "      <th>5</th>\n",
       "      <td>1.0</td>\n",
       "      <td>1.0</td>\n",
       "      <td>1.0</td>\n",
       "      <td>1.0</td>\n",
       "      <td>1.0</td>\n",
       "      <td>1.0</td>\n",
       "      <td>1.0</td>\n",
       "      <td>1.0</td>\n",
       "      <td>1.0</td>\n",
       "      <td>1.0</td>\n",
       "      <td>...</td>\n",
       "      <td>1.0</td>\n",
       "      <td>1.0</td>\n",
       "      <td>1.0</td>\n",
       "      <td>1.0</td>\n",
       "      <td>1.0</td>\n",
       "      <td>1.0</td>\n",
       "      <td>1.0</td>\n",
       "      <td>1.0</td>\n",
       "      <td>1.0</td>\n",
       "      <td>1.0</td>\n",
       "    </tr>\n",
       "    <tr>\n",
       "      <th>6</th>\n",
       "      <td>1.0</td>\n",
       "      <td>1.0</td>\n",
       "      <td>1.0</td>\n",
       "      <td>1.0</td>\n",
       "      <td>1.0</td>\n",
       "      <td>1.0</td>\n",
       "      <td>1.0</td>\n",
       "      <td>1.0</td>\n",
       "      <td>1.0</td>\n",
       "      <td>1.0</td>\n",
       "      <td>...</td>\n",
       "      <td>1.0</td>\n",
       "      <td>1.0</td>\n",
       "      <td>1.0</td>\n",
       "      <td>1.0</td>\n",
       "      <td>1.0</td>\n",
       "      <td>1.0</td>\n",
       "      <td>1.0</td>\n",
       "      <td>1.0</td>\n",
       "      <td>1.0</td>\n",
       "      <td>1.0</td>\n",
       "    </tr>\n",
       "    <tr>\n",
       "      <th>7</th>\n",
       "      <td>1.0</td>\n",
       "      <td>1.0</td>\n",
       "      <td>1.0</td>\n",
       "      <td>1.0</td>\n",
       "      <td>1.0</td>\n",
       "      <td>1.0</td>\n",
       "      <td>1.0</td>\n",
       "      <td>1.0</td>\n",
       "      <td>1.0</td>\n",
       "      <td>1.0</td>\n",
       "      <td>...</td>\n",
       "      <td>1.0</td>\n",
       "      <td>1.0</td>\n",
       "      <td>1.0</td>\n",
       "      <td>1.0</td>\n",
       "      <td>1.0</td>\n",
       "      <td>1.0</td>\n",
       "      <td>1.0</td>\n",
       "      <td>1.0</td>\n",
       "      <td>1.0</td>\n",
       "      <td>1.0</td>\n",
       "    </tr>\n",
       "    <tr>\n",
       "      <th>8</th>\n",
       "      <td>1.0</td>\n",
       "      <td>1.0</td>\n",
       "      <td>1.0</td>\n",
       "      <td>1.0</td>\n",
       "      <td>1.0</td>\n",
       "      <td>1.0</td>\n",
       "      <td>1.0</td>\n",
       "      <td>1.0</td>\n",
       "      <td>1.0</td>\n",
       "      <td>1.0</td>\n",
       "      <td>...</td>\n",
       "      <td>1.0</td>\n",
       "      <td>1.0</td>\n",
       "      <td>1.0</td>\n",
       "      <td>1.0</td>\n",
       "      <td>1.0</td>\n",
       "      <td>1.0</td>\n",
       "      <td>1.0</td>\n",
       "      <td>1.0</td>\n",
       "      <td>1.0</td>\n",
       "      <td>1.0</td>\n",
       "    </tr>\n",
       "    <tr>\n",
       "      <th>9</th>\n",
       "      <td>1.0</td>\n",
       "      <td>1.0</td>\n",
       "      <td>1.0</td>\n",
       "      <td>1.0</td>\n",
       "      <td>1.0</td>\n",
       "      <td>1.0</td>\n",
       "      <td>1.0</td>\n",
       "      <td>1.0</td>\n",
       "      <td>1.0</td>\n",
       "      <td>1.0</td>\n",
       "      <td>...</td>\n",
       "      <td>1.0</td>\n",
       "      <td>1.0</td>\n",
       "      <td>1.0</td>\n",
       "      <td>1.0</td>\n",
       "      <td>1.0</td>\n",
       "      <td>1.0</td>\n",
       "      <td>1.0</td>\n",
       "      <td>1.0</td>\n",
       "      <td>1.0</td>\n",
       "      <td>1.0</td>\n",
       "    </tr>\n",
       "  </tbody>\n",
       "</table>\n",
       "<p>10 rows × 1500 columns</p>\n",
       "</div>"
      ],
      "text/plain": [
       "   date_label  date_label  date_label  date_label  date_label  date_label  \\\n",
       "0         1.0         1.0         1.0         1.0         1.0         1.0   \n",
       "1         1.0         1.0         1.0         1.0         1.0         1.0   \n",
       "2         1.0         1.0         1.0         1.0         1.0         1.0   \n",
       "3         1.0         1.0         1.0         1.0         1.0         1.0   \n",
       "4         1.0         1.0         1.0         1.0         1.0         1.0   \n",
       "5         1.0         1.0         1.0         1.0         1.0         1.0   \n",
       "6         1.0         1.0         1.0         1.0         1.0         1.0   \n",
       "7         1.0         1.0         1.0         1.0         1.0         1.0   \n",
       "8         1.0         1.0         1.0         1.0         1.0         1.0   \n",
       "9         1.0         1.0         1.0         1.0         1.0         1.0   \n",
       "\n",
       "   date_label  date_label  date_label  date_label  ...  date_label  \\\n",
       "0         1.0         1.0         1.0         1.0  ...         1.0   \n",
       "1         1.0         1.0         1.0         1.0  ...         1.0   \n",
       "2         1.0         1.0         1.0         1.0  ...         1.0   \n",
       "3         1.0         1.0         1.0         1.0  ...         1.0   \n",
       "4         1.0         1.0         1.0         1.0  ...         1.0   \n",
       "5         1.0         1.0         1.0         1.0  ...         1.0   \n",
       "6         1.0         1.0         1.0         1.0  ...         1.0   \n",
       "7         1.0         1.0         1.0         1.0  ...         1.0   \n",
       "8         1.0         1.0         1.0         1.0  ...         1.0   \n",
       "9         1.0         1.0         1.0         1.0  ...         1.0   \n",
       "\n",
       "   date_label  date_label  date_label  date_label  date_label  date_label  \\\n",
       "0         1.0         1.0         1.0         1.0         1.0         1.0   \n",
       "1         1.0         1.0         1.0         1.0         1.0         1.0   \n",
       "2         1.0         1.0         1.0         1.0         1.0         1.0   \n",
       "3         1.0         1.0         1.0         1.0         1.0         1.0   \n",
       "4         1.0         1.0         1.0         1.0         1.0         1.0   \n",
       "5         1.0         1.0         1.0         1.0         1.0         1.0   \n",
       "6         1.0         1.0         1.0         1.0         1.0         1.0   \n",
       "7         1.0         1.0         1.0         1.0         1.0         1.0   \n",
       "8         1.0         1.0         1.0         1.0         1.0         1.0   \n",
       "9         1.0         1.0         1.0         1.0         1.0         1.0   \n",
       "\n",
       "   date_label  date_label  date_label  \n",
       "0         1.0         1.0         1.0  \n",
       "1         1.0         1.0         1.0  \n",
       "2         1.0         1.0         1.0  \n",
       "3         1.0         1.0         1.0  \n",
       "4         1.0         1.0         1.0  \n",
       "5         1.0         1.0         1.0  \n",
       "6         1.0         1.0         1.0  \n",
       "7         1.0         1.0         1.0  \n",
       "8         1.0         1.0         1.0  \n",
       "9         1.0         1.0         1.0  \n",
       "\n",
       "[10 rows x 1500 columns]"
      ]
     },
     "execution_count": 155,
     "metadata": {},
     "output_type": "execute_result"
    }
   ],
   "source": [
    "date_final.head(10)"
   ]
  },
  {
   "cell_type": "code",
   "execution_count": 156,
   "metadata": {
    "id": "8844e3d56396414c921f93aa967591a0"
   },
   "outputs": [],
   "source": [
    "final_tfidf = pd.concat([gk_tfidf, nam_df,ow_df, date_final], axis=1, join=\"inner\")"
   ]
  },
  {
   "cell_type": "code",
   "execution_count": 157,
   "metadata": {
    "id": "c18618242dd24a9f88aa3dfd69a0f11f"
   },
   "outputs": [
    {
     "data": {
      "text/plain": [
       "(33114, 13830)"
      ]
     },
     "execution_count": 157,
     "metadata": {},
     "output_type": "execute_result"
    }
   ],
   "source": [
    "final_tfidf.shape"
   ]
  },
  {
   "cell_type": "markdown",
   "metadata": {
    "id": "85b65c286a044aafbab6c094500d4545"
   },
   "source": [
    "# 4.- Build & Run Recommender"
   ]
  },
  {
   "cell_type": "markdown",
   "metadata": {
    "id": "aa90aa0d92cc47c48eddc7af42f5900b"
   },
   "source": [
    "Now we build the final matrix, now the only steps ahead is build cosine similarity matrix and a recommender function which takes recomendation from this matrix."
   ]
  },
  {
   "cell_type": "code",
   "execution_count": 158,
   "metadata": {
    "id": "8266bd80613e46abbb0d0f39263e81b8"
   },
   "outputs": [],
   "source": [
    "cosine_sim = cosine_similarity(final_tfidf)   #### High performance #####"
   ]
  },
  {
   "cell_type": "code",
   "execution_count": 159,
   "metadata": {
    "id": "wUHBvqfkBVeC"
   },
   "outputs": [],
   "source": [
    "#Construct a reverse map of indices and movie titles\n",
    "indices = pd.Series(df.index, index=df['original_title'])"
   ]
  },
  {
   "cell_type": "markdown",
   "metadata": {
    "id": "91718df7082d4fc7904c00a3dd6a5fd9"
   },
   "source": [
    "In the next line will be the recommendation function, from a list of movies (they must to be in the dataset) they will give the top 15 movies wich has the highest mean cosine (mean of all cosines in same row) wighted by the top 3 genres of all films. Wich means if a film has 0 top genres its cosines will be 0, 1 all cosines remains, 2 multiplied by 2 and 3 multiplied by 3, with that scores we set the mean of rows and sort descending to get the highest 15 values that are the best 15 recommendation for a feed of 1 user."
   ]
  },
  {
   "cell_type": "code",
   "execution_count": 160,
   "metadata": {
    "id": "43f96a27d32f4f12947f4a559bd9d969"
   },
   "outputs": [],
   "source": [
    "def user_recommendations(user, cosine_sim=cosine_sim):\n",
    "    # Get the index of the product that matches the title\n",
    "    idx = indices[user]\n",
    "    lista_id = list(idx)\n",
    "    \n",
    "    # Get the genres of each film watched by user\n",
    "    generos = pd.DataFrame(df.iloc[idx,0])\n",
    "    \n",
    "    # Get every word in a list \n",
    "    list_gen = list(generos['genres'])\n",
    "    word_gen = [item for sublist in list_gen for item in sublist]\n",
    "    \n",
    "    # Get the dictionary and the top 3 most common genres\n",
    "    fd = FreqDist(list(word_gen))\n",
    "    fdx = FreqDist(dict(fd.most_common(3)))\n",
    "    \n",
    "    #We get a list with top 3 words\n",
    "    items = fdx.items()\n",
    "    uniqueWords = []\n",
    "    for item in items:\n",
    "        if item not in uniqueWords:\n",
    "            uniqueWords.append(item[0])\n",
    "    \n",
    "    #Get the times a genre is in a film and get a list of the counter\n",
    "    generos['count'] = generos['genres'].apply(lambda x: list(set(x).intersection(set(uniqueWords))))\n",
    "    generos['count'] = generos['count'].apply(lambda x: list(x))\n",
    "    generos['count'] = generos['count'].apply(lambda x: len(x))\n",
    "    numbers = list(generos['count'])\n",
    "    \n",
    "    # Get the similarity score for each film in user's feed\n",
    "    sim_scores = list(enumerate(cosine_sim[idx]))\n",
    "    \n",
    "    #Build a dataframe with a list of sim_scores of every film in user's feed\n",
    "    recomendation = pd.DataFrame(columns = user)\n",
    "    for i in range(len(sim_scores)):\n",
    "        recomendation[user[i]] = sim_scores[i][1]\n",
    "\n",
    "    # Get the new sim_scores wighted by the number of top genres each film has (ex. if top 3 is (action, comedy, sci-fi), if feed film has\n",
    "    # action and comedy, the whole column will be multiply by 2 and so on)\n",
    "    recomendation.loc[:, user] *= np.array(numbers)\n",
    "    \n",
    "    #We get the means of every row to get the mean score and then sort the values in descending order\n",
    "    recomendation_final= recomendation.mean(axis=1).sort_values(ascending=False)\n",
    "    \n",
    "    # Get the product indices\n",
    "    product_index = recomendation_final.index.tolist()\n",
    "    \n",
    "    #remove the source films\n",
    "    product_index = [e for e in product_index if e not in lista_id]\n",
    "    \n",
    "    #Select the 15 most similar films removing after 16th element\n",
    "    product_index = product_index[0:14]\n",
    "\n",
    "    # Return the top 15 most similar products\n",
    "    return df['original_title'].iloc[product_index]"
   ]
  },
  {
   "cell_type": "markdown",
   "metadata": {
    "id": "f67e1ccd3751444a8ef503fcebd8a257"
   },
   "source": [
    "Now let's try with an example user:"
   ]
  },
  {
   "cell_type": "code",
   "execution_count": 161,
   "metadata": {
    "id": "834cf114cd2c416b8a028a4ef96c1915"
   },
   "outputs": [],
   "source": [
    "usuario_1 = ['i am legend', 'wonder women','waterloo bridge']"
   ]
  },
  {
   "cell_type": "code",
   "execution_count": 162,
   "metadata": {
    "id": "caa89b7ca9aa4fab8e1f0ce5286d0dfe"
   },
   "outputs": [
    {
     "data": {
      "text/plain": [
       "3293           phantasm ii\n",
       "3624          deepstar six\n",
       "7687     dead end drive-in\n",
       "2214              existenz\n",
       "18007         full eclipse\n",
       "4049             def-con 4\n",
       "1024                aliens\n",
       "3929              watchers\n",
       "16997           brain dead\n",
       "3060            the hidden\n",
       "5989         death machine\n",
       "3873             dead heat\n",
       "2009         godzilla 1985\n",
       "3924             they live\n",
       "Name: original_title, dtype: object"
      ]
     },
     "execution_count": 162,
     "metadata": {},
     "output_type": "execute_result"
    }
   ],
   "source": [
    "recommendation_1 = user_recommendations(usuario_1)\n",
    "recommendation_1"
   ]
  },
  {
   "cell_type": "markdown",
   "metadata": {
    "id": "75f7dbe5c0b74a1f8fd4284c66ef514c"
   },
   "source": [
    "Let's see how it performed first we have to see the content"
   ]
  },
  {
   "cell_type": "code",
   "execution_count": 163,
   "metadata": {
    "id": "5167dc4d590c4ec28cc504755dc76da7"
   },
   "outputs": [],
   "source": [
    "index_feed = indices[usuario_1]"
   ]
  },
  {
   "cell_type": "code",
   "execution_count": 164,
   "metadata": {
    "id": "2c807f4fcf0c4784ba77b32bdabcd937"
   },
   "outputs": [
    {
     "data": {
      "text/html": [
       "<div>\n",
       "<style scoped>\n",
       "    .dataframe tbody tr th:only-of-type {\n",
       "        vertical-align: middle;\n",
       "    }\n",
       "\n",
       "    .dataframe tbody tr th {\n",
       "        vertical-align: top;\n",
       "    }\n",
       "\n",
       "    .dataframe thead th {\n",
       "        text-align: right;\n",
       "    }\n",
       "</style>\n",
       "<table border=\"1\" class=\"dataframe\">\n",
       "  <thead>\n",
       "    <tr style=\"text-align: right;\">\n",
       "      <th></th>\n",
       "      <th>genres</th>\n",
       "      <th>original_title</th>\n",
       "      <th>overview</th>\n",
       "      <th>release_date</th>\n",
       "      <th>director_name</th>\n",
       "      <th>cast</th>\n",
       "      <th>names</th>\n",
       "      <th>year</th>\n",
       "      <th>date_label</th>\n",
       "      <th>descripcion</th>\n",
       "    </tr>\n",
       "  </thead>\n",
       "  <tbody>\n",
       "    <tr>\n",
       "      <th>10306</th>\n",
       "      <td>[drama, horror, action, thriller, science, fic...</td>\n",
       "      <td>i am legend</td>\n",
       "      <td>[robert, nevill, scientist, unabl, stop, sprea...</td>\n",
       "      <td>2007-12-14</td>\n",
       "      <td>[FrancisLawrence]</td>\n",
       "      <td>[WillSmith, AliceBraga, CharlieTahan]</td>\n",
       "      <td>[WillSmith, AliceBraga, FrancisLawrence]</td>\n",
       "      <td>2007.0</td>\n",
       "      <td>2.0</td>\n",
       "      <td>[last, york, immun, man, spread, survivor, inc...</td>\n",
       "    </tr>\n",
       "    <tr>\n",
       "      <th>30770</th>\n",
       "      <td>[action, horror, science, fiction, thriller]</td>\n",
       "      <td>wonder women</td>\n",
       "      <td>[dr, tsu, brilliant, surgeon, exot, island, co...</td>\n",
       "      <td>1973-04-25</td>\n",
       "      <td>[RobertVincentO'Neill]</td>\n",
       "      <td>[NancyKwan, RossHagen, MariaDeAragon]</td>\n",
       "      <td>[NancyKwan]</td>\n",
       "      <td>1973.0</td>\n",
       "      <td>0.0</td>\n",
       "      <td>[insur, exot, transplant, sell, becom, involv,...</td>\n",
       "    </tr>\n",
       "    <tr>\n",
       "      <th>8474</th>\n",
       "      <td>[drama, romance]</td>\n",
       "      <td>waterloo bridge</td>\n",
       "      <td>[eve, world, war, ii, british, offic, revisit,...</td>\n",
       "      <td>1940-05-17</td>\n",
       "      <td>[MervynLeRoy]</td>\n",
       "      <td>[VivienLeigh, RobertTaylor, LucileWatson]</td>\n",
       "      <td>[LucileWatson, MervynLeRoy, VivienLeigh, Rober...</td>\n",
       "      <td>1940.0</td>\n",
       "      <td>0.0</td>\n",
       "      <td>[stay, front, noth, action, fall, hope, famili...</td>\n",
       "    </tr>\n",
       "  </tbody>\n",
       "</table>\n",
       "</div>"
      ],
      "text/plain": [
       "                                                  genres   original_title  \\\n",
       "10306  [drama, horror, action, thriller, science, fic...      i am legend   \n",
       "30770       [action, horror, science, fiction, thriller]     wonder women   \n",
       "8474                                    [drama, romance]  waterloo bridge   \n",
       "\n",
       "                                                overview release_date  \\\n",
       "10306  [robert, nevill, scientist, unabl, stop, sprea...   2007-12-14   \n",
       "30770  [dr, tsu, brilliant, surgeon, exot, island, co...   1973-04-25   \n",
       "8474   [eve, world, war, ii, british, offic, revisit,...   1940-05-17   \n",
       "\n",
       "                director_name                                       cast  \\\n",
       "10306       [FrancisLawrence]      [WillSmith, AliceBraga, CharlieTahan]   \n",
       "30770  [RobertVincentO'Neill]      [NancyKwan, RossHagen, MariaDeAragon]   \n",
       "8474            [MervynLeRoy]  [VivienLeigh, RobertTaylor, LucileWatson]   \n",
       "\n",
       "                                                   names    year  date_label  \\\n",
       "10306           [WillSmith, AliceBraga, FrancisLawrence]  2007.0         2.0   \n",
       "30770                                        [NancyKwan]  1973.0         0.0   \n",
       "8474   [LucileWatson, MervynLeRoy, VivienLeigh, Rober...  1940.0         0.0   \n",
       "\n",
       "                                             descripcion  \n",
       "10306  [last, york, immun, man, spread, survivor, inc...  \n",
       "30770  [insur, exot, transplant, sell, becom, involv,...  \n",
       "8474   [stay, front, noth, action, fall, hope, famili...  "
      ]
     },
     "execution_count": 164,
     "metadata": {},
     "output_type": "execute_result"
    }
   ],
   "source": [
    "df.iloc[index_feed]"
   ]
  },
  {
   "cell_type": "code",
   "execution_count": 165,
   "metadata": {
    "id": "65ea5755cf134478a977c6e045bd46cc"
   },
   "outputs": [],
   "source": [
    "index_reco = recommendation_1.index"
   ]
  },
  {
   "cell_type": "code",
   "execution_count": 166,
   "metadata": {
    "id": "13a0d8680d9745c48af192972a390aff"
   },
   "outputs": [
    {
     "data": {
      "text/html": [
       "<div>\n",
       "<style scoped>\n",
       "    .dataframe tbody tr th:only-of-type {\n",
       "        vertical-align: middle;\n",
       "    }\n",
       "\n",
       "    .dataframe tbody tr th {\n",
       "        vertical-align: top;\n",
       "    }\n",
       "\n",
       "    .dataframe thead th {\n",
       "        text-align: right;\n",
       "    }\n",
       "</style>\n",
       "<table border=\"1\" class=\"dataframe\">\n",
       "  <thead>\n",
       "    <tr style=\"text-align: right;\">\n",
       "      <th></th>\n",
       "      <th>genres</th>\n",
       "      <th>original_title</th>\n",
       "      <th>overview</th>\n",
       "      <th>release_date</th>\n",
       "      <th>director_name</th>\n",
       "      <th>cast</th>\n",
       "      <th>names</th>\n",
       "      <th>year</th>\n",
       "      <th>date_label</th>\n",
       "      <th>descripcion</th>\n",
       "    </tr>\n",
       "  </thead>\n",
       "  <tbody>\n",
       "    <tr>\n",
       "      <th>3293</th>\n",
       "      <td>[action, horror, science, fiction, thriller]</td>\n",
       "      <td>phantasm ii</td>\n",
       "      <td>[mike, releas, psychiatr, hospit, team, old, p...</td>\n",
       "      <td>1988-07-08</td>\n",
       "      <td>[DonCoscarelli]</td>\n",
       "      <td>[JamesLeGros, ReggieBannister, AngusScrimm]</td>\n",
       "      <td>[AngusScrimm, JamesLeGros, DonCoscarelli]</td>\n",
       "      <td>1988.0</td>\n",
       "      <td>1.0</td>\n",
       "      <td>[hospit, man, becom, mike, reggi, tall, must, ...</td>\n",
       "    </tr>\n",
       "    <tr>\n",
       "      <th>3624</th>\n",
       "      <td>[action, horror, thriller, science, fiction]</td>\n",
       "      <td>deepstar six</td>\n",
       "      <td>[crew, experiment, underwat, nuclear, base, fo...</td>\n",
       "      <td>1989-01-13</td>\n",
       "      <td>[SeanS.Cunningham]</td>\n",
       "      <td>[TaureanBlacque, NancyEverhard, GregEvigan]</td>\n",
       "      <td>[SeanS.Cunningham, GregEvigan]</td>\n",
       "      <td>1989.0</td>\n",
       "      <td>1.0</td>\n",
       "      <td>[underwat, live, creatur, base, experiment, th...</td>\n",
       "    </tr>\n",
       "    <tr>\n",
       "      <th>7687</th>\n",
       "      <td>[action, drama, horror, science, fiction, thri...</td>\n",
       "      <td>dead end drive-in</td>\n",
       "      <td>[near, futur, drive, theatr, turn, concentr, c...</td>\n",
       "      <td>1986-08-13</td>\n",
       "      <td>[BrianTrenchard-Smith]</td>\n",
       "      <td>[NedManning, NatalieMcCurry, PeterWhitford]</td>\n",
       "      <td>[BrianTrenchard-Smith]</td>\n",
       "      <td>1986.0</td>\n",
       "      <td>1.0</td>\n",
       "      <td>[carmen, live, better, realli, camp, place, wa...</td>\n",
       "    </tr>\n",
       "    <tr>\n",
       "      <th>2214</th>\n",
       "      <td>[action, thriller, science, fiction, horror]</td>\n",
       "      <td>existenz</td>\n",
       "      <td>[game, design, run, assassin, must, play, late...</td>\n",
       "      <td>1999-04-14</td>\n",
       "      <td>[DavidCronenberg]</td>\n",
       "      <td>[JenniferJasonLeigh, JudeLaw, IanHolm]</td>\n",
       "      <td>[DavidCronenberg, IanHolm, JenniferJasonLeigh,...</td>\n",
       "      <td>1999.0</td>\n",
       "      <td>1.0</td>\n",
       "      <td>[design, assassin, latest, must, determin, dam...</td>\n",
       "    </tr>\n",
       "    <tr>\n",
       "      <th>18007</th>\n",
       "      <td>[horror, action, thriller, science, fiction]</td>\n",
       "      <td>full eclipse</td>\n",
       "      <td>[la, polic, depart, special, team, offic, tale...</td>\n",
       "      <td>1993-11-27</td>\n",
       "      <td>[AnthonyHickox]</td>\n",
       "      <td>[MarioVanPeebles, PatsyKensit, BrucePayne]</td>\n",
       "      <td>[MarioVanPeebles, AnthonyHickox, BrucePayne, P...</td>\n",
       "      <td>1993.0</td>\n",
       "      <td>1.0</td>\n",
       "      <td>[depart, track, special, unconvent, time, crim...</td>\n",
       "    </tr>\n",
       "    <tr>\n",
       "      <th>4049</th>\n",
       "      <td>[horror, science, fiction, thriller, action]</td>\n",
       "      <td>def-con 4</td>\n",
       "      <td>[two, men, woman, circl, globe, satellit, arm,...</td>\n",
       "      <td>1985-03-15</td>\n",
       "      <td>[PaulDonovanDigbyCook]</td>\n",
       "      <td>[LenoreZann, MauryChaykin, KateLynch]</td>\n",
       "      <td>[MauryChaykin]</td>\n",
       "      <td>1985.0</td>\n",
       "      <td>1.0</td>\n",
       "      <td>[stay, remain, later, war, man, survivor, kill...</td>\n",
       "    </tr>\n",
       "    <tr>\n",
       "      <th>1024</th>\n",
       "      <td>[horror, action, thriller, science, fiction]</td>\n",
       "      <td>aliens</td>\n",
       "      <td>[ripley, lifepod, found, salvag, crew, year, l...</td>\n",
       "      <td>1986-07-18</td>\n",
       "      <td>[JamesCameron]</td>\n",
       "      <td>[SigourneyWeaver, MichaelBiehn, JamesRemar]</td>\n",
       "      <td>[SigourneyWeaver, MichaelBiehn, JamesRemar, Ja...</td>\n",
       "      <td>1986.0</td>\n",
       "      <td>1.0</td>\n",
       "      <td>[famili, later, stori, investig, send, search,...</td>\n",
       "    </tr>\n",
       "    <tr>\n",
       "      <th>3929</th>\n",
       "      <td>[action, horror, science, fiction, thriller]</td>\n",
       "      <td>watchers</td>\n",
       "      <td>[boy, take, stray, dog, later, find, ultra, in...</td>\n",
       "      <td>1988-12-02</td>\n",
       "      <td>[JonHess]</td>\n",
       "      <td>[CoreyHaim, MichaelIronside, LalaSloatman]</td>\n",
       "      <td>[CoreyHaim, MichaelIronside]</td>\n",
       "      <td>1988.0</td>\n",
       "      <td>1.0</td>\n",
       "      <td>[runaway, later, ultra, intellig, boy, genet, ...</td>\n",
       "    </tr>\n",
       "    <tr>\n",
       "      <th>16997</th>\n",
       "      <td>[horror, action, thriller, science, fiction]</td>\n",
       "      <td>brain dead</td>\n",
       "      <td>[psycholog, thriller, writer, origin, twilight...</td>\n",
       "      <td>1990-01-16</td>\n",
       "      <td>[AdamSimon]</td>\n",
       "      <td>[BillPullman, BillPaxton, NicholasPryor]</td>\n",
       "      <td>[BillPaxton, BillPullman]</td>\n",
       "      <td>1990.0</td>\n",
       "      <td>1.0</td>\n",
       "      <td>[twilight, nightmar, thriller, tri, machin, ma...</td>\n",
       "    </tr>\n",
       "    <tr>\n",
       "      <th>3060</th>\n",
       "      <td>[action, horror, science, fiction, thriller]</td>\n",
       "      <td>the hidden</td>\n",
       "      <td>[alien, run, america, get, kick, kill, anyth, ...</td>\n",
       "      <td>1987-10-30</td>\n",
       "      <td>[JackSholder]</td>\n",
       "      <td>[KyleMacLachlan, MichaelNouri, ClaudiaChristian]</td>\n",
       "      <td>[KyleMacLachlan, JackSholder, ClaudiaChristian...</td>\n",
       "      <td>1987.0</td>\n",
       "      <td>1.0</td>\n",
       "      <td>[way, borrow, place, goal, dead, kill, kick, n...</td>\n",
       "    </tr>\n",
       "    <tr>\n",
       "      <th>5989</th>\n",
       "      <td>[action, horror, science, fiction, thriller]</td>\n",
       "      <td>death machine</td>\n",
       "      <td>[chaank, armament, experi, ultim, fight, machi...</td>\n",
       "      <td>1994-12-23</td>\n",
       "      <td>[StephenNorrington]</td>\n",
       "      <td>[ElyPouget, BradDourif, WilliamHootkins]</td>\n",
       "      <td>[BradDourif]</td>\n",
       "      <td>1994.0</td>\n",
       "      <td>1.0</td>\n",
       "      <td>[unleash, genius, live, corpor, kill, offic, f...</td>\n",
       "    </tr>\n",
       "    <tr>\n",
       "      <th>3873</th>\n",
       "      <td>[action, comedy, drama, horror, science, ficti...</td>\n",
       "      <td>dead heat</td>\n",
       "      <td>[lapd, polic, offic, roger, morti, kill, arres...</td>\n",
       "      <td>1988-05-06</td>\n",
       "      <td>[MarkGoldblatt]</td>\n",
       "      <td>[TreatWilliams, JoePiscopo, LindsayFrost]</td>\n",
       "      <td>[TreatWilliams]</td>\n",
       "      <td>1988.0</td>\n",
       "      <td>1.0</td>\n",
       "      <td>[carri, offic, arm, polic, lapd, laboratori, o...</td>\n",
       "    </tr>\n",
       "    <tr>\n",
       "      <th>2009</th>\n",
       "      <td>[action, drama, horror, science, fiction, thri...</td>\n",
       "      <td>godzilla 1985</td>\n",
       "      <td>[origin, releas, japan, return, godzilla, heav...</td>\n",
       "      <td>1984-12-15</td>\n",
       "      <td>[KojiHashimotoR.J.Kizer]</td>\n",
       "      <td>[KenTanaka, YasukoSawaguchi, KeijuKobayashi]</td>\n",
       "      <td>[]</td>\n",
       "      <td>1984.0</td>\n",
       "      <td>1.0</td>\n",
       "      <td>[king, ignor, also, edit, giant, destruct, ser...</td>\n",
       "    </tr>\n",
       "    <tr>\n",
       "      <th>3924</th>\n",
       "      <td>[action, horror, science, fiction, thriller]</td>\n",
       "      <td>they live</td>\n",
       "      <td>[nada, luck, construct, worker, discov, pair, ...</td>\n",
       "      <td>1988-11-23</td>\n",
       "      <td>[JohnCarpenter]</td>\n",
       "      <td>[RoddyPiper, KeithDavid, MegFoster]</td>\n",
       "      <td>[RoddyPiper, JohnCarpenter, KeithDavid, MegFos...</td>\n",
       "      <td>1988.0</td>\n",
       "      <td>1.0</td>\n",
       "      <td>[stay, normal, like, ugli, special, realli, au...</td>\n",
       "    </tr>\n",
       "  </tbody>\n",
       "</table>\n",
       "</div>"
      ],
      "text/plain": [
       "                                                  genres     original_title  \\\n",
       "3293        [action, horror, science, fiction, thriller]        phantasm ii   \n",
       "3624        [action, horror, thriller, science, fiction]       deepstar six   \n",
       "7687   [action, drama, horror, science, fiction, thri...  dead end drive-in   \n",
       "2214        [action, thriller, science, fiction, horror]           existenz   \n",
       "18007       [horror, action, thriller, science, fiction]       full eclipse   \n",
       "4049        [horror, science, fiction, thriller, action]          def-con 4   \n",
       "1024        [horror, action, thriller, science, fiction]             aliens   \n",
       "3929        [action, horror, science, fiction, thriller]           watchers   \n",
       "16997       [horror, action, thriller, science, fiction]         brain dead   \n",
       "3060        [action, horror, science, fiction, thriller]         the hidden   \n",
       "5989        [action, horror, science, fiction, thriller]      death machine   \n",
       "3873   [action, comedy, drama, horror, science, ficti...          dead heat   \n",
       "2009   [action, drama, horror, science, fiction, thri...      godzilla 1985   \n",
       "3924        [action, horror, science, fiction, thriller]          they live   \n",
       "\n",
       "                                                overview release_date  \\\n",
       "3293   [mike, releas, psychiatr, hospit, team, old, p...   1988-07-08   \n",
       "3624   [crew, experiment, underwat, nuclear, base, fo...   1989-01-13   \n",
       "7687   [near, futur, drive, theatr, turn, concentr, c...   1986-08-13   \n",
       "2214   [game, design, run, assassin, must, play, late...   1999-04-14   \n",
       "18007  [la, polic, depart, special, team, offic, tale...   1993-11-27   \n",
       "4049   [two, men, woman, circl, globe, satellit, arm,...   1985-03-15   \n",
       "1024   [ripley, lifepod, found, salvag, crew, year, l...   1986-07-18   \n",
       "3929   [boy, take, stray, dog, later, find, ultra, in...   1988-12-02   \n",
       "16997  [psycholog, thriller, writer, origin, twilight...   1990-01-16   \n",
       "3060   [alien, run, america, get, kick, kill, anyth, ...   1987-10-30   \n",
       "5989   [chaank, armament, experi, ultim, fight, machi...   1994-12-23   \n",
       "3873   [lapd, polic, offic, roger, morti, kill, arres...   1988-05-06   \n",
       "2009   [origin, releas, japan, return, godzilla, heav...   1984-12-15   \n",
       "3924   [nada, luck, construct, worker, discov, pair, ...   1988-11-23   \n",
       "\n",
       "                  director_name  \\\n",
       "3293            [DonCoscarelli]   \n",
       "3624         [SeanS.Cunningham]   \n",
       "7687     [BrianTrenchard-Smith]   \n",
       "2214          [DavidCronenberg]   \n",
       "18007           [AnthonyHickox]   \n",
       "4049     [PaulDonovanDigbyCook]   \n",
       "1024             [JamesCameron]   \n",
       "3929                  [JonHess]   \n",
       "16997               [AdamSimon]   \n",
       "3060              [JackSholder]   \n",
       "5989        [StephenNorrington]   \n",
       "3873            [MarkGoldblatt]   \n",
       "2009   [KojiHashimotoR.J.Kizer]   \n",
       "3924            [JohnCarpenter]   \n",
       "\n",
       "                                                   cast  \\\n",
       "3293        [JamesLeGros, ReggieBannister, AngusScrimm]   \n",
       "3624        [TaureanBlacque, NancyEverhard, GregEvigan]   \n",
       "7687        [NedManning, NatalieMcCurry, PeterWhitford]   \n",
       "2214             [JenniferJasonLeigh, JudeLaw, IanHolm]   \n",
       "18007        [MarioVanPeebles, PatsyKensit, BrucePayne]   \n",
       "4049              [LenoreZann, MauryChaykin, KateLynch]   \n",
       "1024        [SigourneyWeaver, MichaelBiehn, JamesRemar]   \n",
       "3929         [CoreyHaim, MichaelIronside, LalaSloatman]   \n",
       "16997          [BillPullman, BillPaxton, NicholasPryor]   \n",
       "3060   [KyleMacLachlan, MichaelNouri, ClaudiaChristian]   \n",
       "5989           [ElyPouget, BradDourif, WilliamHootkins]   \n",
       "3873          [TreatWilliams, JoePiscopo, LindsayFrost]   \n",
       "2009       [KenTanaka, YasukoSawaguchi, KeijuKobayashi]   \n",
       "3924                [RoddyPiper, KeithDavid, MegFoster]   \n",
       "\n",
       "                                                   names    year  date_label  \\\n",
       "3293           [AngusScrimm, JamesLeGros, DonCoscarelli]  1988.0         1.0   \n",
       "3624                      [SeanS.Cunningham, GregEvigan]  1989.0         1.0   \n",
       "7687                              [BrianTrenchard-Smith]  1986.0         1.0   \n",
       "2214   [DavidCronenberg, IanHolm, JenniferJasonLeigh,...  1999.0         1.0   \n",
       "18007  [MarioVanPeebles, AnthonyHickox, BrucePayne, P...  1993.0         1.0   \n",
       "4049                                      [MauryChaykin]  1985.0         1.0   \n",
       "1024   [SigourneyWeaver, MichaelBiehn, JamesRemar, Ja...  1986.0         1.0   \n",
       "3929                        [CoreyHaim, MichaelIronside]  1988.0         1.0   \n",
       "16997                          [BillPaxton, BillPullman]  1990.0         1.0   \n",
       "3060   [KyleMacLachlan, JackSholder, ClaudiaChristian...  1987.0         1.0   \n",
       "5989                                        [BradDourif]  1994.0         1.0   \n",
       "3873                                     [TreatWilliams]  1988.0         1.0   \n",
       "2009                                                  []  1984.0         1.0   \n",
       "3924   [RoddyPiper, JohnCarpenter, KeithDavid, MegFos...  1988.0         1.0   \n",
       "\n",
       "                                             descripcion  \n",
       "3293   [hospit, man, becom, mike, reggi, tall, must, ...  \n",
       "3624   [underwat, live, creatur, base, experiment, th...  \n",
       "7687   [carmen, live, better, realli, camp, place, wa...  \n",
       "2214   [design, assassin, latest, must, determin, dam...  \n",
       "18007  [depart, track, special, unconvent, time, crim...  \n",
       "4049   [stay, remain, later, war, man, survivor, kill...  \n",
       "1024   [famili, later, stori, investig, send, search,...  \n",
       "3929   [runaway, later, ultra, intellig, boy, genet, ...  \n",
       "16997  [twilight, nightmar, thriller, tri, machin, ma...  \n",
       "3060   [way, borrow, place, goal, dead, kill, kick, n...  \n",
       "5989   [unleash, genius, live, corpor, kill, offic, f...  \n",
       "3873   [carri, offic, arm, polic, lapd, laboratori, o...  \n",
       "2009   [king, ignor, also, edit, giant, destruct, ser...  \n",
       "3924   [stay, normal, like, ugli, special, realli, au...  "
      ]
     },
     "execution_count": 166,
     "metadata": {},
     "output_type": "execute_result"
    }
   ],
   "source": [
    "df.iloc[index_reco]"
   ]
  },
  {
   "cell_type": "markdown",
   "metadata": {
    "id": "b4d59646c01245d383c4abd595dccdf4"
   },
   "source": [
    "As we can see most of the film has the same genre and they are near the mean time of the all 3 released dates, so we can see that there is a good recommendation, but we can't check if it's robust, because user has to watch all the films to give an opinion of how good is our recommendation."
   ]
  }
 ],
 "metadata": {
  "colab": {
   "collapsed_sections": [],
   "name": "recommender.ipynb",
   "provenance": []
  },
  "kernelspec": {
   "display_name": "Python 3 (ipykernel)",
   "language": "python",
   "name": "python3"
  },
  "language_info": {
   "codemirror_mode": {
    "name": "ipython",
    "version": 3
   },
   "file_extension": ".py",
   "mimetype": "text/x-python",
   "name": "python",
   "nbconvert_exporter": "python",
   "pygments_lexer": "ipython3",
   "version": "3.9.7"
  }
 },
 "nbformat": 4,
 "nbformat_minor": 1
}
